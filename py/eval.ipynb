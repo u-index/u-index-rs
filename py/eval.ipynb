{
 "cells": [
  {
   "cell_type": "code",
   "execution_count": 1,
   "id": "1bdaa87d-ce36-4d2e-bb09-09856f9d7f65",
   "metadata": {
    "collapsed": false,
    "jupyter": {
     "outputs_hidden": false
    }
   },
   "outputs": [
    {
     "name": "stderr",
     "output_type": "stream",
     "text": [
      "Reading..\n",
      "\u001b[2m2024-09-30T16:34:16.466140Z\u001b[0m \u001b[35mTRACE\u001b[0m \u001b[2muindex\u001b[0m\u001b[2m:\u001b[0m Read human genome: 25 chromosomes of total length 3117Mbp and size 779MB\n",
      "\u001b[2m2024-09-30T16:34:16.471011Z\u001b[0m \u001b[35mTRACE\u001b[0m \u001b[2muindex::utils\u001b[0m\u001b[2m:\u001b[0m  Reading                       : 2.565s\n"
     ]
    }
   ],
   "source": [
    "import uindex as u\n",
    "import sys\n",
    "\n",
    "def p(*args):\n",
    "    print(*args, flush=True, file=sys.stderr)\n",
    "\n",
    "def print_stats(stats):\n",
    "    for stat, val in sorted(stats.items()):\n",
    "        p(f'{stat:<30}: {val:>13.2f}')\n",
    "\n",
    "p('Reading..')\n",
    "text = u.read()\n",
    "num_queries = 1_000_000\n",
    "_queries = []\n",
    "_ql = 0\n",
    "# k=0 to disable minimizer space\n",
    "# Returns: (space, total construction time, query time)\n",
    "def run(ql, l, k, remap, store_ms_seq, compress, cacheline_ef=False):\n",
    "    p('Building..')\n",
    "    if k == 0:\n",
    "        ui = u.build_plain(text)\n",
    "    else:\n",
    "        ui = u.build_minimized(text, k, l, remap, store_ms_seq, compress, cacheline_ef)\n",
    "    \n",
    "    global _ql, _queries\n",
    "    if ql != _ql or not _queries:\n",
    "        p('Regenerating queries..')\n",
    "        _queries = u.gen_queries(ui, ql, num_queries)\n",
    "        _ql = ql\n",
    "        \n",
    "    p('Benching..')\n",
    "    bench_time = u.bench(ui, _queries)\n",
    "    p(f'Benching: {bench_time}s')\n",
    "\n",
    "    p('Stats')\n",
    "    stats = u.stats(ui)\n",
    "\n",
    "    build_time = stats['Sketch'] + stats['Build']\n",
    "\n",
    "    stats['query_length'] = ql\n",
    "    stats['l'] = l\n",
    "    stats['k'] = k\n",
    "    stats['remap'] = remap\n",
    "    stats['store_ms_seq'] = store_ms_seq\n",
    "    stats['compress'] = compress\n",
    "    stats['build_time'] = build_time\n",
    "    stats['query_time'] = bench_time\n",
    "    print_stats(stats)\n",
    "\n",
    "    return stats\n",
    "    \n"
   ]
  },
  {
   "cell_type": "code",
   "execution_count": 4,
   "id": "1d84b9d2-ea06-4c61-820a-0df8378f87f6",
   "metadata": {},
   "outputs": [
    {
     "name": "stderr",
     "output_type": "stream",
     "text": [
      "query_length                  :        256.00\n"
     ]
    },
    {
     "name": "stderr",
     "output_type": "stream",
     "text": [
      "query_matches                 :    1808654.00\n"
     ]
    },
    {
     "name": "stderr",
     "output_type": "stream",
     "text": [
      "query_misaligned_ms_pos       :          0.00\n"
     ]
    },
    {
     "name": "stderr",
     "output_type": "stream",
     "text": [
      "query_mismatches              :          0.00\n"
     ]
    },
    {
     "name": "stderr",
     "output_type": "stream",
     "text": [
      "query_out_of_bounds           :          0.00\n"
     ]
    },
    {
     "name": "stderr",
     "output_type": "stream",
     "text": [
      "query_time                    :          0.33\n"
     ]
    },
    {
     "name": "stderr",
     "output_type": "stream",
     "text": [
      "query_too_short               :          0.00\n"
     ]
    },
    {
     "name": "stderr",
     "output_type": "stream",
     "text": [
      "query_unknown_minimizer       :          0.00\n"
     ]
    },
    {
     "name": "stderr",
     "output_type": "stream",
     "text": [
      "remap                         :          0.00\n"
     ]
    },
    {
     "name": "stderr",
     "output_type": "stream",
     "text": [
      "seq_size_MB                   :        248.39\n"
     ]
    },
    {
     "name": "stderr",
     "output_type": "stream",
     "text": [
      "sequence length               :  248387328.00\n"
     ]
    },
    {
     "name": "stderr",
     "output_type": "stream",
     "text": [
      "sketch_size_MB                :          0.00\n"
     ]
    },
    {
     "name": "stderr",
     "output_type": "stream",
     "text": [
      "total_size_MB                 :       1241.94\n"
     ]
    },
    {
     "name": "stderr",
     "output_type": "stream",
     "text": [
      "\u001b[2m2024-09-24T01:23:38.327009Z\u001b[0m \u001b[32m INFO\u001b[0m \u001b[2muindex\u001b[0m\u001b[2m:\u001b[0m Query stats: QueryStats {\n",
      "    too_short: 0,\n",
      "    unknown_minimizer: 0,\n",
      "    misaligned_ms_pos: 0,\n",
      "    out_of_bounds: 0,\n",
      "    mismatches: 0,\n",
      "    matches: 1808654,\n",
      "}\n",
      "Building..\n"
     ]
    },
    {
     "name": "stderr",
     "output_type": "stream",
     "text": [
      "Benching..\n"
     ]
    },
    {
     "name": "stderr",
     "output_type": "stream",
     "text": [
      "\u001b[2m2024-09-24T01:23:40.308914Z\u001b[0m \u001b[35mTRACE\u001b[0m \u001b[2muindex::sketchers::minimizers\u001b[0m\u001b[2m:\u001b[0m Sequence length 248387328\n",
      "Benching: 1.601146368s\n"
     ]
    },
    {
     "name": "stderr",
     "output_type": "stream",
     "text": [
      "\u001b[2m2024-09-24T01:23:41.199073Z\u001b[0m \u001b[35mTRACE\u001b[0m \u001b[2muindex::sketchers::minimizers\u001b[0m\u001b[2m:\u001b[0m Num minimizers: 8546116\n",
      "\u001b[2m2024-09-24T01:23:41.199082Z\u001b[0m \u001b[35mTRACE\u001b[0m \u001b[2muindex::utils\u001b[0m\u001b[2m:\u001b[0m   computing_minimizers          : 890.156ms\n",
      "\u001b[2m2024-09-24T01:23:41.333493Z\u001b[0m \u001b[35mTRACE\u001b[0m \u001b[2muindex::sketchers::minimizers\u001b[0m\u001b[2m:\u001b[0m Num distinct minimizers: 11548\n",
      "\u001b[2m2024-09-24T01:23:41.333506Z\u001b[0m \u001b[35mTRACE\u001b[0m \u001b[2muindex::sketchers::minimizers\u001b[0m\u001b[2m:\u001b[0m kmer_width: 14 bits\n",
      "\u001b[2m2024-09-24T01:23:41.333508Z\u001b[0m \u001b[35mTRACE\u001b[0m \u001b[2muindex::sketchers::minimizers\u001b[0m\u001b[2m:\u001b[0m kmer_width: 2 bytes\n",
      "\u001b[2m2024-09-24T01:23:41.333510Z\u001b[0m \u001b[35mTRACE\u001b[0m \u001b[2muindex::utils\u001b[0m\u001b[2m:\u001b[0m   Building remap                : 134.424ms\n",
      "\u001b[2m2024-09-24T01:23:41.381042Z\u001b[0m \u001b[35mTRACE\u001b[0m \u001b[2muindex::utils\u001b[0m\u001b[2m:\u001b[0m   Building EF                   : 47.524ms\n",
      "\u001b[2m2024-09-24T01:23:41.543088Z\u001b[0m \u001b[35mTRACE\u001b[0m \u001b[2muindex::utils\u001b[0m\u001b[2m:\u001b[0m   Remapping                     : 162.034ms\n",
      "\u001b[2m2024-0Stats\n"
     ]
    },
    {
     "name": "stderr",
     "output_type": "stream",
     "text": [
      "9-24T01:23:41.543097Z\u001b[0m \u001b[35mTRACE\u001b[0m \u001b[2muindex::utils\u001b[0m\u001b[2m:\u001b[0m  Sketch                        : 1.234s\n",
      "\u001b[2m2024-09-24T01:23:41.543099Z\u001b[0m \u001b[35mTRACE\u001b[0m \u001b[2muindex::indices::sa_divsufsort\u001b[0m\u001b[2m:\u001b[0m MS sequence length 17092232\n",
      "\u001b[2m2024-09-24T01:23:42.700087Z\u001b[0m \u001b[35mTRACE\u001b[0m \u001b[2muindex::utils\u001b[0m\u001b[2m:\u001b[0m   Building suffix array         : 1.157s\n",
      "\u001b[2m2024-09-24T01:23:42.700097Z\u001b[0m \u001b[35mTRACE\u001b[0m \u001b[2muindex::utils\u001b[0m\u001b[2m:\u001b[0m  Build                         : 1.157s\n",
      "Build                         :          1.16\n"
     ]
    },
    {
     "name": "stderr",
     "output_type": "stream",
     "text": [
      "Building EF                   :          0.05\n"
     ]
    },
    {
     "name": "stderr",
     "output_type": "stream",
     "text": [
      "Building remap                :          0.13\n"
     ]
    },
    {
     "name": "stderr",
     "output_type": "stream",
     "text": [
      "Building suffix array         :          1.16\n"
     ]
    },
    {
     "name": "stderr",
     "output_type": "stream",
     "text": [
      "Remapping                     :          0.16\n"
     ]
    },
    {
     "name": "stderr",
     "output_type": "stream",
     "text": [
      "Sketch                        :          1.23\n"
     ]
    },
    {
     "name": "stderr",
     "output_type": "stream",
     "text": [
      "build_time                    :          2.39\n"
     ]
    },
    {
     "name": "stderr",
     "output_type": "stream",
     "text": [
      "compress                      :          0.00\n"
     ]
    },
    {
     "name": "stderr",
     "output_type": "stream",
     "text": [
      "computing_minimizers          :          0.89\n"
     ]
    },
    {
     "name": "stderr",
     "output_type": "stream",
     "text": [
      "index_size_MB                 :         85.46\n"
     ]
    },
    {
     "name": "stderr",
     "output_type": "stream",
     "text": [
      "k                             :          8.00\n"
     ]
    },
    {
     "name": "stderr",
     "output_type": "stream",
     "text": [
      "kmer_width                    :          2.00\n"
     ]
    },
    {
     "name": "stderr",
     "output_type": "stream",
     "text": [
      "kmer_width_bits               :         14.00\n"
     ]
    },
    {
     "name": "stderr",
     "output_type": "stream",
     "text": [
      "l                             :         64.00\n"
     ]
    },
    {
     "name": "stderr",
     "output_type": "stream",
     "text": [
      "num_distinct_minimizers       :      11548.00\n"
     ]
    },
    {
     "name": "stderr",
     "output_type": "stream",
     "text": [
      "num_minimizers                :    8546116.00\n"
     ]
    },
    {
     "name": "stderr",
     "output_type": "stream",
     "text": [
      "query_length                  :        256.00\n"
     ]
    },
    {
     "name": "stderr",
     "output_type": "stream",
     "text": [
      "query_matches                 :    1808654.00\n"
     ]
    },
    {
     "name": "stderr",
     "output_type": "stream",
     "text": [
      "query_misaligned_ms_pos       :          0.00\n"
     ]
    },
    {
     "name": "stderr",
     "output_type": "stream",
     "text": [
      "query_mismatches              :   10925919.00\n"
     ]
    },
    {
     "name": "stderr",
     "output_type": "stream",
     "text": [
      "query_out_of_bounds           :          0.00\n"
     ]
    },
    {
     "name": "stderr",
     "output_type": "stream",
     "text": [
      "query_time                    :          1.60\n"
     ]
    },
    {
     "name": "stderr",
     "output_type": "stream",
     "text": [
      "query_too_short               :          0.00\n"
     ]
    },
    {
     "name": "stderr",
     "output_type": "stream",
     "text": [
      "query_unknown_minimizer       :          0.00\n"
     ]
    },
    {
     "name": "stderr",
     "output_type": "stream",
     "text": [
      "remap                         :          1.00\n"
     ]
    },
    {
     "name": "stderr",
     "output_type": "stream",
     "text": [
      "seq_size_MB                   :        248.39\n"
     ]
    },
    {
     "name": "stderr",
     "output_type": "stream",
     "text": [
      "sequence length               :   17092232.00\n"
     ]
    },
    {
     "name": "stderr",
     "output_type": "stream",
     "text": [
      "sequence_length               :  248387328.00\n"
     ]
    },
    {
     "name": "stderr",
     "output_type": "stream",
     "text": [
      "sketch_size_MB                :          7.71\n"
     ]
    },
    {
     "name": "stderr",
     "output_type": "stream",
     "text": [
      "total_size_MB                 :         93.17\n"
     ]
    },
    {
     "name": "stderr",
     "output_type": "stream",
     "text": [
      "Building..\n",
      "\u001b[2m2024-09-24T01:23:44.315994Z\u001b[0m \u001b[32m INFO\u001b[0m \u001b[2muindex\u001b[0m\u001b[2m:\u001b[0m Query stats: QueryStats {\n",
      "    too_short: 0,\n",
      "    unknown_minimizer: 0,\n",
      "    misaligned_ms_pos: 0,\n",
      "    out_of_bounds: 0,\n",
      "    mismatches: 10925919,\n",
      "    matches: 1808654,\n",
      "}\n"
     ]
    },
    {
     "name": "stderr",
     "output_type": "stream",
     "text": [
      "Benching..\n",
      "\u001b[2m2024-09-24T01:23:46.277440Z\u001b[0m \u001b[35mTRACE\u001b[0m \u001b[2muindex::sketchers::minimizers\u001b[0m\u001b[2m:\u001b[0m Sequence length 248387328\n",
      "\u001b[2m2024-09-24T01:23:47.169559Z\u001b[0m \u001b[35mTRACE\u001b[0m \u001b[2muindex::sketchers::minimizers\u001b[0m\u001b[2m:\u001b[0m Num minimizers: 8546116\n",
      "\u001b[2m2024-09-24T01:23:47.169567Z\u001b[0m \u001b[35mTRACE\u001b[0m \u001b[2muindex::utils\u001b[0m\u001b[2m:\u001b[0m   computing_minimizers          : 892.116ms\n",
      "\u001b[2m2024-09-24T01:23:47.304627Z\u001b[0m \u001b[35mTRACE\u001b[0m \u001b[2muindex::sketchers::minimizers\u001b[0m\u001b[2m:\u001b[0m Num distinct minimizers: 11548\n",
      "\u001b[2m2024-09-24T01:23:47.304633Z\u001b[0m \u001b[35mTRACE\u001b[0m \u001b[2muindex::sketchers::minimizers\u001b[0m\u001b[2m:\u001b[0m kmer_width: 14 bits\n",
      "\u001b[2m2024-09-24T01:23:47.304634Z\u001b[0m \u001b[35mTRACE\u001b[0m \u001b[2muindex::sketchers::minimizers\u001b[0m\u001b[2m:\u001b[0m kmer_width: 2 bytes\n",
      "\u001b[2m2024-09-24T01:23:47.304636Z\u001b[0m \u001b[35mTRACE\u001b[0m \u001b[2muindex::utils\u001b[0m\u001b[2m:\u001b[0m   Building remap                : 135.065ms\n",
      "\u001b[2m2024-09-24T01:23:47.350919Z\u001b[0m \u001b[35mTRACE\u001b[0m \u001b[2muindex::utils\u001b[0m\u001b[2m:\u001b[0m   Building EF                   : 46.275ms\n",
      "\u001b[2m2024-09-24T01:23:47.513981Z\u001b[0m \u001b[35mTRACE\u001b[0m \u001b[2muindex::utils\u001b[0m\u001b[2m:\u001b[0m   Remapping                     : 163.053ms\n",
      "\u001b[2m2024-0"
     ]
    },
    {
     "name": "stderr",
     "output_type": "stream",
     "text": [
      "9-24T01:23:47.513988Z\u001b[0m \u001b[35mTRACE\u001b[0m \u001b[2muindex::utils\u001b[0m\u001b[2m:\u001b[0m  Sketch                        : 1.237s\n",
      "\u001b[2m2024-09-24T01:23:47.513991Z\u001b[0m \u001b[35mTRACE\u001b[0m \u001b[2muindex::indices::sa_divsufsort\u001b[0m\u001b[2m:\u001b[0m MS sequence length 17092232\n",
      "\u001b[2m2024-09-24T01:23:48.685114Z\u001b[0m \u001b[35mTRACE\u001b[0m \u001b[2muindex::utils\u001b[0m\u001b[2m:\u001b[0m   Building suffix array         : 1.171s\n",
      "\u001b[2m2024-09-24T01:23:48.733925Z\u001b[0m \u001b[35mTRACE\u001b[0m \u001b[2muindex::utils\u001b[0m\u001b[2m:\u001b[0m  Build                         : 1.220s\n"
     ]
    },
    {
     "name": "stderr",
     "output_type": "stream",
     "text": [
      "Benching: 1.433260119s\n"
     ]
    },
    {
     "name": "stderr",
     "output_type": "stream",
     "text": [
      "Stats\n"
     ]
    },
    {
     "name": "stderr",
     "output_type": "stream",
     "text": [
      "Build                         :          1.22\n"
     ]
    },
    {
     "name": "stderr",
     "output_type": "stream",
     "text": [
      "Building EF                   :          0.05\n"
     ]
    },
    {
     "name": "stderr",
     "output_type": "stream",
     "text": [
      "Building remap                :          0.14\n"
     ]
    },
    {
     "name": "stderr",
     "output_type": "stream",
     "text": [
      "Building suffix array         :          1.17\n"
     ]
    },
    {
     "name": "stderr",
     "output_type": "stream",
     "text": [
      "Remapping                     :          0.16\n"
     ]
    },
    {
     "name": "stderr",
     "output_type": "stream",
     "text": [
      "Sketch                        :          1.24\n"
     ]
    },
    {
     "name": "stderr",
     "output_type": "stream",
     "text": [
      "build_time                    :          2.46\n"
     ]
    },
    {
     "name": "stderr",
     "output_type": "stream",
     "text": [
      "compress                      :          1.00\n"
     ]
    },
    {
     "name": "stderr",
     "output_type": "stream",
     "text": [
      "computing_minimizers          :          0.89\n"
     ]
    },
    {
     "name": "stderr",
     "output_type": "stream",
     "text": [
      "index_size_MB                 :         51.28\n"
     ]
    },
    {
     "name": "stderr",
     "output_type": "stream",
     "text": [
      "k                             :          8.00\n"
     ]
    },
    {
     "name": "stderr",
     "output_type": "stream",
     "text": [
      "kmer_width                    :          2.00\n"
     ]
    },
    {
     "name": "stderr",
     "output_type": "stream",
     "text": [
      "kmer_width_bits               :         14.00\n"
     ]
    },
    {
     "name": "stderr",
     "output_type": "stream",
     "text": [
      "l                             :         64.00\n"
     ]
    },
    {
     "name": "stderr",
     "output_type": "stream",
     "text": [
      "num_distinct_minimizers       :      11548.00\n"
     ]
    },
    {
     "name": "stderr",
     "output_type": "stream",
     "text": [
      "num_minimizers                :    8546116.00\n"
     ]
    },
    {
     "name": "stderr",
     "output_type": "stream",
     "text": [
      "query_length                  :        256.00\n"
     ]
    },
    {
     "name": "stderr",
     "output_type": "stream",
     "text": [
      "query_matches                 :    1808654.00\n"
     ]
    },
    {
     "name": "stderr",
     "output_type": "stream",
     "text": [
      "query_misaligned_ms_pos       :          0.00\n"
     ]
    },
    {
     "name": "stderr",
     "output_type": "stream",
     "text": [
      "query_mismatches              :   10925919.00\n"
     ]
    },
    {
     "name": "stderr",
     "output_type": "stream",
     "text": [
      "query_out_of_bounds           :          0.00\n"
     ]
    },
    {
     "name": "stderr",
     "output_type": "stream",
     "text": [
      "query_time                    :          1.43\n"
     ]
    },
    {
     "name": "stderr",
     "output_type": "stream",
     "text": [
      "query_too_short               :          0.00\n"
     ]
    },
    {
     "name": "stderr",
     "output_type": "stream",
     "text": [
      "query_unknown_minimizer       :          0.00\n"
     ]
    },
    {
     "name": "stderr",
     "output_type": "stream",
     "text": [
      "remap                         :          1.00\n"
     ]
    },
    {
     "name": "stderr",
     "output_type": "stream",
     "text": [
      "seq_size_MB                   :        248.39\n"
     ]
    },
    {
     "name": "stderr",
     "output_type": "stream",
     "text": [
      "sequence length               :   17092232.00\n"
     ]
    },
    {
     "name": "stderr",
     "output_type": "stream",
     "text": [
      "sequence_length               :  248387328.00\n"
     ]
    },
    {
     "name": "stderr",
     "output_type": "stream",
     "text": [
      "sketch_size_MB                :          7.71\n"
     ]
    },
    {
     "name": "stderr",
     "output_type": "stream",
     "text": [
      "total_size_MB                 :         58.99\n"
     ]
    },
    {
     "name": "stderr",
     "output_type": "stream",
     "text": [
      "Building..\n",
      "\u001b[2m2024-09-24T01:23:50.180870Z\u001b[0m \u001b[32m INFO\u001b[0m \u001b[2muindex\u001b[0m\u001b[2m:\u001b[0m Query stats: QueryStats {\n",
      "    too_short: 0,\n",
      "    unknown_minimizer: 0,\n",
      "    misaligned_ms_pos: 0,\n",
      "    out_of_bounds: 0,\n",
      "    mismatches: 10925919,\n",
      "    matches: 1808654,\n",
      "}\n"
     ]
    },
    {
     "name": "stderr",
     "output_type": "stream",
     "text": [
      "Benching..\n"
     ]
    },
    {
     "name": "stderr",
     "output_type": "stream",
     "text": [
      "\u001b[2m2024-09-24T01:23:52.146962Z\u001b[0m \u001b[35mTRACE\u001b[0m \u001b[2muindex::sketchers::minimizers\u001b[0m\u001b[2m:\u001b[0m Sequence length 248387328\n",
      "\u001b[2m2024-09-24T01:23:53.038333Z\u001b[0m \u001b[35mTRACE\u001b[0m \u001b[2muindex::sketchers::minimizers\u001b[0m\u001b[2m:\u001b[0m Num minimizers: 8546116\n",
      "\u001b[2m2024-09-24T01:23:53.038341Z\u001b[0m \u001b[35mTRACE\u001b[0m \u001b[2muindex::sketchers::minimizers\u001b[0m\u001b[2m:\u001b[0m kmer_width: 2 bytes\n",
      "\u001b[2m2024-09-24T01:23:53.038344Z\u001b[0m \u001b[35mTRACE\u001b[0m \u001b[2muindex::utils\u001b[0m\u001b[2m:\u001b[0m   computing_minimizers          : 891.371ms\n",
      "\u001b[2m2024-09-24T01:23:53.084488Z\u001b[0m \u001b[35mTRACE\u001b[0m \u001b[2muindex::utils\u001b[0m\u001b[2m:\u001b[0m   Building EF                   : 46.138ms\n",
      "\u001b[2m2024-09-24T01:23:53.107305Z\u001b[0m \u001b[35mTRACE\u001b[0m \u001b[2muindex::utils\u001b[0m\u001b[2m:\u001b[0m   Remapping                     : 22.809ms\n",
      "\u001b[2m2024-09-24T01:23:53.107312Z\u001b[0m \u001b[35mTRACE\u001b[0m \u001b[2muindex::utils\u001b[0m\u001b[2m:\u001b[0m  Sketch                        : 960.352ms\n",
      "\u001b[2m2024-09-24T01:23:53.107314Z\u001b[0m \u001b[35mTRACE\u001b[0m \u001b[2muindex::indices::sa_divsufsort\u001b[0m\u001b[2m:\u001b[0m MS sequence length 17092232\n",
      "\u001b[2m2024-09-24T01:23:54.009036Z\u001b[0m \u001b[35mTRACE\u001b[0m \u001b[2muindex::utils\u001b[0m\u001b[2m:\u001b[0m   Building suffix array         : 901.720ms\n",
      "\u001b[2m2024-09-24T01:23:54.009045Z\u001b[0m \u001b[35mTRACE\u001b[0m \u001b[2muindex::utils\u001b[0m\u001b[2m:\u001b[0m  Build                         : 901.732ms\n"
     ]
    },
    {
     "name": "stderr",
     "output_type": "stream",
     "text": [
      "Benching: 1.4007576880000001s\n"
     ]
    },
    {
     "name": "stderr",
     "output_type": "stream",
     "text": [
      "Stats\n"
     ]
    },
    {
     "name": "stderr",
     "output_type": "stream",
     "text": [
      "Build                         :          0.90\n"
     ]
    },
    {
     "name": "stderr",
     "output_type": "stream",
     "text": [
      "Building EF                   :          0.05\n"
     ]
    },
    {
     "name": "stderr",
     "output_type": "stream",
     "text": [
      "Building suffix array         :          0.90\n"
     ]
    },
    {
     "name": "stderr",
     "output_type": "stream",
     "text": [
      "Remapping                     :          0.02\n"
     ]
    },
    {
     "name": "stderr",
     "output_type": "stream",
     "text": [
      "Sketch                        :          0.96\n"
     ]
    },
    {
     "name": "stderr",
     "output_type": "stream",
     "text": [
      "build_time                    :          1.86\n"
     ]
    },
    {
     "name": "stderr",
     "output_type": "stream",
     "text": [
      "compress                      :          0.00\n"
     ]
    },
    {
     "name": "stderr",
     "output_type": "stream",
     "text": [
      "computing_minimizers          :          0.89\n"
     ]
    },
    {
     "name": "stderr",
     "output_type": "stream",
     "text": [
      "index_size_MB                 :         85.46\n"
     ]
    },
    {
     "name": "stderr",
     "output_type": "stream",
     "text": [
      "k                             :          8.00\n"
     ]
    },
    {
     "name": "stderr",
     "output_type": "stream",
     "text": [
      "kmer_width                    :          2.00\n"
     ]
    },
    {
     "name": "stderr",
     "output_type": "stream",
     "text": [
      "kmer_width_bits               :         16.00\n"
     ]
    },
    {
     "name": "stderr",
     "output_type": "stream",
     "text": [
      "l                             :         64.00\n"
     ]
    },
    {
     "name": "stderr",
     "output_type": "stream",
     "text": [
      "num_minimizers                :    8546116.00\n"
     ]
    },
    {
     "name": "stderr",
     "output_type": "stream",
     "text": [
      "query_length                  :        256.00\n"
     ]
    },
    {
     "name": "stderr",
     "output_type": "stream",
     "text": [
      "query_matches                 :    1808654.00\n"
     ]
    },
    {
     "name": "stderr",
     "output_type": "stream",
     "text": [
      "query_misaligned_ms_pos       :       5696.00\n"
     ]
    },
    {
     "name": "stderr",
     "output_type": "stream",
     "text": [
      "query_mismatches              :   10925919.00\n"
     ]
    },
    {
     "name": "stderr",
     "output_type": "stream",
     "text": [
      "query_out_of_bounds           :          0.00\n"
     ]
    },
    {
     "name": "stderr",
     "output_type": "stream",
     "text": [
      "query_time                    :          1.40\n"
     ]
    },
    {
     "name": "stderr",
     "output_type": "stream",
     "text": [
      "query_too_short               :          0.00\n"
     ]
    },
    {
     "name": "stderr",
     "output_type": "stream",
     "text": [
      "query_unknown_minimizer       :          0.00\n"
     ]
    },
    {
     "name": "stderr",
     "output_type": "stream",
     "text": [
      "remap                         :          0.00\n"
     ]
    },
    {
     "name": "stderr",
     "output_type": "stream",
     "text": [
      "seq_size_MB                   :        248.39\n"
     ]
    },
    {
     "name": "stderr",
     "output_type": "stream",
     "text": [
      "sequence length               :   17092232.00\n"
     ]
    },
    {
     "name": "stderr",
     "output_type": "stream",
     "text": [
      "sequence_length               :  248387328.00\n"
     ]
    },
    {
     "name": "stderr",
     "output_type": "stream",
     "text": [
      "sketch_size_MB                :          7.43\n"
     ]
    },
    {
     "name": "stderr",
     "output_type": "stream",
     "text": [
      "total_size_MB                 :         92.89\n"
     ]
    },
    {
     "name": "stderr",
     "output_type": "stream",
     "text": [
      "Building..\n",
      "\u001b[2m2024-09-24T01:23:55.423374Z\u001b[0m \u001b[32m INFO\u001b[0m \u001b[2muindex\u001b[0m\u001b[2m:\u001b[0m Query stats: QueryStats {\n",
      "    too_short: 0,\n",
      "    unknown_minimizer: 0,\n",
      "    misaligned_ms_pos: 5696,\n",
      "    out_of_bounds: 0,\n",
      "    mismatches: 10925919,\n",
      "    matches: 1808654,\n",
      "}\n"
     ]
    },
    {
     "name": "stderr",
     "output_type": "stream",
     "text": [
      "Benching..\n",
      "\u001b[2m2024-09-24T01:23:57.361179Z\u001b[0m \u001b[35mTRACE\u001b[0m \u001b[2muindex::sketchers::minimizers\u001b[0m\u001b[2m:\u001b[0m Sequence length 248387328\n"
     ]
    },
    {
     "name": "stderr",
     "output_type": "stream",
     "text": [
      "Benching: 1.369523707s\n",
      "\u001b[2m2024-09-24T01:23:58.220761Z\u001b[0m \u001b[35mTRACE\u001b[0m \u001b[2muindex::sketchers::minimizers\u001b[0m\u001b[2m:\u001b[0m Num minimizers: 8546116\n",
      "\u001b[2m2024-09-24T01:23:58.220769Z\u001b[0m \u001b[35mTRACE\u001b[0m \u001b[2muindex::sketchers::minimizers\u001b[0m\u001b[2m:\u001b[0m kmer_width: 2 bytes\n",
      "\u001b[2m2024-09-24T01:23:58.220772Z\u001b[0m \u001b[35mTRACE\u001b[0m \u001b[2muindex::utils\u001b[0m\u001b[2m:\u001b[0m   computing_minimizers          : 859.583ms\n",
      "\u001b[2m2024-09-24T01:23:58.266801Z\u001b[0m \u001b[35mTRACE\u001b[0m \u001b[2muindex::utils\u001b[0m\u001b[2m:\u001b[0m   Building EF                   : 46.023ms\n",
      "\u001b[2m2024-09-24T01:23:58.289729Z\u001b[0m \u001b[35mTRACE\u001b[0m \u001b[2muindex::utils\u001b[0m\u001b[2m:\u001b[0m   Remapping                     : 22.920ms\n",
      "\u001b[2m2024-09-24T01:23:58.289734Z\u001b[0m \u001b[35mTRACE\u001b[0m \u001b[2muindex::utils\u001b[0m\u001b[2m:\u001b[0m  Sketch                        : 928.558ms\n",
      "\u001b[2m2024-09-24T01:23:58.289736Z\u001b[0m \u001b[35mTRACE\u001b[0m \u001b[2muindex::indices::sa_divsufsort\u001b[0m\u001b[2m:\u001b[0m MS sequence length 17092232\n",
      "\u001b[2m2024-09-24T01:23:59.168203Z\u001b[0m \u001b[35mTRACE\u001b[0m \u001b[2muindex::utils\u001b[0m\u001b[2m:\u001b[0m   Building suffix array         : 878.464ms\n",
      "\u001b[2m2024-09-24T01:23:59.219202Z\u001b[0m \u001b[35mTRACE\u001b[0m \u001b[2muindex::utils\u001b[0m\u001b[2m:\u001b[0m  Build                         : 929.464ms\n"
     ]
    },
    {
     "name": "stderr",
     "output_type": "stream",
     "text": [
      "Stats\n"
     ]
    },
    {
     "name": "stderr",
     "output_type": "stream",
     "text": [
      "Build                         :          0.93\n"
     ]
    },
    {
     "name": "stderr",
     "output_type": "stream",
     "text": [
      "Building EF                   :          0.05\n"
     ]
    },
    {
     "name": "stderr",
     "output_type": "stream",
     "text": [
      "Building suffix array         :          0.88\n"
     ]
    },
    {
     "name": "stderr",
     "output_type": "stream",
     "text": [
      "Remapping                     :          0.02\n"
     ]
    },
    {
     "name": "stderr",
     "output_type": "stream",
     "text": [
      "Sketch                        :          0.93\n"
     ]
    },
    {
     "name": "stderr",
     "output_type": "stream",
     "text": [
      "build_time                    :          1.86\n"
     ]
    },
    {
     "name": "stderr",
     "output_type": "stream",
     "text": [
      "compress                      :          1.00\n"
     ]
    },
    {
     "name": "stderr",
     "output_type": "stream",
     "text": [
      "computing_minimizers          :          0.86\n"
     ]
    },
    {
     "name": "stderr",
     "output_type": "stream",
     "text": [
      "index_size_MB                 :         51.28\n"
     ]
    },
    {
     "name": "stderr",
     "output_type": "stream",
     "text": [
      "k                             :          8.00\n"
     ]
    },
    {
     "name": "stderr",
     "output_type": "stream",
     "text": [
      "kmer_width                    :          2.00\n"
     ]
    },
    {
     "name": "stderr",
     "output_type": "stream",
     "text": [
      "kmer_width_bits               :         16.00\n"
     ]
    },
    {
     "name": "stderr",
     "output_type": "stream",
     "text": [
      "l                             :         64.00\n"
     ]
    },
    {
     "name": "stderr",
     "output_type": "stream",
     "text": [
      "num_minimizers                :    8546116.00\n"
     ]
    },
    {
     "name": "stderr",
     "output_type": "stream",
     "text": [
      "query_length                  :        256.00\n"
     ]
    },
    {
     "name": "stderr",
     "output_type": "stream",
     "text": [
      "query_matches                 :    1808654.00\n"
     ]
    },
    {
     "name": "stderr",
     "output_type": "stream",
     "text": [
      "query_misaligned_ms_pos       :          0.00\n"
     ]
    },
    {
     "name": "stderr",
     "output_type": "stream",
     "text": [
      "query_mismatches              :   10925919.00\n"
     ]
    },
    {
     "name": "stderr",
     "output_type": "stream",
     "text": [
      "query_out_of_bounds           :          0.00\n"
     ]
    },
    {
     "name": "stderr",
     "output_type": "stream",
     "text": [
      "query_time                    :          1.37\n"
     ]
    },
    {
     "name": "stderr",
     "output_type": "stream",
     "text": [
      "query_too_short               :          0.00\n"
     ]
    },
    {
     "name": "stderr",
     "output_type": "stream",
     "text": [
      "query_unknown_minimizer       :          0.00\n"
     ]
    },
    {
     "name": "stderr",
     "output_type": "stream",
     "text": [
      "remap                         :          0.00\n"
     ]
    },
    {
     "name": "stderr",
     "output_type": "stream",
     "text": [
      "seq_size_MB                   :        248.39\n"
     ]
    },
    {
     "name": "stderr",
     "output_type": "stream",
     "text": [
      "sequence length               :   17092232.00\n"
     ]
    },
    {
     "name": "stderr",
     "output_type": "stream",
     "text": [
      "sequence_length               :  248387328.00\n"
     ]
    },
    {
     "name": "stderr",
     "output_type": "stream",
     "text": [
      "sketch_size_MB                :          7.43\n"
     ]
    },
    {
     "name": "stderr",
     "output_type": "stream",
     "text": [
      "total_size_MB                 :         58.71\n"
     ]
    },
    {
     "name": "stderr",
     "output_type": "stream",
     "text": [
      "Building..\n",
      "\u001b[2m2024-09-24T01:24:00.602463Z\u001b[0m \u001b[32m INFO\u001b[0m \u001b[2muindex\u001b[0m\u001b[2m:\u001b[0m Query stats: QueryStats {\n",
      "    too_short: 0,\n",
      "    unknown_minimizer: 0,\n",
      "    misaligned_ms_pos: 0,\n",
      "    out_of_bounds: 0,\n",
      "    mismatches: 10925919,\n",
      "    matches: 1808654,\n",
      "}\n"
     ]
    },
    {
     "name": "stderr",
     "output_type": "stream",
     "text": [
      "\u001b[2m2024-09-24T01:24:02.542325Z\u001b[0m \u001b[35mTRACE\u001b[0m \u001b[2muindex::sketchers::minimizers\u001b[0m\u001b[2m:\u001b[0m Sequence length 248387328\n",
      "Benching..\n",
      "\u001b[2m2024-09-24T01:24:03.508574Z\u001b[0m \u001b[35mTRACE\u001b[0m \u001b[2muindex::sketchers::minimizers\u001b[0m\u001b[2m:\u001b[0m Num minimizers: 19009223\n",
      "\u001b[2m2024-09-24T01:24:03.508582Z\u001b[0m \u001b[35mTRACE\u001b[0m \u001b[2muindex::utils\u001b[0m\u001b[2m:\u001b[0m   computing_minimizers          : 966.248ms\n",
      "\u001b[2m2024-09-24T01:24:03.830588Z\u001b[0m \u001b[35mTRACE\u001b[0m \u001b[2muindex::sketchers::minimizers\u001b[0m\u001b[2m:\u001b[0m Num distinct minimizers: 22795\n",
      "\u001b[2m2024-09-24T01:24:03.830594Z\u001b[0m \u001b[35mTRACE\u001b[0m \u001b[2muindex::sketchers::minimizers\u001b[0m\u001b[2m:\u001b[0m kmer_width: 15 bits\n",
      "\u001b[2m2024-09-24T01:24:03.830595Z\u001b[0m \u001b[35mTRACE\u001b[0m \u001b[2muindex::sketchers::minimizers\u001b[0m\u001b[2m:\u001b[0m kmer_width: 2 bytes\n",
      "\u001b[2m2024-09-24T01:24:03.830597Z\u001b[0m \u001b[35mTRACE\u001b[0m \u001b[2muindex::utils\u001b[0m\u001b[2m:\u001b[0m   Building remap                : 322.011ms\n",
      "\u001b[2m2024-09-24T01:24:03.935763Z\u001b[0m \u001b[35mTRACE\u001b[0m \u001b[2muindex::utils\u001b[0m\u001b[2m:\u001b[0m   Building EF                   : 105.159ms\n",
      "\u001b[2m2024-09-24T01:24:04.320013Z\u001b[0m \u001b[35mTRACE\u001b[0m \u001b[2muindex::utils\u001b[0m\u001b[2m:\u001b[0m   Remapping                     : 384.238ms\n",
      "\u001b[2m2024"
     ]
    },
    {
     "name": "stderr",
     "output_type": "stream",
     "text": [
      "-09-24T01:24:04.320021Z\u001b[0m \u001b[35mTRACE\u001b[0m \u001b[2muindex::utils\u001b[0m\u001b[2m:\u001b[0m  Sketch                        : 1.778s\n",
      "\u001b[2m2024-09-24T01:24:04.320024Z\u001b[0m \u001b[35mTRACE\u001b[0m \u001b[2muindex::indices::sa_divsufsort\u001b[0m\u001b[2m:\u001b[0m MS sequence length 38018446\n",
      "\u001b[2m2024-09-24T01:24:06.964288Z\u001b[0m \u001b[35mTRACE\u001b[0m \u001b[2muindex::utils\u001b[0m\u001b[2m:\u001b[0m   Building suffix array         : 2.644s\n",
      "\u001b[2m2024-09-24T01:24:06.964298Z\u001b[0m \u001b[35mTRACE\u001b[0m \u001b[2muindex::utils\u001b[0m\u001b[2m:\u001b[0m  Build                         : 2.644s\n",
      "Benching: 0.923691559s\n"
     ]
    },
    {
     "name": "stderr",
     "output_type": "stream",
     "text": [
      "Stats\n"
     ]
    },
    {
     "name": "stderr",
     "output_type": "stream",
     "text": [
      "Build                         :          2.64\n"
     ]
    },
    {
     "name": "stderr",
     "output_type": "stream",
     "text": [
      "Building EF                   :          0.11\n"
     ]
    },
    {
     "name": "stderr",
     "output_type": "stream",
     "text": [
      "Building remap                :          0.32\n"
     ]
    },
    {
     "name": "stderr",
     "output_type": "stream",
     "text": [
      "Building suffix array         :          2.64\n"
     ]
    },
    {
     "name": "stderr",
     "output_type": "stream",
     "text": [
      "Remapping                     :          0.38\n"
     ]
    },
    {
     "name": "stderr",
     "output_type": "stream",
     "text": [
      "Sketch                        :          1.78\n"
     ]
    },
    {
     "name": "stderr",
     "output_type": "stream",
     "text": [
      "build_time                    :          4.42\n"
     ]
    },
    {
     "name": "stderr",
     "output_type": "stream",
     "text": [
      "compress                      :          0.00\n"
     ]
    },
    {
     "name": "stderr",
     "output_type": "stream",
     "text": [
      "computing_minimizers          :          0.97\n"
     ]
    },
    {
     "name": "stderr",
     "output_type": "stream",
     "text": [
      "index_size_MB                 :        190.09\n"
     ]
    },
    {
     "name": "stderr",
     "output_type": "stream",
     "text": [
      "k                             :          8.00\n"
     ]
    },
    {
     "name": "stderr",
     "output_type": "stream",
     "text": [
      "kmer_width                    :          2.00\n"
     ]
    },
    {
     "name": "stderr",
     "output_type": "stream",
     "text": [
      "kmer_width_bits               :         15.00\n"
     ]
    },
    {
     "name": "stderr",
     "output_type": "stream",
     "text": [
      "l                             :         32.00\n"
     ]
    },
    {
     "name": "stderr",
     "output_type": "stream",
     "text": [
      "num_distinct_minimizers       :      22795.00\n"
     ]
    },
    {
     "name": "stderr",
     "output_type": "stream",
     "text": [
      "num_minimizers                :   19009224.00\n"
     ]
    },
    {
     "name": "stderr",
     "output_type": "stream",
     "text": [
      "query_length                  :        256.00\n"
     ]
    },
    {
     "name": "stderr",
     "output_type": "stream",
     "text": [
      "query_matches                 :    1808654.00\n"
     ]
    },
    {
     "name": "stderr",
     "output_type": "stream",
     "text": [
      "query_misaligned_ms_pos       :          0.00\n"
     ]
    },
    {
     "name": "stderr",
     "output_type": "stream",
     "text": [
      "query_mismatches              :    2702147.00\n"
     ]
    },
    {
     "name": "stderr",
     "output_type": "stream",
     "text": [
      "query_out_of_bounds           :          0.00\n"
     ]
    },
    {
     "name": "stderr",
     "output_type": "stream",
     "text": [
      "query_time                    :          0.92\n"
     ]
    },
    {
     "name": "stderr",
     "output_type": "stream",
     "text": [
      "query_too_short               :          0.00\n"
     ]
    },
    {
     "name": "stderr",
     "output_type": "stream",
     "text": [
      "query_unknown_minimizer       :          0.00\n"
     ]
    },
    {
     "name": "stderr",
     "output_type": "stream",
     "text": [
      "remap                         :          1.00\n"
     ]
    },
    {
     "name": "stderr",
     "output_type": "stream",
     "text": [
      "seq_size_MB                   :        248.39\n"
     ]
    },
    {
     "name": "stderr",
     "output_type": "stream",
     "text": [
      "sequence length               :   38018448.00\n"
     ]
    },
    {
     "name": "stderr",
     "output_type": "stream",
     "text": [
      "sequence_length               :  248387328.00\n"
     ]
    },
    {
     "name": "stderr",
     "output_type": "stream",
     "text": [
      "sketch_size_MB                :         14.28\n"
     ]
    },
    {
     "name": "stderr",
     "output_type": "stream",
     "text": [
      "total_size_MB                 :        204.37\n"
     ]
    },
    {
     "name": "stderr",
     "output_type": "stream",
     "text": [
      "Building..\n",
      "\u001b[2m2024-09-24T01:24:07.901329Z\u001b[0m \u001b[32m INFO\u001b[0m \u001b[2muindex\u001b[0m\u001b[2m:\u001b[0m Query stats: QueryStats {\n",
      "    too_short: 0,\n",
      "    unknown_minimizer: 0,\n",
      "    misaligned_ms_pos: 0,\n",
      "    out_of_bounds: 0,\n",
      "    mismatches: 2702147,\n",
      "    matches: 1808654,\n",
      "}\n"
     ]
    },
    {
     "name": "stderr",
     "output_type": "stream",
     "text": [
      "Benching..\n",
      "\u001b[2m2024-09-24T01:24:09.860082Z\u001b[0m \u001b[35mTRACE\u001b[0m \u001b[2muindex::sketchers::minimizers\u001b[0m\u001b[2m:\u001b[0m Sequence length 248387328\n",
      "\u001b[2m2024-09-24T01:24:10.826531Z\u001b[0m \u001b[35mTRACE\u001b[0m \u001b[2muindex::sketchers::minimizers\u001b[0m\u001b[2m:\u001b[0m Num minimizers: 19009223\n",
      "\u001b[2m2024-09-24T01:24:10.826539Z\u001b[0m \u001b[35mTRACE\u001b[0m \u001b[2muindex::utils\u001b[0m\u001b[2m:\u001b[0m   computing_minimizers          : 966.446ms\n",
      "\u001b[2m2024-09-24T01:24:11.151250Z\u001b[0m \u001b[35mTRACE\u001b[0m \u001b[2muindex::sketchers::minimizers\u001b[0m\u001b[2m:\u001b[0m Num distinct minimizers: 22795\n",
      "\u001b[2m2024-09-24T01:24:11.151256Z\u001b[0m \u001b[35mTRACE\u001b[0m \u001b[2muindex::sketchers::minimizers\u001b[0m\u001b[2m:\u001b[0m kmer_width: 15 bits\n",
      "\u001b[2m2024-09-24T01:24:11.151257Z\u001b[0m \u001b[35mTRACE\u001b[0m \u001b[2muindex::sketchers::minimizers\u001b[0m\u001b[2m:\u001b[0m kmer_width: 2 bytes\n",
      "\u001b[2m2024-09-24T01:24:11.151259Z\u001b[0m \u001b[35mTRACE\u001b[0m \u001b[2muindex::utils\u001b[0m\u001b[2m:\u001b[0m   Building remap                : 324.716ms\n",
      "\u001b[2m2024-09-24T01:24:11.257021Z\u001b[0m \u001b[35mTRACE\u001b[0m \u001b[2muindex::utils\u001b[0m\u001b[2m:\u001b[0m   Building EF                   : 105.755ms\n",
      "\u001b[2m2024-09-24T01:24:11.645068Z\u001b[0m \u001b[35mTRACE\u001b[0m \u001b[2muindex::utils\u001b[0m\u001b[2m:\u001b[0m   Remapping                     : 388.035ms\n",
      "\u001b[2m2024"
     ]
    },
    {
     "name": "stderr",
     "output_type": "stream",
     "text": [
      "Benching: 0.89785789s-09-24T01:24:11.645077Z\u001b[0m \u001b[35mTRACE\u001b[0m \u001b[2muindex::utils\u001b[0m\u001b[2m:\u001b[0m  Sketch                        : 1.785s\n",
      "\u001b[2m2024-09-24T01:24:11.645079Z\u001b[0m \u001b[35mTRACE\u001b[0m \u001b[2muindex::indices::sa_divsufsort\u001b[0m\u001b[2m:\u001b[0m MS sequence length 38018446\n",
      "\u001b[2m2024-09-24T01:24:14.288524Z\u001b[0m \u001b[35mTRACE\u001b[0m \u001b[2muindex::utils\u001b[0m\u001b[2m:\u001b[0m   Building suffix array         : 2.643s\n",
      "\u001b[2m2024-09-24T01:24:14.392101Z\u001b[0m \u001b[35mTRACE\u001b[0m \u001b[2muindex::utils\u001b[0m\u001b[2m:\u001b[0m  Build                         : 2.747s\n",
      "\n"
     ]
    },
    {
     "name": "stderr",
     "output_type": "stream",
     "text": [
      "Stats\n"
     ]
    },
    {
     "name": "stderr",
     "output_type": "stream",
     "text": [
      "Build                         :          2.75\n"
     ]
    },
    {
     "name": "stderr",
     "output_type": "stream",
     "text": [
      "Building EF                   :          0.11\n"
     ]
    },
    {
     "name": "stderr",
     "output_type": "stream",
     "text": [
      "Building remap                :          0.32\n"
     ]
    },
    {
     "name": "stderr",
     "output_type": "stream",
     "text": [
      "Building suffix array         :          2.64\n"
     ]
    },
    {
     "name": "stderr",
     "output_type": "stream",
     "text": [
      "Remapping                     :          0.39\n"
     ]
    },
    {
     "name": "stderr",
     "output_type": "stream",
     "text": [
      "Sketch                        :          1.78\n"
     ]
    },
    {
     "name": "stderr",
     "output_type": "stream",
     "text": [
      "build_time                    :          4.53\n"
     ]
    },
    {
     "name": "stderr",
     "output_type": "stream",
     "text": [
      "compress                      :          1.00\n"
     ]
    },
    {
     "name": "stderr",
     "output_type": "stream",
     "text": [
      "computing_minimizers          :          0.97\n"
     ]
    },
    {
     "name": "stderr",
     "output_type": "stream",
     "text": [
      "index_size_MB                 :        114.06\n"
     ]
    },
    {
     "name": "stderr",
     "output_type": "stream",
     "text": [
      "k                             :          8.00\n"
     ]
    },
    {
     "name": "stderr",
     "output_type": "stream",
     "text": [
      "kmer_width                    :          2.00\n"
     ]
    },
    {
     "name": "stderr",
     "output_type": "stream",
     "text": [
      "kmer_width_bits               :         15.00\n"
     ]
    },
    {
     "name": "stderr",
     "output_type": "stream",
     "text": [
      "l                             :         32.00\n"
     ]
    },
    {
     "name": "stderr",
     "output_type": "stream",
     "text": [
      "num_distinct_minimizers       :      22795.00\n"
     ]
    },
    {
     "name": "stderr",
     "output_type": "stream",
     "text": [
      "num_minimizers                :   19009224.00\n"
     ]
    },
    {
     "name": "stderr",
     "output_type": "stream",
     "text": [
      "query_length                  :        256.00\n"
     ]
    },
    {
     "name": "stderr",
     "output_type": "stream",
     "text": [
      "query_matches                 :    1808654.00\n"
     ]
    },
    {
     "name": "stderr",
     "output_type": "stream",
     "text": [
      "query_misaligned_ms_pos       :          0.00\n"
     ]
    },
    {
     "name": "stderr",
     "output_type": "stream",
     "text": [
      "query_mismatches              :    2702147.00\n"
     ]
    },
    {
     "name": "stderr",
     "output_type": "stream",
     "text": [
      "query_out_of_bounds           :          0.00\n"
     ]
    },
    {
     "name": "stderr",
     "output_type": "stream",
     "text": [
      "query_time                    :          0.90\n"
     ]
    },
    {
     "name": "stderr",
     "output_type": "stream",
     "text": [
      "query_too_short               :          0.00\n"
     ]
    },
    {
     "name": "stderr",
     "output_type": "stream",
     "text": [
      "query_unknown_minimizer       :          0.00\n"
     ]
    },
    {
     "name": "stderr",
     "output_type": "stream",
     "text": [
      "remap                         :          1.00\n"
     ]
    },
    {
     "name": "stderr",
     "output_type": "stream",
     "text": [
      "seq_size_MB                   :        248.39\n"
     ]
    },
    {
     "name": "stderr",
     "output_type": "stream",
     "text": [
      "sequence length               :   38018448.00\n"
     ]
    },
    {
     "name": "stderr",
     "output_type": "stream",
     "text": [
      "sequence_length               :  248387328.00\n"
     ]
    },
    {
     "name": "stderr",
     "output_type": "stream",
     "text": [
      "sketch_size_MB                :         14.28\n"
     ]
    },
    {
     "name": "stderr",
     "output_type": "stream",
     "text": [
      "total_size_MB                 :        128.33\n"
     ]
    },
    {
     "name": "stderr",
     "output_type": "stream",
     "text": [
      "Building..\n",
      "\u001b[2m2024-09-24T01:24:15.303562Z\u001b[0m \u001b[32m INFO\u001b[0m \u001b[2muindex\u001b[0m\u001b[2m:\u001b[0m Query stats: QueryStats {\n",
      "    too_short: 0,\n",
      "    unknown_minimizer: 0,\n",
      "    misaligned_ms_pos: 0,\n",
      "    out_of_bounds: 0,\n",
      "    mismatches: 2702147,\n",
      "    matches: 1808654,\n",
      "}\n"
     ]
    },
    {
     "name": "stderr",
     "output_type": "stream",
     "text": [
      "Benching..\n",
      "\u001b[2m2024-09-24T01:24:17.257491Z\u001b[0m \u001b[35mTRACE\u001b[0m \u001b[2muindex::sketchers::minimizers\u001b[0m\u001b[2m:\u001b[0m Sequence length 248387328\n",
      "\u001b[2m2024-09-24T01:24:18.226549Z\u001b[0m \u001b[35mTRACE\u001b[0m \u001b[2muindex::sketchers::minimizers\u001b[0m\u001b[2m:\u001b[0m Num minimizers: 19009223\n",
      "\u001b[2m2024-09-24T01:24:18.226556Z\u001b[0m \u001b[35mTRACE\u001b[0m \u001b[2muindex::sketchers::minimizers\u001b[0m\u001b[2m:\u001b[0m kmer_width: 2 bytes\n",
      "\u001b[2m2024-09-24T01:24:18.226559Z\u001b[0m \u001b[35mTRACE\u001b[0m \u001b[2muindex::utils\u001b[0m\u001b[2m:\u001b[0m   computing_minimizers          : 969.059ms\n",
      "\u001b[2m2024-09-24T01:24:18.333322Z\u001b[0m \u001b[35mTRACE\u001b[0m \u001b[2muindex::utils\u001b[0m\u001b[2m:\u001b[0m   Building EF                   : 106.757ms\n",
      "\u001b[2m2024-09-24T01:24:18.386706Z\u001b[0m \u001b[35mTRACE\u001b[0m \u001b[2muindex::utils\u001b[0m\u001b[2m:\u001b[0m   Remapping                     : 53.372ms\n",
      "\u001b[2m2024-09-24T01:24:18.386717Z\u001b[0m \u001b[35mTRACE\u001b[0m \u001b[2muindex::utils\u001b[0m\u001b[2m:\u001b[0m  Sketch                        : 1.129s\n",
      "\u001b[2m2024-09-24T01:24:18.386719Z\u001b[0m \u001b[35mTRACE\u001b[0m \u001b[2muindex::indices::sa_divsufsort\u001b[0m\u001b[2m:\u001b[0m MS sequence length 38018446\n",
      "\u001b[2m2024-09-24T01:24:20.637278Z\u001b[0m \u001b[35mTRACE\u001b[0m \u001b[2muindex::utils\u001b[0m\u001b[2m:\u001b[0m   Building suffix array         : 2.251s\n",
      "\u001b[2m2024-09-24T01:24:20.637288Z\u001b[0m \u001b[35mTRACE\u001b[0m \u001b[2muindex::utils\u001b[0m\u001b[2m:\u001b[0m  Build                         : 2.251s\n"
     ]
    },
    {
     "name": "stderr",
     "output_type": "stream",
     "text": [
      "Benching: 0.898178848s\n"
     ]
    },
    {
     "name": "stderr",
     "output_type": "stream",
     "text": [
      "Stats\n"
     ]
    },
    {
     "name": "stderr",
     "output_type": "stream",
     "text": [
      "Build                         :          2.25\n"
     ]
    },
    {
     "name": "stderr",
     "output_type": "stream",
     "text": [
      "Building EF                   :          0.11\n"
     ]
    },
    {
     "name": "stderr",
     "output_type": "stream",
     "text": [
      "Building suffix array         :          2.25\n"
     ]
    },
    {
     "name": "stderr",
     "output_type": "stream",
     "text": [
      "Remapping                     :          0.05\n"
     ]
    },
    {
     "name": "stderr",
     "output_type": "stream",
     "text": [
      "Sketch                        :          1.13\n"
     ]
    },
    {
     "name": "stderr",
     "output_type": "stream",
     "text": [
      "build_time                    :          3.38\n"
     ]
    },
    {
     "name": "stderr",
     "output_type": "stream",
     "text": [
      "compress                      :          0.00\n"
     ]
    },
    {
     "name": "stderr",
     "output_type": "stream",
     "text": [
      "computing_minimizers          :          0.97\n"
     ]
    },
    {
     "name": "stderr",
     "output_type": "stream",
     "text": [
      "index_size_MB                 :        190.09\n"
     ]
    },
    {
     "name": "stderr",
     "output_type": "stream",
     "text": [
      "k                             :          8.00\n"
     ]
    },
    {
     "name": "stderr",
     "output_type": "stream",
     "text": [
      "kmer_width                    :          2.00\n"
     ]
    },
    {
     "name": "stderr",
     "output_type": "stream",
     "text": [
      "kmer_width_bits               :         16.00\n"
     ]
    },
    {
     "name": "stderr",
     "output_type": "stream",
     "text": [
      "l                             :         32.00\n"
     ]
    },
    {
     "name": "stderr",
     "output_type": "stream",
     "text": [
      "num_minimizers                :   19009224.00\n"
     ]
    },
    {
     "name": "stderr",
     "output_type": "stream",
     "text": [
      "query_length                  :        256.00\n"
     ]
    },
    {
     "name": "stderr",
     "output_type": "stream",
     "text": [
      "query_matches                 :    1808654.00\n"
     ]
    },
    {
     "name": "stderr",
     "output_type": "stream",
     "text": [
      "query_misaligned_ms_pos       :         11.00\n"
     ]
    },
    {
     "name": "stderr",
     "output_type": "stream",
     "text": [
      "query_mismatches              :    2702147.00\n"
     ]
    },
    {
     "name": "stderr",
     "output_type": "stream",
     "text": [
      "query_out_of_bounds           :          0.00\n"
     ]
    },
    {
     "name": "stderr",
     "output_type": "stream",
     "text": [
      "query_time                    :          0.90\n"
     ]
    },
    {
     "name": "stderr",
     "output_type": "stream",
     "text": [
      "query_too_short               :          0.00\n"
     ]
    },
    {
     "name": "stderr",
     "output_type": "stream",
     "text": [
      "query_unknown_minimizer       :          0.00\n"
     ]
    },
    {
     "name": "stderr",
     "output_type": "stream",
     "text": [
      "remap                         :          0.00\n"
     ]
    },
    {
     "name": "stderr",
     "output_type": "stream",
     "text": [
      "seq_size_MB                   :        248.39\n"
     ]
    },
    {
     "name": "stderr",
     "output_type": "stream",
     "text": [
      "sequence length               :   38018448.00\n"
     ]
    },
    {
     "name": "stderr",
     "output_type": "stream",
     "text": [
      "sequence_length               :  248387328.00\n"
     ]
    },
    {
     "name": "stderr",
     "output_type": "stream",
     "text": [
      "sketch_size_MB                :         13.72\n"
     ]
    },
    {
     "name": "stderr",
     "output_type": "stream",
     "text": [
      "total_size_MB                 :        203.81\n"
     ]
    },
    {
     "name": "stderr",
     "output_type": "stream",
     "text": [
      "Building..\n"
     ]
    },
    {
     "name": "stderr",
     "output_type": "stream",
     "text": [
      "\u001b[2m2024-09-24T01:24:21.547279Z\u001b[0m \u001b[32m INFO\u001b[0m \u001b[2muindex\u001b[0m\u001b[2m:\u001b[0m Query stats: QueryStats {\n",
      "    too_short: 0,\n",
      "    unknown_minimizer: 0,\n",
      "    misaligned_ms_pos: 11,\n",
      "    out_of_bounds: 0,\n",
      "    mismatches: 2702147,\n",
      "    matches: 1808654,\n",
      "}\n",
      "Benching..\n"
     ]
    },
    {
     "name": "stderr",
     "output_type": "stream",
     "text": [
      "Benching: 0.902179999s\n"
     ]
    },
    {
     "name": "stderr",
     "output_type": "stream",
     "text": [
      "Stats\n",
      "\u001b[2m2024-09-24T01:24:23.527735Z\u001b[0m \u001b[35mTRACE\u001b[0m \u001b[2muindex::sketchers::minimizers\u001b[0m\u001b[2m:\u001b[0m Sequence length 248387328\n",
      "\u001b[2m2024-09-24T01:24:24.521184Z\u001b[0m \u001b[35mTRACE\u001b[0m \u001b[2muindex::sketchers::minimizers\u001b[0m\u001b[2m:\u001b[0m Num minimizers: 19009223\n",
      "\u001b[2m2024-09-24T01:24:24.521192Z\u001b[0m \u001b[35mTRACE\u001b[0m \u001b[2muindex::sketchers::minimizers\u001b[0m\u001b[2m:\u001b[0m kmer_width: 2 bytes\n",
      "\u001b[2m2024-09-24T01:24:24.521195Z\u001b[0m \u001b[35mTRACE\u001b[0m \u001b[2muindex::utils\u001b[0m\u001b[2m:\u001b[0m   computing_minimizers          : 993.450ms\n",
      "\u001b[2m2024-09-24T01:24:24.628294Z\u001b[0m \u001b[35mTRACE\u001b[0m \u001b[2muindex::utils\u001b[0m\u001b[2m:\u001b[0m   Building EF                   : 107.093ms\n",
      "\u001b[2m2024-09-24T01:24:24.681711Z\u001b[0m \u001b[35mTRACE\u001b[0m \u001b[2muindex::utils\u001b[0m\u001b[2m:\u001b[0m   Remapping                     : 53.405ms\n",
      "\u001b[2m2024-09-24T01:24:24.681721Z\u001b[0m \u001b[35mTRACE\u001b[0m \u001b[2muindex::utils\u001b[0m\u001b[2m:\u001b[0m  Sketch                        : 1.154s\n",
      "\u001b[2m2024-09-24T01:24:24.681723Z\u001b[0m \u001b[35mTRACE\u001b[0m \u001b[2muindex::indices::sa_divsufsort\u001b[0m\u001b[2m:\u001b[0m MS sequence length 38018446\n",
      "\u001b[2m2024-09-24T01:24:26.890592Z\u001b[0m \u001b[35mTRACE\u001b[0m \u001b[2muindex::utils\u001b[0m\u001b[2m:\u001b[0m   Building suffix array         : 2.209s\n",
      "\u001b[2m2024-09-24T01:24:27.015683Z\u001b[0m \u001b[35mTRACE\u001b[0m \u001b[2muindex::utils\u001b[0m\u001b[2m:\u001b[0m  Build                         : 2.334s\n"
     ]
    },
    {
     "name": "stderr",
     "output_type": "stream",
     "text": [
      "Build                         :          2.33\n"
     ]
    },
    {
     "name": "stderr",
     "output_type": "stream",
     "text": [
      "Building EF                   :          0.11\n"
     ]
    },
    {
     "name": "stderr",
     "output_type": "stream",
     "text": [
      "Building suffix array         :          2.21\n"
     ]
    },
    {
     "name": "stderr",
     "output_type": "stream",
     "text": [
      "Remapping                     :          0.05\n"
     ]
    },
    {
     "name": "stderr",
     "output_type": "stream",
     "text": [
      "Sketch                        :          1.15\n"
     ]
    },
    {
     "name": "stderr",
     "output_type": "stream",
     "text": [
      "build_time                    :          3.49\n"
     ]
    },
    {
     "name": "stderr",
     "output_type": "stream",
     "text": [
      "compress                      :          1.00\n"
     ]
    },
    {
     "name": "stderr",
     "output_type": "stream",
     "text": [
      "computing_minimizers          :          0.99\n"
     ]
    },
    {
     "name": "stderr",
     "output_type": "stream",
     "text": [
      "index_size_MB                 :        114.06\n"
     ]
    },
    {
     "name": "stderr",
     "output_type": "stream",
     "text": [
      "k                             :          8.00\n"
     ]
    },
    {
     "name": "stderr",
     "output_type": "stream",
     "text": [
      "kmer_width                    :          2.00\n"
     ]
    },
    {
     "name": "stderr",
     "output_type": "stream",
     "text": [
      "kmer_width_bits               :         16.00\n"
     ]
    },
    {
     "name": "stderr",
     "output_type": "stream",
     "text": [
      "l                             :         32.00\n"
     ]
    },
    {
     "name": "stderr",
     "output_type": "stream",
     "text": [
      "num_minimizers                :   19009224.00\n"
     ]
    },
    {
     "name": "stderr",
     "output_type": "stream",
     "text": [
      "query_length                  :        256.00\n"
     ]
    },
    {
     "name": "stderr",
     "output_type": "stream",
     "text": [
      "query_matches                 :    1808654.00\n"
     ]
    },
    {
     "name": "stderr",
     "output_type": "stream",
     "text": [
      "query_misaligned_ms_pos       :          0.00\n"
     ]
    },
    {
     "name": "stderr",
     "output_type": "stream",
     "text": [
      "query_mismatches              :    2702147.00\n"
     ]
    },
    {
     "name": "stderr",
     "output_type": "stream",
     "text": [
      "query_out_of_bounds           :          0.00\n"
     ]
    },
    {
     "name": "stderr",
     "output_type": "stream",
     "text": [
      "query_time                    :          0.90\n"
     ]
    },
    {
     "name": "stderr",
     "output_type": "stream",
     "text": [
      "query_too_short               :          0.00\n"
     ]
    },
    {
     "name": "stderr",
     "output_type": "stream",
     "text": [
      "query_unknown_minimizer       :          0.00\n"
     ]
    },
    {
     "name": "stderr",
     "output_type": "stream",
     "text": [
      "remap                         :          0.00\n"
     ]
    },
    {
     "name": "stderr",
     "output_type": "stream",
     "text": [
      "seq_size_MB                   :        248.39\n"
     ]
    },
    {
     "name": "stderr",
     "output_type": "stream",
     "text": [
      "sequence length               :   38018448.00\n"
     ]
    },
    {
     "name": "stderr",
     "output_type": "stream",
     "text": [
      "sequence_length               :  248387328.00\n"
     ]
    },
    {
     "name": "stderr",
     "output_type": "stream",
     "text": [
      "sketch_size_MB                :         13.72\n"
     ]
    },
    {
     "name": "stderr",
     "output_type": "stream",
     "text": [
      "total_size_MB                 :        127.78\n"
     ]
    },
    {
     "name": "stderr",
     "output_type": "stream",
     "text": [
      "Building..\u001b[2m2024-09-24T01:24:27.932908Z\u001b[0m \u001b[32m INFO\u001b[0m \u001b[2muindex\u001b[0m\u001b[2m:\u001b[0m Query stats: QueryStats {\n",
      "    too_short: 0,\n",
      "    unknown_minimizer: 0,\n",
      "    misaligned_ms_pos: 0,\n",
      "    out_of_bounds: 0,\n",
      "    mismatches: 2702147,\n",
      "    matches: 1808654,\n",
      "}\n",
      "\n"
     ]
    },
    {
     "name": "stderr",
     "output_type": "stream",
     "text": [
      "\u001b[2m2024-09-24T01:24:29.897856Z\u001b[0m \u001b[35mTRACE\u001b[0m \u001b[2muindex::sketchers::minimizers\u001b[0m\u001b[2m:\u001b[0m Sequence length 248387328\n",
      "\u001b[2m2024-09-24T01:24:31.149251Z\u001b[0m \u001b[35mTRACE\u001b[0m \u001b[2muindex::sketchers::minimizers\u001b[0m\u001b[2m:\u001b[0m Num minimizers: 35562736\n",
      "\u001b[2m2024-09-24T01:24:31.149259Z\u001b[0m \u001b[35mTRACE\u001b[0m \u001b[2muindex::utils\u001b[0m\u001b[2m:\u001b[0m   computing_minimizers          : 1.251s\n",
      "\u001b[2m2024-09-24T01:24:31.665275Z\u001b[0m \u001b[35mTRACE\u001b[0m \u001b[2muindex::sketchers::minimizers\u001b[0m\u001b[2m:\u001b[0m Num distinct minimizers: 180\n",
      "\u001b[2m2024-09-24T01:24:31.665282Z\u001b[0m \u001b[35mTRACE\u001b[0m \u001b[2muindex::sketchers::minimizers\u001b[0m\u001b[2m:\u001b[0m kmer_width: 8 bits\n",
      "\u001b[2m2024-09-24T01:24:31.665284Z\u001b[0m \u001b[35mTRACE\u001b[0m \u001b[2muindex::sketchers::minimizers\u001b[0m\u001b[2m:\u001b[0m kmer_width: 1 bytes\n",
      "\u001b[2m2024-09-24T01:24:31.665285Z\u001b[0m \u001b[35mTRACE\u001b[0m \u001b[2muindex::utils\u001b[0m\u001b[2m:\u001b[0m   Building remap                : 516.023ms\n",
      "\u001b[2m2024-09-24T01:24:31.858031Z\u001b[0m \u001b[35mTRACE\u001b[0m \u001b[2muindex::utils\u001b[0m\u001b[2m:\u001b[0m   Building EF                   : 192.738ms\n",
      "\u001b[2m2024-09-24T01:24:32.456814Z\u001b[0m \u001b[35mTRACE\u001b[0m \u001b[2muindex::utils\u001b[0m\u001b[2m:\u001b[0m   Remapping                     : 598.769ms\n",
      "\u001b[2m2024-09-24Benching..\n",
      "T01:24:32.456822Z\u001b[0m \u001b[35mTRACE\u001b[0m \u001b[2muindex::utils\u001b[0m\u001b[2m:\u001b[0m  Sketch                        : 2.559s\n",
      "\u001b[2m2024-09-24T01:24:32.456824Z\u001b[0m \u001b[35mTRACE\u001b[0m \u001b[2muindex::indices::sa_divsufsort\u001b[0m\u001b[2m:\u001b[0m MS sequence length 35562736\n",
      "\u001b[2m2024-09-24T01:24:34.996521Z\u001b[0m \u001b[35mTRACE\u001b[0m \u001b[2muindex::utils\u001b[0m\u001b[2m:\u001b[0m   Building suffix array         : 2.540s\n",
      "\u001b[2m2024-09-24T01:24:34.996539Z\u001b[0m \u001b[35mTRACE\u001b[0m \u001b[2muindex::utils\u001b[0m\u001b[2m:\u001b[0m  Build                         : 2.540s\n"
     ]
    },
    {
     "name": "stderr",
     "output_type": "stream",
     "text": [
      "Benching: 0.895743555s\n"
     ]
    },
    {
     "name": "stderr",
     "output_type": "stream",
     "text": [
      "Stats\n"
     ]
    },
    {
     "name": "stderr",
     "output_type": "stream",
     "text": [
      "Build                         :          2.54\n"
     ]
    },
    {
     "name": "stderr",
     "output_type": "stream",
     "text": [
      "Building EF                   :          0.19\n"
     ]
    },
    {
     "name": "stderr",
     "output_type": "stream",
     "text": [
      "Building remap                :          0.52\n"
     ]
    },
    {
     "name": "stderr",
     "output_type": "stream",
     "text": [
      "Building suffix array         :          2.54\n"
     ]
    },
    {
     "name": "stderr",
     "output_type": "stream",
     "text": [
      "Remapping                     :          0.60\n"
     ]
    },
    {
     "name": "stderr",
     "output_type": "stream",
     "text": [
      "Sketch                        :          2.56\n"
     ]
    },
    {
     "name": "stderr",
     "output_type": "stream",
     "text": [
      "build_time                    :          5.10\n"
     ]
    },
    {
     "name": "stderr",
     "output_type": "stream",
     "text": [
      "compress                      :          0.00\n"
     ]
    },
    {
     "name": "stderr",
     "output_type": "stream",
     "text": [
      "computing_minimizers          :          1.25\n"
     ]
    },
    {
     "name": "stderr",
     "output_type": "stream",
     "text": [
      "index_size_MB                 :        177.81\n"
     ]
    },
    {
     "name": "stderr",
     "output_type": "stream",
     "text": [
      "k                             :          4.00\n"
     ]
    },
    {
     "name": "stderr",
     "output_type": "stream",
     "text": [
      "kmer_width                    :          1.00\n"
     ]
    },
    {
     "name": "stderr",
     "output_type": "stream",
     "text": [
      "kmer_width_bits               :          8.00\n"
     ]
    },
    {
     "name": "stderr",
     "output_type": "stream",
     "text": [
      "l                             :         16.00\n"
     ]
    },
    {
     "name": "stderr",
     "output_type": "stream",
     "text": [
      "num_distinct_minimizers       :        180.00\n"
     ]
    },
    {
     "name": "stderr",
     "output_type": "stream",
     "text": [
      "num_minimizers                :   35562736.00\n"
     ]
    },
    {
     "name": "stderr",
     "output_type": "stream",
     "text": [
      "query_length                  :        256.00\n"
     ]
    },
    {
     "name": "stderr",
     "output_type": "stream",
     "text": [
      "query_matches                 :    1808654.00\n"
     ]
    },
    {
     "name": "stderr",
     "output_type": "stream",
     "text": [
      "query_misaligned_ms_pos       :          0.00\n"
     ]
    },
    {
     "name": "stderr",
     "output_type": "stream",
     "text": [
      "query_mismatches              :    1225501.00\n"
     ]
    },
    {
     "name": "stderr",
     "output_type": "stream",
     "text": [
      "query_out_of_bounds           :          0.00\n"
     ]
    },
    {
     "name": "stderr",
     "output_type": "stream",
     "text": [
      "query_time                    :          0.90\n"
     ]
    },
    {
     "name": "stderr",
     "output_type": "stream",
     "text": [
      "query_too_short               :          0.00\n"
     ]
    },
    {
     "name": "stderr",
     "output_type": "stream",
     "text": [
      "query_unknown_minimizer       :          0.00\n"
     ]
    },
    {
     "name": "stderr",
     "output_type": "stream",
     "text": [
      "remap                         :          1.00\n"
     ]
    },
    {
     "name": "stderr",
     "output_type": "stream",
     "text": [
      "seq_size_MB                   :        248.39\n"
     ]
    },
    {
     "name": "stderr",
     "output_type": "stream",
     "text": [
      "sequence length               :   35562736.00\n"
     ]
    },
    {
     "name": "stderr",
     "output_type": "stream",
     "text": [
      "sequence_length               :  248387328.00\n"
     ]
    },
    {
     "name": "stderr",
     "output_type": "stream",
     "text": [
      "sketch_size_MB                :         21.73\n"
     ]
    },
    {
     "name": "stderr",
     "output_type": "stream",
     "text": [
      "total_size_MB                 :        199.54\n"
     ]
    },
    {
     "name": "stderr",
     "output_type": "stream",
     "text": [
      "Building..\n",
      "\u001b[2m2024-09-24T01:24:35.905825Z\u001b[0m \u001b[32m INFO\u001b[0m \u001b[2muindex\u001b[0m\u001b[2m:\u001b[0m Query stats: QueryStats {\n",
      "    too_short: 0,\n",
      "    unknown_minimizer: 0,\n",
      "    misaligned_ms_pos: 0,\n",
      "    out_of_bounds: 0,\n",
      "    mismatches: 1225501,\n",
      "    matches: 1808654,\n",
      "}\n"
     ]
    },
    {
     "name": "stderr",
     "output_type": "stream",
     "text": [
      "\u001b[2m2024-09-24T01:24:37.881912Z\u001b[0m \u001b[35mTRACE\u001b[0m \u001b[2muindex::sketchers::minimizers\u001b[0m\u001b[2m:\u001b[0m Sequence length 248387328\n",
      "Benching..\n"
     ]
    },
    {
     "name": "stderr",
     "output_type": "stream",
     "text": [
      "Benching: 0.799418005s\u001b[2m2024-09-24T01:24:39.116460Z\u001b[0m \u001b[35mTRACE\u001b[0m \u001b[2muindex::sketchers::minimizers\u001b[0m\u001b[2m:\u001b[0m Num minimizers: 35562736\n",
      "\u001b[2m2024-09-24T01:24:39.116468Z\u001b[0m \u001b[35mTRACE\u001b[0m \u001b[2muindex::utils\u001b[0m\u001b[2m:\u001b[0m   computing_minimizers          : 1.235s\n",
      "\u001b[2m2024-09-24T01:24:39.629710Z\u001b[0m \u001b[35mTRACE\u001b[0m \u001b[2muindex::sketchers::minimizers\u001b[0m\u001b[2m:\u001b[0m Num distinct minimizers: 180\n",
      "\u001b[2m2024-09-24T01:24:39.629716Z\u001b[0m \u001b[35mTRACE\u001b[0m \u001b[2muindex::sketchers::minimizers\u001b[0m\u001b[2m:\u001b[0m kmer_width: 8 bits\n",
      "\u001b[2m2024-09-24T01:24:39.629717Z\u001b[0m \u001b[35mTRACE\u001b[0m \u001b[2muindex::sketchers::minimizers\u001b[0m\u001b[2m:\u001b[0m kmer_width: 1 bytes\n",
      "\u001b[2m2024-09-24T01:24:39.629719Z\u001b[0m \u001b[35mTRACE\u001b[0m \u001b[2muindex::utils\u001b[0m\u001b[2m:\u001b[0m   Building remap                : 513.247ms\n",
      "\u001b[2m2024-09-24T01:24:39.818971Z\u001b[0m \u001b[35mTRACE\u001b[0m \u001b[2muindex::utils\u001b[0m\u001b[2m:\u001b[0m   Building EF                   : 189.244ms\n",
      "\u001b[2m2024-09-24T01:24:40.407611Z\u001b[0m \u001b[35mTRACE\u001b[0m \u001b[2muindex::utils\u001b[0m\u001b[2m:\u001b[0m   Remapping                     : 588.626ms\n",
      "\u001b[2m2024-09-24\n"
     ]
    },
    {
     "name": "stderr",
     "output_type": "stream",
     "text": [
      "T01:24:40.407619Z\u001b[0m \u001b[35mTRACE\u001b[0m \u001b[2muindex::utils\u001b[0m\u001b[2m:\u001b[0m  Sketch                        : 2.526s\n",
      "\u001b[2m2024-09-24T01:24:40.407621Z\u001b[0m \u001b[35mTRACE\u001b[0m \u001b[2muindex::indices::sa_divsufsort\u001b[0m\u001b[2m:\u001b[0m MS sequence length 35562736\n",
      "\u001b[2m2024-09-24T01:24:42.828843Z\u001b[0m \u001b[35mTRACE\u001b[0m \u001b[2muindex::utils\u001b[0m\u001b[2m:\u001b[0m   Building suffix array         : 2.421s\n",
      "\u001b[2m2024-09-24T01:24:42.914299Z\u001b[0m \u001b[35mTRACE\u001b[0m \u001b[2muindex::utils\u001b[0m\u001b[2m:\u001b[0m  Build                         : 2.507s\n",
      "Stats\n"
     ]
    },
    {
     "name": "stderr",
     "output_type": "stream",
     "text": [
      "Build                         :          2.51\n"
     ]
    },
    {
     "name": "stderr",
     "output_type": "stream",
     "text": [
      "Building EF                   :          0.19\n"
     ]
    },
    {
     "name": "stderr",
     "output_type": "stream",
     "text": [
      "Building remap                :          0.51\n"
     ]
    },
    {
     "name": "stderr",
     "output_type": "stream",
     "text": [
      "Building suffix array         :          2.42\n"
     ]
    },
    {
     "name": "stderr",
     "output_type": "stream",
     "text": [
      "Remapping                     :          0.59\n"
     ]
    },
    {
     "name": "stderr",
     "output_type": "stream",
     "text": [
      "Sketch                        :          2.53\n"
     ]
    },
    {
     "name": "stderr",
     "output_type": "stream",
     "text": [
      "build_time                    :          5.03\n"
     ]
    },
    {
     "name": "stderr",
     "output_type": "stream",
     "text": [
      "compress                      :          1.00\n"
     ]
    },
    {
     "name": "stderr",
     "output_type": "stream",
     "text": [
      "computing_minimizers          :          1.23\n"
     ]
    },
    {
     "name": "stderr",
     "output_type": "stream",
     "text": [
      "index_size_MB                 :        177.81\n"
     ]
    },
    {
     "name": "stderr",
     "output_type": "stream",
     "text": [
      "k                             :          4.00\n"
     ]
    },
    {
     "name": "stderr",
     "output_type": "stream",
     "text": [
      "kmer_width                    :          1.00\n"
     ]
    },
    {
     "name": "stderr",
     "output_type": "stream",
     "text": [
      "kmer_width_bits               :          8.00\n"
     ]
    },
    {
     "name": "stderr",
     "output_type": "stream",
     "text": [
      "l                             :         16.00\n"
     ]
    },
    {
     "name": "stderr",
     "output_type": "stream",
     "text": [
      "num_distinct_minimizers       :        180.00\n"
     ]
    },
    {
     "name": "stderr",
     "output_type": "stream",
     "text": [
      "num_minimizers                :   35562736.00\n"
     ]
    },
    {
     "name": "stderr",
     "output_type": "stream",
     "text": [
      "query_length                  :        256.00\n"
     ]
    },
    {
     "name": "stderr",
     "output_type": "stream",
     "text": [
      "query_matches                 :    1808654.00\n"
     ]
    },
    {
     "name": "stderr",
     "output_type": "stream",
     "text": [
      "query_misaligned_ms_pos       :          0.00\n"
     ]
    },
    {
     "name": "stderr",
     "output_type": "stream",
     "text": [
      "query_mismatches              :    1225501.00\n"
     ]
    },
    {
     "name": "stderr",
     "output_type": "stream",
     "text": [
      "query_out_of_bounds           :          0.00\n"
     ]
    },
    {
     "name": "stderr",
     "output_type": "stream",
     "text": [
      "query_time                    :          0.80\n"
     ]
    },
    {
     "name": "stderr",
     "output_type": "stream",
     "text": [
      "query_too_short               :          0.00\n"
     ]
    },
    {
     "name": "stderr",
     "output_type": "stream",
     "text": [
      "query_unknown_minimizer       :          0.00\n"
     ]
    },
    {
     "name": "stderr",
     "output_type": "stream",
     "text": [
      "remap                         :          1.00\n"
     ]
    },
    {
     "name": "stderr",
     "output_type": "stream",
     "text": [
      "seq_size_MB                   :        248.39\n"
     ]
    },
    {
     "name": "stderr",
     "output_type": "stream",
     "text": [
      "sequence length               :   35562736.00\n"
     ]
    },
    {
     "name": "stderr",
     "output_type": "stream",
     "text": [
      "sequence_length               :  248387328.00\n"
     ]
    },
    {
     "name": "stderr",
     "output_type": "stream",
     "text": [
      "sketch_size_MB                :         21.73\n"
     ]
    },
    {
     "name": "stderr",
     "output_type": "stream",
     "text": [
      "total_size_MB                 :        199.54\n"
     ]
    },
    {
     "name": "stderr",
     "output_type": "stream",
     "text": [
      "Building..\n"
     ]
    },
    {
     "name": "stderr",
     "output_type": "stream",
     "text": [
      "\u001b[2m2024-09-24T01:24:43.727318Z\u001b[0m \u001b[32m INFO\u001b[0m \u001b[2muindex\u001b[0m\u001b[2m:\u001b[0m Query stats: QueryStats {\n",
      "    too_short: 0,\n",
      "    unknown_minimizer: 0,\n",
      "    misaligned_ms_pos: 0,\n",
      "    out_of_bounds: 0,\n",
      "    mismatches: 1225501,\n",
      "    matches: 1808654,\n",
      "}\n",
      "\u001b[2m2024-09-24T01:24:45.681561Z\u001b[0m \u001b[35mTRACE\u001b[0m \u001b[2muindex::sketchers::minimizers\u001b[0m\u001b[2m:\u001b[0m Sequence length 248387328\n",
      "\u001b[2m2024-09-24T01:24:46.936132Z\u001b[0m \u001b[35mTRACE\u001b[0m \u001b[2muindex::sketchers::minimizers\u001b[0m\u001b[2m:\u001b[0m Num minimizers: 35562736\n",
      "\u001b[2m2024-09-24T01:24:46.936140Z\u001b[0m \u001b[35mTRACE\u001b[0m \u001b[2muindex::sketchers::minimizers\u001b[0m\u001b[2m:\u001b[0m kmer_width: 1 bytes\n",
      "\u001b[2m2024-09-24T01:24:46.936143Z\u001b[0m \u001b[35mTRACE\u001b[0m \u001b[2muindex::utils\u001b[0m\u001b[2m:\u001b[0m   computing_minimizers          : 1.255s\n",
      "\u001b[2m2024-09-24T01:24:47.130374Z\u001b[0m \u001b[35mTRACE\u001b[0m \u001b[2muindex::utils\u001b[0m\u001b[2m:\u001b[0m   Building EF                   : 194.224ms\n",
      "\u001b[2m2024-09-24T01:24:47.239894Z\u001b[0m \u001b[35mTRACE\u001b[0m \u001b[2muindex::utils\u001b[0m\u001b[2m:\u001b[0m   Remapping                     : 109.507ms\n",
      "\u001b[2m2024-09-24T01:24:47.239902Z\u001b[0m \u001b[35mTRACE\u001b[0m \u001b[2muindex::utils\u001b[0m\u001b[2m:\u001b[0m  Sketch                        : 1.558s\n",
      "\u001b[2m2024-09-24T01:24:47.239904Z\u001b[0m \u001b[35mTRACE\u001b[0m \u001b[2muindex::indices::sa_divsufsort\u001b[0m\u001b[2m:\u001b[0m MS sequence length 35562736\n",
      "\u001b[2m2024-09Benching..\n",
      "-24T01:24:49.880525Z\u001b[0m \u001b[35mTRACE\u001b[0m \u001b[2muindex::utils\u001b[0m\u001b[2m:\u001b[0m   Building suffix array         : 2.641s\n",
      "\u001b[2m2024-09-24T01:24:49.880535Z\u001b[0m \u001b[35mTRACE\u001b[0m \u001b[2muindex::utils\u001b[0m\u001b[2m:\u001b[0m  Build                         : 2.641s\n"
     ]
    },
    {
     "name": "stderr",
     "output_type": "stream",
     "text": [
      "Benching: 0.882808108s\n"
     ]
    },
    {
     "name": "stderr",
     "output_type": "stream",
     "text": [
      "Stats\n"
     ]
    },
    {
     "name": "stderr",
     "output_type": "stream",
     "text": [
      "Build                         :          2.64\n"
     ]
    },
    {
     "name": "stderr",
     "output_type": "stream",
     "text": [
      "Building EF                   :          0.19\n"
     ]
    },
    {
     "name": "stderr",
     "output_type": "stream",
     "text": [
      "Building suffix array         :          2.64\n"
     ]
    },
    {
     "name": "stderr",
     "output_type": "stream",
     "text": [
      "Remapping                     :          0.11\n"
     ]
    },
    {
     "name": "stderr",
     "output_type": "stream",
     "text": [
      "Sketch                        :          1.56\n"
     ]
    },
    {
     "name": "stderr",
     "output_type": "stream",
     "text": [
      "build_time                    :          4.20\n"
     ]
    },
    {
     "name": "stderr",
     "output_type": "stream",
     "text": [
      "compress                      :          0.00\n"
     ]
    },
    {
     "name": "stderr",
     "output_type": "stream",
     "text": [
      "computing_minimizers          :          1.25\n"
     ]
    },
    {
     "name": "stderr",
     "output_type": "stream",
     "text": [
      "index_size_MB                 :        177.81\n"
     ]
    },
    {
     "name": "stderr",
     "output_type": "stream",
     "text": [
      "k                             :          4.00\n"
     ]
    },
    {
     "name": "stderr",
     "output_type": "stream",
     "text": [
      "kmer_width                    :          1.00\n"
     ]
    },
    {
     "name": "stderr",
     "output_type": "stream",
     "text": [
      "kmer_width_bits               :          8.00\n"
     ]
    },
    {
     "name": "stderr",
     "output_type": "stream",
     "text": [
      "l                             :         16.00\n"
     ]
    },
    {
     "name": "stderr",
     "output_type": "stream",
     "text": [
      "num_minimizers                :   35562736.00\n"
     ]
    },
    {
     "name": "stderr",
     "output_type": "stream",
     "text": [
      "query_length                  :        256.00\n"
     ]
    },
    {
     "name": "stderr",
     "output_type": "stream",
     "text": [
      "query_matches                 :    1808654.00\n"
     ]
    },
    {
     "name": "stderr",
     "output_type": "stream",
     "text": [
      "query_misaligned_ms_pos       :          0.00\n"
     ]
    },
    {
     "name": "stderr",
     "output_type": "stream",
     "text": [
      "query_mismatches              :    1225501.00\n"
     ]
    },
    {
     "name": "stderr",
     "output_type": "stream",
     "text": [
      "query_out_of_bounds           :          0.00\n"
     ]
    },
    {
     "name": "stderr",
     "output_type": "stream",
     "text": [
      "query_time                    :          0.88\n"
     ]
    },
    {
     "name": "stderr",
     "output_type": "stream",
     "text": [
      "query_too_short               :          0.00\n"
     ]
    },
    {
     "name": "stderr",
     "output_type": "stream",
     "text": [
      "query_unknown_minimizer       :          0.00\n"
     ]
    },
    {
     "name": "stderr",
     "output_type": "stream",
     "text": [
      "remap                         :          0.00\n"
     ]
    },
    {
     "name": "stderr",
     "output_type": "stream",
     "text": [
      "seq_size_MB                   :        248.39\n"
     ]
    },
    {
     "name": "stderr",
     "output_type": "stream",
     "text": [
      "sequence length               :   35562736.00\n"
     ]
    },
    {
     "name": "stderr",
     "output_type": "stream",
     "text": [
      "sequence_length               :  248387328.00\n"
     ]
    },
    {
     "name": "stderr",
     "output_type": "stream",
     "text": [
      "sketch_size_MB                :         21.72\n"
     ]
    },
    {
     "name": "stderr",
     "output_type": "stream",
     "text": [
      "total_size_MB                 :        199.54\n"
     ]
    },
    {
     "name": "stderr",
     "output_type": "stream",
     "text": [
      "Building..\n",
      "\u001b[2m2024-09-24T01:24:50.778990Z\u001b[0m \u001b[32m INFO\u001b[0m \u001b[2muindex\u001b[0m\u001b[2m:\u001b[0m Query stats: QueryStats {\n",
      "    too_short: 0,\n",
      "    unknown_minimizer: 0,\n",
      "    misaligned_ms_pos: 0,\n",
      "    out_of_bounds: 0,\n",
      "    mismatches: 1225501,\n",
      "    matches: 1808654,\n",
      "}\n"
     ]
    },
    {
     "name": "stderr",
     "output_type": "stream",
     "text": [
      "\u001b[2m2024-09-24T01:24:52.737222Z\u001b[0m \u001b[35mTRACE\u001b[0m \u001b[2muindex::sketchers::minimizers\u001b[0m\u001b[2m:\u001b[0m Sequence length 248387328\n",
      "Benching..\n",
      "\u001b[2m2024-09-24T01:24:53.993974Z\u001b[0m \u001b[35mTRACE\u001b[0m \u001b[2muindex::sketchers::minimizers\u001b[0m\u001b[2m:\u001b[0m Num minimizers: 35562736\n",
      "\u001b[2m2024-09-24T01:24:53.993982Z\u001b[0m \u001b[35mTRACE\u001b[0m \u001b[2muindex::sketchers::minimizers\u001b[0m\u001b[2m:\u001b[0m kmer_width: 1 bytes\n",
      "\u001b[2m2024-09-24T01:24:53.993985Z\u001b[0m \u001b[35mTRACE\u001b[0m \u001b[2muindex::utils\u001b[0m\u001b[2m:\u001b[0m   computing_minimizers          : 1.257s\n",
      "\u001b[2m2024-09-24T01:24:54.184921Z\u001b[0m \u001b[35mTRACE\u001b[0m \u001b[2muindex::utils\u001b[0m\u001b[2m:\u001b[0m   Building EF                   : 190.930ms\n",
      "\u001b[2m2024-09-24T01:24:54.292683Z\u001b[0m \u001b[35mTRACE\u001b[0m \u001b[2muindex::utils\u001b[0m\u001b[2m:\u001b[0m   Remapping                     : 107.749ms\n",
      "\u001b[2m2024-09-24T01:24:54.292693Z\u001b[0m \u001b[35mTRACE\u001b[0m \u001b[2muindex::utils\u001b[0m\u001b[2m:\u001b[0m  Sketch                        : 1.555s\n",
      "\u001b[2m2024-09-24T01:24:54.292695Z\u001b[0m \u001b[35mTRACE\u001b[0m \u001b[2muindex::indices::sa_divsufsort\u001b[0m\u001b[2m:\u001b[0m MS sequence length 35562736\n",
      "\u001b[2m2024-09-24T01:24:56.807578Z\u001b[0m \u001b[35mTRACE\u001b[0m \u001b[2muindex::utils\u001b[0m\u001b[2m:\u001b[0m   Building suffix array         : 2.515s\n",
      "\u001b[2m2024-09-24T01:24:56.893564Z\u001b[0m \u001b[35mTRACE\u001b[0m \u001b[2muindex::utils\u001b[0m\u001b[2m:\u001b[0m  Build                         : 2.601s\n"
     ]
    },
    {
     "name": "stderr",
     "output_type": "stream",
     "text": [
      "Benching: 0.76261502s\n"
     ]
    },
    {
     "name": "stderr",
     "output_type": "stream",
     "text": [
      "Stats\n"
     ]
    },
    {
     "name": "stderr",
     "output_type": "stream",
     "text": [
      "Build                         :          2.60\n"
     ]
    },
    {
     "name": "stderr",
     "output_type": "stream",
     "text": [
      "Building EF                   :          0.19\n"
     ]
    },
    {
     "name": "stderr",
     "output_type": "stream",
     "text": [
      "Building suffix array         :          2.51\n"
     ]
    },
    {
     "name": "stderr",
     "output_type": "stream",
     "text": [
      "Remapping                     :          0.11\n"
     ]
    },
    {
     "name": "stderr",
     "output_type": "stream",
     "text": [
      "Sketch                        :          1.56\n"
     ]
    },
    {
     "name": "stderr",
     "output_type": "stream",
     "text": [
      "build_time                    :          4.16\n"
     ]
    },
    {
     "name": "stderr",
     "output_type": "stream",
     "text": [
      "compress                      :          1.00\n"
     ]
    },
    {
     "name": "stderr",
     "output_type": "stream",
     "text": [
      "computing_minimizers          :          1.26\n"
     ]
    },
    {
     "name": "stderr",
     "output_type": "stream",
     "text": [
      "index_size_MB                 :        177.81\n"
     ]
    },
    {
     "name": "stderr",
     "output_type": "stream",
     "text": [
      "k                             :          4.00\n"
     ]
    },
    {
     "name": "stderr",
     "output_type": "stream",
     "text": [
      "kmer_width                    :          1.00\n"
     ]
    },
    {
     "name": "stderr",
     "output_type": "stream",
     "text": [
      "kmer_width_bits               :          8.00\n"
     ]
    },
    {
     "name": "stderr",
     "output_type": "stream",
     "text": [
      "l                             :         16.00\n"
     ]
    },
    {
     "name": "stderr",
     "output_type": "stream",
     "text": [
      "num_minimizers                :   35562736.00\n"
     ]
    },
    {
     "name": "stderr",
     "output_type": "stream",
     "text": [
      "query_length                  :        256.00\n"
     ]
    },
    {
     "name": "stderr",
     "output_type": "stream",
     "text": [
      "query_matches                 :    1808654.00\n"
     ]
    },
    {
     "name": "stderr",
     "output_type": "stream",
     "text": [
      "query_misaligned_ms_pos       :          0.00\n"
     ]
    },
    {
     "name": "stderr",
     "output_type": "stream",
     "text": [
      "query_mismatches              :    1225501.00\n"
     ]
    },
    {
     "name": "stderr",
     "output_type": "stream",
     "text": [
      "query_out_of_bounds           :          0.00\n"
     ]
    },
    {
     "name": "stderr",
     "output_type": "stream",
     "text": [
      "query_time                    :          0.76\n"
     ]
    },
    {
     "name": "stderr",
     "output_type": "stream",
     "text": [
      "query_too_short               :          0.00\n"
     ]
    },
    {
     "name": "stderr",
     "output_type": "stream",
     "text": [
      "query_unknown_minimizer       :          0.00\n"
     ]
    },
    {
     "name": "stderr",
     "output_type": "stream",
     "text": [
      "remap                         :          0.00\n"
     ]
    },
    {
     "name": "stderr",
     "output_type": "stream",
     "text": [
      "seq_size_MB                   :        248.39\n"
     ]
    },
    {
     "name": "stderr",
     "output_type": "stream",
     "text": [
      "sequence length               :   35562736.00\n"
     ]
    },
    {
     "name": "stderr",
     "output_type": "stream",
     "text": [
      "sequence_length               :  248387328.00\n"
     ]
    },
    {
     "name": "stderr",
     "output_type": "stream",
     "text": [
      "sketch_size_MB                :         21.72\n"
     ]
    },
    {
     "name": "stderr",
     "output_type": "stream",
     "text": [
      "total_size_MB                 :        199.54\n"
     ]
    },
    {
     "name": "stderr",
     "output_type": "stream",
     "text": [
      "Building..\n",
      "\u001b[2m2024-09-24T01:24:57.666918Z\u001b[0m \u001b[32m INFO\u001b[0m \u001b[2muindex\u001b[0m\u001b[2m:\u001b[0m Query stats: QueryStats {\n",
      "    too_short: 0,\n",
      "    unknown_minimizer: 0,\n",
      "    misaligned_ms_pos: 0,\n",
      "    out_of_bounds: 0,\n",
      "    mismatches: 1225501,\n",
      "    matches: 1808654,\n",
      "}\n"
     ]
    },
    {
     "name": "stderr",
     "output_type": "stream",
     "text": [
      "\u001b[2m2024-09-24T01:24:59.642824Z\u001b[0m \u001b[35mTRACE\u001b[0m \u001b[2muindex::sketchers::minimizers\u001b[0m\u001b[2m:\u001b[0m Sequence length 248387328\n",
      "Benching..\n",
      "\u001b[2m2024-09-24T01:25:00.487622Z\u001b[0m \u001b[35mTRACE\u001b[0m \u001b[2muindex::sketchers::minimizers\u001b[0m\u001b[2m:\u001b[0m Num minimizers: 4344640\n",
      "\u001b[2m2024-09-24T01:25:00.487630Z\u001b[0m \u001b[35mTRACE\u001b[0m \u001b[2muindex::utils\u001b[0m\u001b[2m:\u001b[0m   computing_minimizers          : 844.796ms\n",
      "\u001b[2m2024-09-24T01:25:00.785895Z\u001b[0m \u001b[35mTRACE\u001b[0m \u001b[2muindex::sketchers::minimizers\u001b[0m\u001b[2m:\u001b[0m Num distinct minimizers: 3087685\n",
      "\u001b[2m2024-09-24T01:25:00.785904Z\u001b[0m \u001b[35mTRACE\u001b[0m \u001b[2muindex::sketchers::minimizers\u001b[0m\u001b[2m:\u001b[0m kmer_width: 22 bits\n",
      "\u001b[2m2024-09-24T01:25:00.785906Z\u001b[0m \u001b[35mTRACE\u001b[0m \u001b[2muindex::sketchers::minimizers\u001b[0m\u001b[2m:\u001b[0m kmer_width: 3 bytes\n",
      "\u001b[2m2024-09-24T01:25:00.785908Z\u001b[0m \u001b[35mTRACE\u001b[0m \u001b[2muindex::utils\u001b[0m\u001b[2m:\u001b[0m   Building remap                : 298.274ms\n",
      "\u001b[2m2024-09-24T01:25:00.811891Z\u001b[0m \u001b[35mTRACE\u001b[0m \u001b[2muindex::utils\u001b[0m\u001b[2m:\u001b[0m   Building EF                   : 25.976ms\n",
      "\u001b[2m2024-09-24T01:25:01.134536Z\u001b[0m \u001b[35mTRACE\u001b[0m \u001b[2muindex::utils\u001b[0m\u001b[2m:\u001b[0m   Remapping                     : 322.636ms\n",
      "\u001b[2m2024-09-24T01:25:01.134546Z\u001b[0m \u001b[35mTRACE\u001b[0m \u001b[2muindex::utils\u001b[0m\u001b[2m:\u001b[0m  Sketch                        : 1.492s\n",
      "\u001b[2m2024-09-24T01:25:01.134550Z\u001b[0m \u001b[35mTRACE\u001b[0m \u001b[2muindex::indices::sa_divsufsort\u001b[0m\u001b[2m:\u001b[0m MS sequence length 13033920\n",
      "\u001b[2m2024-09-24T01:25:01.493777Z\u001b[0m \u001b[35mTRACE\u001b[0m \u001b[2muindex::utils\u001b[0m\u001b[2m:\u001b[0m   Building suffix array         : 359.225ms\n",
      "\u001b[2m2024-09-24T01:25:01.493786Z\u001b[0m \u001b[35mTRACE\u001b[0m \u001b[2muindex::utils\u001b[0m\u001b[2m:\u001b[0m  Build                         : 359.236ms\n"
     ]
    },
    {
     "name": "stderr",
     "output_type": "stream",
     "text": [
      "Benching: 2.086810204s\n"
     ]
    },
    {
     "name": "stderr",
     "output_type": "stream",
     "text": [
      "Stats\n"
     ]
    },
    {
     "name": "stderr",
     "output_type": "stream",
     "text": [
      "Build                         :          0.36\n"
     ]
    },
    {
     "name": "stderr",
     "output_type": "stream",
     "text": [
      "Building EF                   :          0.03\n"
     ]
    },
    {
     "name": "stderr",
     "output_type": "stream",
     "text": [
      "Building remap                :          0.30\n"
     ]
    },
    {
     "name": "stderr",
     "output_type": "stream",
     "text": [
      "Building suffix array         :          0.36\n"
     ]
    },
    {
     "name": "stderr",
     "output_type": "stream",
     "text": [
      "Remapping                     :          0.32\n"
     ]
    },
    {
     "name": "stderr",
     "output_type": "stream",
     "text": [
      "Sketch                        :          1.49\n"
     ]
    },
    {
     "name": "stderr",
     "output_type": "stream",
     "text": [
      "build_time                    :          1.85\n"
     ]
    },
    {
     "name": "stderr",
     "output_type": "stream",
     "text": [
      "compress                      :          0.00\n"
     ]
    },
    {
     "name": "stderr",
     "output_type": "stream",
     "text": [
      "computing_minimizers          :          0.84\n"
     ]
    },
    {
     "name": "stderr",
     "output_type": "stream",
     "text": [
      "index_size_MB                 :         65.17\n"
     ]
    },
    {
     "name": "stderr",
     "output_type": "stream",
     "text": [
      "k                             :         16.00\n"
     ]
    },
    {
     "name": "stderr",
     "output_type": "stream",
     "text": [
      "kmer_width                    :          3.00\n"
     ]
    },
    {
     "name": "stderr",
     "output_type": "stream",
     "text": [
      "kmer_width_bits               :         22.00\n"
     ]
    },
    {
     "name": "stderr",
     "output_type": "stream",
     "text": [
      "l                             :        128.00\n"
     ]
    },
    {
     "name": "stderr",
     "output_type": "stream",
     "text": [
      "num_distinct_minimizers       :    3087685.00\n"
     ]
    },
    {
     "name": "stderr",
     "output_type": "stream",
     "text": [
      "num_minimizers                :    4344640.00\n"
     ]
    },
    {
     "name": "stderr",
     "output_type": "stream",
     "text": [
      "query_length                  :        256.00\n"
     ]
    },
    {
     "name": "stderr",
     "output_type": "stream",
     "text": [
      "query_matches                 :    1808654.00\n"
     ]
    },
    {
     "name": "stderr",
     "output_type": "stream",
     "text": [
      "query_misaligned_ms_pos       :          0.00\n"
     ]
    },
    {
     "name": "stderr",
     "output_type": "stream",
     "text": [
      "query_mismatches              :   20118538.00\n"
     ]
    },
    {
     "name": "stderr",
     "output_type": "stream",
     "text": [
      "query_out_of_bounds           :          0.00\n"
     ]
    },
    {
     "name": "stderr",
     "output_type": "stream",
     "text": [
      "query_time                    :          2.09\n"
     ]
    },
    {
     "name": "stderr",
     "output_type": "stream",
     "text": [
      "query_too_short               :          0.00\n"
     ]
    },
    {
     "name": "stderr",
     "output_type": "stream",
     "text": [
      "query_unknown_minimizer       :          0.00\n"
     ]
    },
    {
     "name": "stderr",
     "output_type": "stream",
     "text": [
      "remap                         :          1.00\n"
     ]
    },
    {
     "name": "stderr",
     "output_type": "stream",
     "text": [
      "seq_size_MB                   :        248.39\n"
     ]
    },
    {
     "name": "stderr",
     "output_type": "stream",
     "text": [
      "sequence length               :   13033920.00\n"
     ]
    },
    {
     "name": "stderr",
     "output_type": "stream",
     "text": [
      "sequence_length               :  248387328.00\n"
     ]
    },
    {
     "name": "stderr",
     "output_type": "stream",
     "text": [
      "sketch_size_MB                :         75.61\n"
     ]
    },
    {
     "name": "stderr",
     "output_type": "stream",
     "text": [
      "total_size_MB                 :        140.78\n"
     ]
    },
    {
     "name": "stderr",
     "output_type": "stream",
     "text": [
      "Building..\n",
      "\u001b[2m2024-09-24T01:25:03.594066Z\u001b[0m \u001b[32m INFO\u001b[0m \u001b[2muindex\u001b[0m\u001b[2m:\u001b[0m Query stats: QueryStats {\n",
      "    too_short: 0,\n",
      "    unknown_minimizer: 0,\n",
      "    misaligned_ms_pos: 0,\n",
      "    out_of_bounds: 0,\n",
      "    mismatches: 20118538,\n",
      "    matches: 1808654,\n",
      "}\n"
     ]
    },
    {
     "name": "stderr",
     "output_type": "stream",
     "text": [
      "Benching..\u001b[2m2024-09-24T01:25:05.552206Z\u001b[0m \u001b[35mTRACE\u001b[0m \u001b[2muindex::sketchers::minimizers\u001b[0m\u001b[2m:\u001b[0m Sequence length 248387328\n",
      "\u001b[2m2024-09-24T01:25:06.398081Z\u001b[0m \u001b[35mTRACE\u001b[0m \u001b[2muindex::sketchers::minimizers\u001b[0m\u001b[2m:\u001b[0m Num minimizers: 4344640\n",
      "\u001b[2m2024-09-24T01:25:06.398088Z\u001b[0m \u001b[35mTRACE\u001b[0m \u001b[2muindex::utils\u001b[0m\u001b[2m:\u001b[0m   computing_minimizers          : 845.871ms\n",
      "\u001b[2m2024-09-24T01:25:06.680231Z\u001b[0m \u001b[35mTRACE\u001b[0m \u001b[2muindex::sketchers::minimizers\u001b[0m\u001b[2m:\u001b[0m Num distinct minimizers: 3087685\n",
      "\u001b[2m2024-09-24T01:25:06.680239Z\u001b[0m \u001b[35mTRACE\u001b[0m \u001b[2muindex::sketchers::minimizers\u001b[0m\u001b[2m:\u001b[0m kmer_width: 22 bits\n",
      "\u001b[2m2024-09-24T01:25:06.680241Z\u001b[0m \u001b[35mTRACE\u001b[0m \u001b[2muindex::sketchers::minimizers\u001b[0m\u001b[2m:\u001b[0m kmer_width: 3 bytes\n",
      "\u001b[2m2024-09-24T01:25:06.680243Z\u001b[0m \u001b[35mTRACE\u001b[0m \u001b[2muindex::utils\u001b[0m\u001b[2m:\u001b[0m   Building remap                : 282.150ms\n",
      "\u001b[2m2024-09-24T01:25:06.705507Z\u001b[0m \u001b[35mTRACE\u001b[0m \u001b[2muindex::utils\u001b[0m\u001b[2m:\u001b[0m   Building EF                   : 25.257ms\n",
      "\u001b[2m2024-09-24T01:25:07.004675Z\u001b[0m \u001b[35mTRACE\u001b[0m \u001b[2muindex::utils\u001b[0m\u001b[2m:\u001b[0m   Remapping                     : 299.157ms\n",
      "\u001b[2m2024\n",
      "-09-24T01:25:07.004686Z\u001b[0m \u001b[35mTRACE\u001b[0m \u001b[2muindex::utils\u001b[0m\u001b[2m:\u001b[0m  Sketch                        : 1.452s\n",
      "\u001b[2m2024-09-24T01:25:07.004688Z\u001b[0m \u001b[35mTRACE\u001b[0m \u001b[2muindex::indices::sa_divsufsort\u001b[0m\u001b[2m:\u001b[0m MS sequence length 13033920\n",
      "\u001b[2m2024-09-24T01:25:07.361513Z\u001b[0m \u001b[35mTRACE\u001b[0m \u001b[2muindex::utils\u001b[0m\u001b[2m:\u001b[0m   Building suffix array         : 356.822ms\n",
      "\u001b[2m2024-09-24T01:25:07.404336Z\u001b[0m \u001b[35mTRACE\u001b[0m \u001b[2muindex::utils\u001b[0m\u001b[2m:\u001b[0m  Build                         : 399.648ms\n"
     ]
    },
    {
     "name": "stderr",
     "output_type": "stream",
     "text": [
      "Benching: 2.052656208s\n"
     ]
    },
    {
     "name": "stderr",
     "output_type": "stream",
     "text": [
      "Stats\n"
     ]
    },
    {
     "name": "stderr",
     "output_type": "stream",
     "text": [
      "Build                         :          0.40\n"
     ]
    },
    {
     "name": "stderr",
     "output_type": "stream",
     "text": [
      "Building EF                   :          0.03\n"
     ]
    },
    {
     "name": "stderr",
     "output_type": "stream",
     "text": [
      "Building remap                :          0.28\n"
     ]
    },
    {
     "name": "stderr",
     "output_type": "stream",
     "text": [
      "Building suffix array         :          0.36\n"
     ]
    },
    {
     "name": "stderr",
     "output_type": "stream",
     "text": [
      "Remapping                     :          0.30\n"
     ]
    },
    {
     "name": "stderr",
     "output_type": "stream",
     "text": [
      "Sketch                        :          1.45\n"
     ]
    },
    {
     "name": "stderr",
     "output_type": "stream",
     "text": [
      "build_time                    :          1.85\n"
     ]
    },
    {
     "name": "stderr",
     "output_type": "stream",
     "text": [
      "compress                      :          1.00\n"
     ]
    },
    {
     "name": "stderr",
     "output_type": "stream",
     "text": [
      "computing_minimizers          :          0.85\n"
     ]
    },
    {
     "name": "stderr",
     "output_type": "stream",
     "text": [
      "index_size_MB                 :         30.41\n"
     ]
    },
    {
     "name": "stderr",
     "output_type": "stream",
     "text": [
      "k                             :         16.00\n"
     ]
    },
    {
     "name": "stderr",
     "output_type": "stream",
     "text": [
      "kmer_width                    :          3.00\n"
     ]
    },
    {
     "name": "stderr",
     "output_type": "stream",
     "text": [
      "kmer_width_bits               :         22.00\n"
     ]
    },
    {
     "name": "stderr",
     "output_type": "stream",
     "text": [
      "l                             :        128.00\n"
     ]
    },
    {
     "name": "stderr",
     "output_type": "stream",
     "text": [
      "num_distinct_minimizers       :    3087685.00\n"
     ]
    },
    {
     "name": "stderr",
     "output_type": "stream",
     "text": [
      "num_minimizers                :    4344640.00\n"
     ]
    },
    {
     "name": "stderr",
     "output_type": "stream",
     "text": [
      "query_length                  :        256.00\n"
     ]
    },
    {
     "name": "stderr",
     "output_type": "stream",
     "text": [
      "query_matches                 :    1808654.00\n"
     ]
    },
    {
     "name": "stderr",
     "output_type": "stream",
     "text": [
      "query_misaligned_ms_pos       :          0.00\n"
     ]
    },
    {
     "name": "stderr",
     "output_type": "stream",
     "text": [
      "query_mismatches              :   20118538.00\n"
     ]
    },
    {
     "name": "stderr",
     "output_type": "stream",
     "text": [
      "query_out_of_bounds           :          0.00\n"
     ]
    },
    {
     "name": "stderr",
     "output_type": "stream",
     "text": [
      "query_time                    :          2.05\n"
     ]
    },
    {
     "name": "stderr",
     "output_type": "stream",
     "text": [
      "query_too_short               :          0.00\n"
     ]
    },
    {
     "name": "stderr",
     "output_type": "stream",
     "text": [
      "query_unknown_minimizer       :          0.00\n"
     ]
    },
    {
     "name": "stderr",
     "output_type": "stream",
     "text": [
      "remap                         :          1.00\n"
     ]
    },
    {
     "name": "stderr",
     "output_type": "stream",
     "text": [
      "seq_size_MB                   :        248.39\n"
     ]
    },
    {
     "name": "stderr",
     "output_type": "stream",
     "text": [
      "sequence length               :   13033920.00\n"
     ]
    },
    {
     "name": "stderr",
     "output_type": "stream",
     "text": [
      "sequence_length               :  248387328.00\n"
     ]
    },
    {
     "name": "stderr",
     "output_type": "stream",
     "text": [
      "sketch_size_MB                :         75.61\n"
     ]
    },
    {
     "name": "stderr",
     "output_type": "stream",
     "text": [
      "total_size_MB                 :        106.02\n"
     ]
    },
    {
     "name": "stderr",
     "output_type": "stream",
     "text": [
      "Building..\n",
      "\u001b[2m2024-09-24T01:25:09.470599Z\u001b[0m \u001b[32m INFO\u001b[0m \u001b[2muindex\u001b[0m\u001b[2m:\u001b[0m Query stats: QueryStats {\n",
      "    too_short: 0,\n",
      "    unknown_minimizer: 0,\n",
      "    misaligned_ms_pos: 0,\n",
      "    out_of_bounds: 0,\n",
      "    mismatches: 20118538,\n",
      "    matches: 1808654,\n",
      "}\n"
     ]
    },
    {
     "name": "stderr",
     "output_type": "stream",
     "text": [
      "\u001b[2m2024-09-24T01:25:11.422074Z\u001b[0m \u001b[35mTRACE\u001b[0m \u001b[2muindex::sketchers::minimizers\u001b[0m\u001b[2m:\u001b[0m Sequence length 248387328\n",
      "\u001b[2m2024-09-24T01:25:12.260141Z\u001b[0m \u001b[35mTRACE\u001b[0m \u001b[2muindex::sketchers::minimizers\u001b[0m\u001b[2m:\u001b[0m Num minimizers: 4344640\n",
      "\u001b[2m2024-09-24T01:25:12.260148Z\u001b[0m \u001b[35mTRACE\u001b[0m \u001b[2muindex::sketchers::minimizers\u001b[0m\u001b[2m:\u001b[0m kmer_width: 4 bytes\n",
      "\u001b[2m2024-09-24T01:25:12.260151Z\u001b[0m \u001b[35mTRACE\u001b[0m \u001b[2muindex::utils\u001b[0m\u001b[2m:\u001b[0m   computing_minimizers          : 838.068ms\n",
      "\u001b[2m2024-09-24T01:25:12.284002Z\u001b[0m \u001b[35mTRACE\u001b[0m \u001b[2muindex::utils\u001b[0m\u001b[2m:\u001b[0m   Building EF                   : 23.845ms\n",
      "\u001b[2m2024-09-24T01:25:12.295591Z\u001b[0m \u001b[35mTRACE\u001b[0m \u001b[2muindex::utils\u001b[0m\u001b[2m:\u001b[0m   Remapping                     : 11.581ms\n",
      "\u001b[2m2024-09-24T01:25:12.295597Z\u001b[0m \u001b[35mTRACE\u001b[0m \u001b[2muindex::utils\u001b[0m\u001b[2m:\u001b[0m  Sketch                        : 873.526ms\n",
      "\u001b[2m2024-09-24T01:25:12.295599Z\u001b[0m \u001b[35mTRACE\u001b[0m \u001b[2muindex::indices::sa_divsufsort\u001b[0m\u001b[2m:\u001b[0m MS sequence length 17378560\n",
      "\u001b[2m2024Benching..\n"
     ]
    },
    {
     "name": "stderr",
     "output_type": "stream",
     "text": [
      "-09-24T01:25:13.083550Z\u001b[0m \u001b[35mTRACE\u001b[0m \u001b[2muindex::utils\u001b[0m\u001b[2m:\u001b[0m   Building suffix array         : 787.948ms\n",
      "\u001b[2m2024-09-24T01:25:13.083560Z\u001b[0m \u001b[35mTRACE\u001b[0m \u001b[2muindex::utils\u001b[0m\u001b[2m:\u001b[0m  Build                         : 787.961ms\n",
      "Benching: 2.006365903s\n"
     ]
    },
    {
     "name": "stderr",
     "output_type": "stream",
     "text": [
      "Stats\n"
     ]
    },
    {
     "name": "stderr",
     "output_type": "stream",
     "text": [
      "Build                         :          0.79\n"
     ]
    },
    {
     "name": "stderr",
     "output_type": "stream",
     "text": [
      "Building EF                   :          0.02\n"
     ]
    },
    {
     "name": "stderr",
     "output_type": "stream",
     "text": [
      "Building suffix array         :          0.79\n"
     ]
    },
    {
     "name": "stderr",
     "output_type": "stream",
     "text": [
      "Remapping                     :          0.01\n"
     ]
    },
    {
     "name": "stderr",
     "output_type": "stream",
     "text": [
      "Sketch                        :          0.87\n"
     ]
    },
    {
     "name": "stderr",
     "output_type": "stream",
     "text": [
      "build_time                    :          1.66\n"
     ]
    },
    {
     "name": "stderr",
     "output_type": "stream",
     "text": [
      "compress                      :          0.00\n"
     ]
    },
    {
     "name": "stderr",
     "output_type": "stream",
     "text": [
      "computing_minimizers          :          0.84\n"
     ]
    },
    {
     "name": "stderr",
     "output_type": "stream",
     "text": [
      "index_size_MB                 :         86.89\n"
     ]
    },
    {
     "name": "stderr",
     "output_type": "stream",
     "text": [
      "k                             :         16.00\n"
     ]
    },
    {
     "name": "stderr",
     "output_type": "stream",
     "text": [
      "kmer_width                    :          4.00\n"
     ]
    },
    {
     "name": "stderr",
     "output_type": "stream",
     "text": [
      "kmer_width_bits               :         32.00\n"
     ]
    },
    {
     "name": "stderr",
     "output_type": "stream",
     "text": [
      "l                             :        128.00\n"
     ]
    },
    {
     "name": "stderr",
     "output_type": "stream",
     "text": [
      "num_minimizers                :    4344640.00\n"
     ]
    },
    {
     "name": "stderr",
     "output_type": "stream",
     "text": [
      "query_length                  :        256.00\n"
     ]
    },
    {
     "name": "stderr",
     "output_type": "stream",
     "text": [
      "query_matches                 :    1808654.00\n"
     ]
    },
    {
     "name": "stderr",
     "output_type": "stream",
     "text": [
      "query_misaligned_ms_pos       :      49603.00\n"
     ]
    },
    {
     "name": "stderr",
     "output_type": "stream",
     "text": [
      "query_mismatches              :   20118538.00\n"
     ]
    },
    {
     "name": "stderr",
     "output_type": "stream",
     "text": [
      "query_out_of_bounds           :          0.00\n"
     ]
    },
    {
     "name": "stderr",
     "output_type": "stream",
     "text": [
      "query_time                    :          2.01\n"
     ]
    },
    {
     "name": "stderr",
     "output_type": "stream",
     "text": [
      "query_too_short               :          0.00\n"
     ]
    },
    {
     "name": "stderr",
     "output_type": "stream",
     "text": [
      "query_unknown_minimizer       :          0.00\n"
     ]
    },
    {
     "name": "stderr",
     "output_type": "stream",
     "text": [
      "remap                         :          0.00\n"
     ]
    },
    {
     "name": "stderr",
     "output_type": "stream",
     "text": [
      "seq_size_MB                   :        248.39\n"
     ]
    },
    {
     "name": "stderr",
     "output_type": "stream",
     "text": [
      "sequence length               :   17378560.00\n"
     ]
    },
    {
     "name": "stderr",
     "output_type": "stream",
     "text": [
      "sequence_length               :  248387328.00\n"
     ]
    },
    {
     "name": "stderr",
     "output_type": "stream",
     "text": [
      "sketch_size_MB                :          4.31\n"
     ]
    },
    {
     "name": "stderr",
     "output_type": "stream",
     "text": [
      "total_size_MB                 :         91.20\n"
     ]
    },
    {
     "name": "stderr",
     "output_type": "stream",
     "text": [
      "Building..\n",
      "\u001b[2m2024-09-24T01:25:15.102665Z\u001b[0m \u001b[32m INFO\u001b[0m \u001b[2muindex\u001b[0m\u001b[2m:\u001b[0m Query stats: QueryStats {\n",
      "    too_short: 0,\n",
      "    unknown_minimizer: 0,\n",
      "    misaligned_ms_pos: 49603,\n",
      "    out_of_bounds: 0,\n",
      "    mismatches: 20118538,\n",
      "    matches: 1808654,\n",
      "}\n"
     ]
    },
    {
     "name": "stderr",
     "output_type": "stream",
     "text": [
      "\u001b[2m2024-09-24T01:25:17.058894Z\u001b[0m \u001b[35mTRACE\u001b[0m \u001b[2muindex::sketchers::minimizers\u001b[0m\u001b[2m:\u001b[0m Sequence length 248387328\n",
      "Benching..\n"
     ]
    },
    {
     "name": "stderr",
     "output_type": "stream",
     "text": [
      "\u001b[2m2024-09-24T01:25:17.896436Z\u001b[0m \u001b[35mTRACE\u001b[0m \u001b[2muindex::sketchers::minimizers\u001b[0m\u001b[2m:\u001b[0m Num minimizers: 4344640\n",
      "\u001b[2m2024-09-24T01:25:17.896443Z\u001b[0m \u001b[35mTRACE\u001b[0m \u001b[2muindex::sketchers::minimizers\u001b[0m\u001b[2m:\u001b[0m kmer_width: 4 bytes\n",
      "\u001b[2m2024-09-24T01:25:17.896447Z\u001b[0m \u001b[35mTRACE\u001b[0m \u001b[2muindex::utils\u001b[0m\u001b[2m:\u001b[0m   computing_minimizers          : 837.543ms\n",
      "\u001b[2m2024-09-24T01:25:17.920633Z\u001b[0m \u001b[35mTRACE\u001b[0m \u001b[2muindex::utils\u001b[0m\u001b[2m:\u001b[0m   Building EF                   : 24.181ms\n",
      "\u001b[2m2024-09-24T01:25:17.932372Z\u001b[0m \u001b[35mTRACE\u001b[0m \u001b[2muindex::utils\u001b[0m\u001b[2m:\u001b[0m   Remapping                     : 11.731ms\n",
      "\u001b[2m2024-09-24T01:25:17.932378Z\u001b[0m \u001b[35mTRACE\u001b[0m \u001b[2muindex::utils\u001b[0m\u001b[2m:\u001b[0m  Sketch                        : 873.485ms\n",
      "\u001b[2m2024-09-24T01:25:17.932380Z\u001b[0m \u001b[35mTRACE\u001b[0m \u001b[2muindex::indices::sa_divsufsort\u001b[0m\u001b[2m:\u001b[0m MS sequence length 17378560\n",
      "\u001b[2m2024-09-24T01:25:18.780834Z\u001b[0m \u001b[35mTRACE\u001b[0m \u001b[2muindex::utils\u001b[0m\u001b[2m:\u001b[0m   Building suffix array         : 848.452ms\n",
      "\u001b[2m2024-09-24T01:25:18.881907Z\u001b[0m \u001b[35mTRACE\u001b[0m \u001b[2muindex::utils\u001b[0m\u001b[2m:\u001b[0m  Build                         : 949.526ms\n"
     ]
    },
    {
     "name": "stderr",
     "output_type": "stream",
     "text": [
      "Benching: 2.136276598s"
     ]
    },
    {
     "name": "stderr",
     "output_type": "stream",
     "text": [
      "\n"
     ]
    },
    {
     "name": "stderr",
     "output_type": "stream",
     "text": [
      "Stats\n"
     ]
    },
    {
     "name": "stderr",
     "output_type": "stream",
     "text": [
      "Build                         :          0.95\n"
     ]
    },
    {
     "name": "stderr",
     "output_type": "stream",
     "text": [
      "Building EF                   :          0.02\n"
     ]
    },
    {
     "name": "stderr",
     "output_type": "stream",
     "text": [
      "Building suffix array         :          0.85\n"
     ]
    },
    {
     "name": "stderr",
     "output_type": "stream",
     "text": [
      "Remapping                     :          0.01\n"
     ]
    },
    {
     "name": "stderr",
     "output_type": "stream",
     "text": [
      "Sketch                        :          0.87\n"
     ]
    },
    {
     "name": "stderr",
     "output_type": "stream",
     "text": [
      "build_time                    :          1.82\n"
     ]
    },
    {
     "name": "stderr",
     "output_type": "stream",
     "text": [
      "compress                      :          1.00\n"
     ]
    },
    {
     "name": "stderr",
     "output_type": "stream",
     "text": [
      "computing_minimizers          :          0.84\n"
     ]
    },
    {
     "name": "stderr",
     "output_type": "stream",
     "text": [
      "index_size_MB                 :         34.76\n"
     ]
    },
    {
     "name": "stderr",
     "output_type": "stream",
     "text": [
      "k                             :         16.00\n"
     ]
    },
    {
     "name": "stderr",
     "output_type": "stream",
     "text": [
      "kmer_width                    :          4.00\n"
     ]
    },
    {
     "name": "stderr",
     "output_type": "stream",
     "text": [
      "kmer_width_bits               :         32.00\n"
     ]
    },
    {
     "name": "stderr",
     "output_type": "stream",
     "text": [
      "l                             :        128.00\n"
     ]
    },
    {
     "name": "stderr",
     "output_type": "stream",
     "text": [
      "num_minimizers                :    4344640.00\n"
     ]
    },
    {
     "name": "stderr",
     "output_type": "stream",
     "text": [
      "query_length                  :        256.00\n"
     ]
    },
    {
     "name": "stderr",
     "output_type": "stream",
     "text": [
      "query_matches                 :    1808654.00\n"
     ]
    },
    {
     "name": "stderr",
     "output_type": "stream",
     "text": [
      "query_misaligned_ms_pos       :          0.00\n"
     ]
    },
    {
     "name": "stderr",
     "output_type": "stream",
     "text": [
      "query_mismatches              :   20118538.00\n"
     ]
    },
    {
     "name": "stderr",
     "output_type": "stream",
     "text": [
      "query_out_of_bounds           :          0.00\n"
     ]
    },
    {
     "name": "stderr",
     "output_type": "stream",
     "text": [
      "query_time                    :          2.14\n"
     ]
    },
    {
     "name": "stderr",
     "output_type": "stream",
     "text": [
      "query_too_short               :          0.00\n"
     ]
    },
    {
     "name": "stderr",
     "output_type": "stream",
     "text": [
      "query_unknown_minimizer       :          0.00\n"
     ]
    },
    {
     "name": "stderr",
     "output_type": "stream",
     "text": [
      "remap                         :          0.00\n"
     ]
    },
    {
     "name": "stderr",
     "output_type": "stream",
     "text": [
      "seq_size_MB                   :        248.39\n"
     ]
    },
    {
     "name": "stderr",
     "output_type": "stream",
     "text": [
      "sequence length               :   17378560.00\n"
     ]
    },
    {
     "name": "stderr",
     "output_type": "stream",
     "text": [
      "sequence_length               :  248387328.00\n"
     ]
    },
    {
     "name": "stderr",
     "output_type": "stream",
     "text": [
      "sketch_size_MB                :          4.31\n"
     ]
    },
    {
     "name": "stderr",
     "output_type": "stream",
     "text": [
      "total_size_MB                 :         39.06\n"
     ]
    },
    {
     "name": "stderr",
     "output_type": "stream",
     "text": [
      "Building..\n",
      "\u001b[2m2024-09-24T01:25:21.032617Z\u001b[0m \u001b[32m INFO\u001b[0m \u001b[2muindex\u001b[0m\u001b[2m:\u001b[0m Query stats: QueryStats {\n",
      "    too_short: 0,\n",
      "    unknown_minimizer: 0,\n",
      "    misaligned_ms_pos: 0,\n",
      "    out_of_bounds: 0,\n",
      "    mismatches: 20118538,\n",
      "    matches: 1808654,\n",
      "}\n"
     ]
    },
    {
     "name": "stderr",
     "output_type": "stream",
     "text": [
      "\u001b[2m2024-09-24T01:25:22.988799Z\u001b[0m \u001b[35mTRACE\u001b[0m \u001b[2muindex::sketchers::minimizers\u001b[0m\u001b[2m:\u001b[0m Sequence length 248387328\n",
      "\u001b[2m2024-09-24T01:25:23.910049Z\u001b[0m \u001b[35mTRACE\u001b[0m \u001b[2muindex::sketchers::minimizers\u001b[0m\u001b[2m:\u001b[0m Num minimizers: 9851438\n",
      "\u001b[2m2024-09-24T01:25:23.910057Z\u001b[0m \u001b[35mTRACE\u001b[0m \u001b[2muindex::utils\u001b[0m\u001b[2m:\u001b[0m   computing_minimizers          : 921.249ms\n",
      "\u001b[2m2024-09-24T01:25:24.697200Z\u001b[0m \u001b[35mTRACE\u001b[0m \u001b[2muindex::sketchers::minimizers\u001b[0m\u001b[2m:\u001b[0m Num distinct minimizers: 6976191\n",
      "\u001b[2m2024-09-24T01:25:24.697209Z\u001b[0m \u001b[35mTRACE\u001b[0m \u001b[2muindex::sketchers::minimizers\u001b[0m\u001b[2m:\u001b[0m kmer_width: 23 bits\n",
      "\u001b[2m2024-09-24T01:25:24.697211Z\u001b[0m \u001b[35mTRACE\u001b[0m \u001b[2muindex::sketchers::minimizers\u001b[0m\u001b[2m:\u001b[0m kmer_width: 3 bytes\n",
      "\u001b[2m2024-09-24T01:25:24.697214Z\u001b[0m \u001b[35mTRACE\u001b[0m \u001b[2muindex::utils\u001b[0m\u001b[2m:\u001b[0m   Building remap                : 787.152ms\n",
      "\u001b[2m2024-09-24T01:25:24.753520Z\u001b[0m \u001b[35mTRACE\u001b[0m \u001b[2muindex::utils\u001b[0m\u001b[2m:\u001b[0m   Building EF                   : 56.298ms\n",
      "\u001b[2m2024-0Benching..\n",
      "9-24T01:25:25.593790Z\u001b[0m \u001b[35mTRACE\u001b[0m \u001b[2muindex::utils\u001b[0m\u001b[2m:\u001b[0m   Remapping                     : 840.258ms\n",
      "\u001b[2m2024-09-24T01:25:25.593801Z\u001b[0m \u001b[35mTRACE\u001b[0m \u001b[2muindex::utils\u001b[0m\u001b[2m:\u001b[0m  Sketch                        : 2.605s\n",
      "\u001b[2m2024-09-24T01:25:25.593804Z\u001b[0m \u001b[35mTRACE\u001b[0m \u001b[2muindex::indices::sa_divsufsort\u001b[0m\u001b[2m:\u001b[0m MS sequence length 29554314\n",
      "\u001b[2m2024-09-24T01:25:26.515876Z\u001b[0m \u001b[35mTRACE\u001b[0m \u001b[2muindex::utils\u001b[0m\u001b[2m:\u001b[0m   Building suffix array         : 922.070ms\n",
      "\u001b[2m2024-09-24T01:25:26.515885Z\u001b[0m \u001b[35mTRACE\u001b[0m \u001b[2muindex::utils\u001b[0m\u001b[2m:\u001b[0m  Build                         : 922.081ms\n"
     ]
    },
    {
     "name": "stderr",
     "output_type": "stream",
     "text": [
      "Benching: 0.981059183s\n"
     ]
    },
    {
     "name": "stderr",
     "output_type": "stream",
     "text": [
      "Stats\n"
     ]
    },
    {
     "name": "stderr",
     "output_type": "stream",
     "text": [
      "Build                         :          0.92\n"
     ]
    },
    {
     "name": "stderr",
     "output_type": "stream",
     "text": [
      "Building EF                   :          0.06\n"
     ]
    },
    {
     "name": "stderr",
     "output_type": "stream",
     "text": [
      "Building remap                :          0.79\n"
     ]
    },
    {
     "name": "stderr",
     "output_type": "stream",
     "text": [
      "Building suffix array         :          0.92\n"
     ]
    },
    {
     "name": "stderr",
     "output_type": "stream",
     "text": [
      "Remapping                     :          0.84\n"
     ]
    },
    {
     "name": "stderr",
     "output_type": "stream",
     "text": [
      "Sketch                        :          2.61\n"
     ]
    },
    {
     "name": "stderr",
     "output_type": "stream",
     "text": [
      "build_time                    :          3.53\n"
     ]
    },
    {
     "name": "stderr",
     "output_type": "stream",
     "text": [
      "compress                      :          0.00\n"
     ]
    },
    {
     "name": "stderr",
     "output_type": "stream",
     "text": [
      "computing_minimizers          :          0.92\n"
     ]
    },
    {
     "name": "stderr",
     "output_type": "stream",
     "text": [
      "index_size_MB                 :        147.77\n"
     ]
    },
    {
     "name": "stderr",
     "output_type": "stream",
     "text": [
      "k                             :         16.00\n"
     ]
    },
    {
     "name": "stderr",
     "output_type": "stream",
     "text": [
      "kmer_width                    :          3.00\n"
     ]
    },
    {
     "name": "stderr",
     "output_type": "stream",
     "text": [
      "kmer_width_bits               :         23.00\n"
     ]
    },
    {
     "name": "stderr",
     "output_type": "stream",
     "text": [
      "l                             :         64.00\n"
     ]
    },
    {
     "name": "stderr",
     "output_type": "stream",
     "text": [
      "num_distinct_minimizers       :    6976191.00\n"
     ]
    },
    {
     "name": "stderr",
     "output_type": "stream",
     "text": [
      "num_minimizers                :    9851438.00\n"
     ]
    },
    {
     "name": "stderr",
     "output_type": "stream",
     "text": [
      "query_length                  :        256.00\n"
     ]
    },
    {
     "name": "stderr",
     "output_type": "stream",
     "text": [
      "query_matches                 :    1808654.00\n"
     ]
    },
    {
     "name": "stderr",
     "output_type": "stream",
     "text": [
      "query_misaligned_ms_pos       :          0.00\n"
     ]
    },
    {
     "name": "stderr",
     "output_type": "stream",
     "text": [
      "query_mismatches              :    2923793.00\n"
     ]
    },
    {
     "name": "stderr",
     "output_type": "stream",
     "text": [
      "query_out_of_bounds           :          0.00\n"
     ]
    },
    {
     "name": "stderr",
     "output_type": "stream",
     "text": [
      "query_time                    :          0.98\n"
     ]
    },
    {
     "name": "stderr",
     "output_type": "stream",
     "text": [
      "query_too_short               :          0.00\n"
     ]
    },
    {
     "name": "stderr",
     "output_type": "stream",
     "text": [
      "query_unknown_minimizer       :          0.00\n"
     ]
    },
    {
     "name": "stderr",
     "output_type": "stream",
     "text": [
      "remap                         :          1.00\n"
     ]
    },
    {
     "name": "stderr",
     "output_type": "stream",
     "text": [
      "seq_size_MB                   :        248.39\n"
     ]
    },
    {
     "name": "stderr",
     "output_type": "stream",
     "text": [
      "sequence length               :   29554314.00\n"
     ]
    },
    {
     "name": "stderr",
     "output_type": "stream",
     "text": [
      "sequence_length               :  248387328.00\n"
     ]
    },
    {
     "name": "stderr",
     "output_type": "stream",
     "text": [
      "sketch_size_MB                :        150.88\n"
     ]
    },
    {
     "name": "stderr",
     "output_type": "stream",
     "text": [
      "total_size_MB                 :        298.65\n"
     ]
    },
    {
     "name": "stderr",
     "output_type": "stream",
     "text": [
      "Building..\n",
      "\u001b[2m2024-09-24T01:25:27.510083Z\u001b[0m \u001b[32m INFO\u001b[0m \u001b[2muindex\u001b[0m\u001b[2m:\u001b[0m Query stats: QueryStats {\n",
      "    too_short: 0,\n",
      "    unknown_minimizer: 0,\n",
      "    misaligned_ms_pos: 0,\n",
      "    out_of_bounds: 0,\n",
      "    mismatches: 2923793,\n",
      "    matches: 1808654,\n",
      "}\n"
     ]
    },
    {
     "name": "stderr",
     "output_type": "stream",
     "text": [
      "Benching..\u001b[2m2024-09-24T01:25:29.458331Z\u001b[0m \u001b[35mTRACE\u001b[0m \u001b[2muindex::sketchers::minimizers\u001b[0m\u001b[2m:\u001b[0m Sequence length 248387328\n",
      "\n",
      "\u001b[2m2024-09-24T01:25:30.350445Z\u001b[0m \u001b[35mTRACE\u001b[0m \u001b[2muindex::sketchers::minimizers\u001b[0m\u001b[2m:\u001b[0m Num minimizers: 9851438\n",
      "\u001b[2m2024-09-24T01:25:30.350453Z\u001b[0m \u001b[35mTRACE\u001b[0m \u001b[2muindex::utils\u001b[0m\u001b[2m:\u001b[0m   computing_minimizers          : 892.111ms\n",
      "\u001b[2m2024-09-24T01:25:31.155400Z\u001b[0m \u001b[35mTRACE\u001b[0m \u001b[2muindex::sketchers::minimizers\u001b[0m\u001b[2m:\u001b[0m Num distinct minimizers: 6976191\n",
      "\u001b[2m2024-09-24T01:25:31.155410Z\u001b[0m \u001b[35mTRACE\u001b[0m \u001b[2muindex::sketchers::minimizers\u001b[0m\u001b[2m:\u001b[0m kmer_width: 23 bits\n",
      "\u001b[2m2024-09-24T01:25:31.155412Z\u001b[0m \u001b[35mTRACE\u001b[0m \u001b[2muindex::sketchers::minimizers\u001b[0m\u001b[2m:\u001b[0m kmer_width: 3 bytes\n",
      "\u001b[2m2024-09-24T01:25:31.155415Z\u001b[0m \u001b[35mTRACE\u001b[0m \u001b[2muindex::utils\u001b[0m\u001b[2m:\u001b[0m   Building remap                : 804.958ms\n",
      "\u001b[2m2024-09-24T01:25:31.212202Z\u001b[0m \u001b[35mTRACE\u001b[0m \u001b[2muindex::utils\u001b[0m\u001b[2m:\u001b[0m   Building EF                   : 56.780ms\n",
      "\u001b[2m2024-09-24T01:25:32.057506Z\u001b[0m \u001b[35mTRACE\u001b[0m \u001b[2muindex::utils\u001b[0m\u001b[2m:\u001b[0m   Remapping                     : 845.292ms\n",
      "\u001b[2m2024-09-24T01:25:32.057516Z\u001b[0m \u001b[35mTRACE\u001b[0m \u001b[2muindex::utils\u001b[0m\u001b[2m:\u001b[0m  Sketch                        : 2.599s\n",
      "\u001b[2m2024-09-24T01:25:32.057519Z\u001b[0m \u001b[35mTRACE\u001b[0m \u001b[2muindex::indices::sa_divsufsort\u001b[0m\u001b[2m:\u001b[0m MS sequence length 29554314\n",
      "\u001b[2m2024-09-24T01:25:32.989536Z\u001b[0m \u001b[35mTRACE\u001b[0m \u001b[2muindex::utils\u001b[0m\u001b[2m:\u001b[0m   Building suffix array         : 932.015ms\n",
      "\u001b[2m2024-09-24T01:25:33.109260Z\u001b[0m \u001b[35mTRACE\u001b[0m \u001b[2muindex::utils\u001b[0m\u001b[2m:\u001b[0m  Build                         : 1.052s\n"
     ]
    },
    {
     "name": "stderr",
     "output_type": "stream",
     "text": [
      "Benching: 0.995151959s\n"
     ]
    },
    {
     "name": "stderr",
     "output_type": "stream",
     "text": [
      "Stats\n"
     ]
    },
    {
     "name": "stderr",
     "output_type": "stream",
     "text": [
      "Build                         :          1.05\n"
     ]
    },
    {
     "name": "stderr",
     "output_type": "stream",
     "text": [
      "Building EF                   :          0.06\n"
     ]
    },
    {
     "name": "stderr",
     "output_type": "stream",
     "text": [
      "Building remap                :          0.80\n"
     ]
    },
    {
     "name": "stderr",
     "output_type": "stream",
     "text": [
      "Building suffix array         :          0.93\n"
     ]
    },
    {
     "name": "stderr",
     "output_type": "stream",
     "text": [
      "Remapping                     :          0.85\n"
     ]
    },
    {
     "name": "stderr",
     "output_type": "stream",
     "text": [
      "Sketch                        :          2.60\n"
     ]
    },
    {
     "name": "stderr",
     "output_type": "stream",
     "text": [
      "build_time                    :          3.65\n"
     ]
    },
    {
     "name": "stderr",
     "output_type": "stream",
     "text": [
      "compress                      :          1.00\n"
     ]
    },
    {
     "name": "stderr",
     "output_type": "stream",
     "text": [
      "computing_minimizers          :          0.89\n"
     ]
    },
    {
     "name": "stderr",
     "output_type": "stream",
     "text": [
      "index_size_MB                 :         68.96\n"
     ]
    },
    {
     "name": "stderr",
     "output_type": "stream",
     "text": [
      "k                             :         16.00\n"
     ]
    },
    {
     "name": "stderr",
     "output_type": "stream",
     "text": [
      "kmer_width                    :          3.00\n"
     ]
    },
    {
     "name": "stderr",
     "output_type": "stream",
     "text": [
      "kmer_width_bits               :         23.00\n"
     ]
    },
    {
     "name": "stderr",
     "output_type": "stream",
     "text": [
      "l                             :         64.00\n"
     ]
    },
    {
     "name": "stderr",
     "output_type": "stream",
     "text": [
      "num_distinct_minimizers       :    6976191.00\n"
     ]
    },
    {
     "name": "stderr",
     "output_type": "stream",
     "text": [
      "num_minimizers                :    9851438.00\n"
     ]
    },
    {
     "name": "stderr",
     "output_type": "stream",
     "text": [
      "query_length                  :        256.00\n"
     ]
    },
    {
     "name": "stderr",
     "output_type": "stream",
     "text": [
      "query_matches                 :    1808654.00\n"
     ]
    },
    {
     "name": "stderr",
     "output_type": "stream",
     "text": [
      "query_misaligned_ms_pos       :          0.00\n"
     ]
    },
    {
     "name": "stderr",
     "output_type": "stream",
     "text": [
      "query_mismatches              :    2923793.00\n"
     ]
    },
    {
     "name": "stderr",
     "output_type": "stream",
     "text": [
      "query_out_of_bounds           :          0.00\n"
     ]
    },
    {
     "name": "stderr",
     "output_type": "stream",
     "text": [
      "query_time                    :          1.00\n"
     ]
    },
    {
     "name": "stderr",
     "output_type": "stream",
     "text": [
      "query_too_short               :          0.00\n"
     ]
    },
    {
     "name": "stderr",
     "output_type": "stream",
     "text": [
      "query_unknown_minimizer       :          0.00\n"
     ]
    },
    {
     "name": "stderr",
     "output_type": "stream",
     "text": [
      "remap                         :          1.00\n"
     ]
    },
    {
     "name": "stderr",
     "output_type": "stream",
     "text": [
      "seq_size_MB                   :        248.39\n"
     ]
    },
    {
     "name": "stderr",
     "output_type": "stream",
     "text": [
      "sequence length               :   29554314.00\n"
     ]
    },
    {
     "name": "stderr",
     "output_type": "stream",
     "text": [
      "sequence_length               :  248387328.00\n"
     ]
    },
    {
     "name": "stderr",
     "output_type": "stream",
     "text": [
      "sketch_size_MB                :        150.88\n"
     ]
    },
    {
     "name": "stderr",
     "output_type": "stream",
     "text": [
      "total_size_MB                 :        219.84\n"
     ]
    },
    {
     "name": "stderr",
     "output_type": "stream",
     "text": [
      "Building..\n",
      "\u001b[2m2024-09-24T01:25:34.116723Z\u001b[0m \u001b[32m INFO\u001b[0m \u001b[2muindex\u001b[0m\u001b[2m:\u001b[0m Query stats: QueryStats {\n",
      "    too_short: 0,\n",
      "    unknown_minimizer: 0,\n",
      "    misaligned_ms_pos: 0,\n",
      "    out_of_bounds: 0,\n",
      "    mismatches: 2923793,\n",
      "    matches: 1808654,\n",
      "}\n"
     ]
    },
    {
     "name": "stderr",
     "output_type": "stream",
     "text": [
      "Benching..\n",
      "\u001b[2m2024-09-24T01:25:36.069609Z\u001b[0m \u001b[35mTRACE\u001b[0m \u001b[2muindex::sketchers::minimizers\u001b[0m\u001b[2m:\u001b[0m Sequence length 248387328\n",
      "\u001b[2m2024-09-24T01:25:36.953132Z\u001b[0m \u001b[35mTRACE\u001b[0m \u001b[2muindex::sketchers::minimizers\u001b[0m\u001b[2m:\u001b[0m Num minimizers: 9851438\n",
      "\u001b[2m2024-09-24T01:25:36.953138Z\u001b[0m \u001b[35mTRACE\u001b[0m \u001b[2muindex::sketchers::minimizers\u001b[0m\u001b[2m:\u001b[0m kmer_width: 4 bytes\n",
      "\u001b[2m2024-09-24T01:25:36.953142Z\u001b[0m \u001b[35mTRACE\u001b[0m \u001b[2muindex::utils\u001b[0m\u001b[2m:\u001b[0m   computing_minimizers          : 883.523ms\n",
      "\u001b[2m2024-09-24T01:25:37.005206Z\u001b[0m \u001b[35mTRACE\u001b[0m \u001b[2muindex::utils\u001b[0m\u001b[2m:\u001b[0m   Building EF                   : 52.058ms\n",
      "\u001b[2m2024-09-24T01:25:37.034618Z\u001b[0m \u001b[35mTRACE\u001b[0m \u001b[2muindex::utils\u001b[0m\u001b[2m:\u001b[0m   Remapping                     : 29.401ms\n",
      "\u001b[2m2024-09-24T01:25:37.034627Z\u001b[0m \u001b[35mTRACE\u001b[0m \u001b[2muindex::utils\u001b[0m\u001b[2m:\u001b[0m  Sketch                        : 965.020ms\n",
      "\u001b[2m2024-09-24T01:25:37.034629Z\u001b[0m \u001b[35mTRACE\u001b[0m \u001b[2muindex::indices::sa_divsufsort\u001b[0m\u001b[2m:\u001b[0m MS sequence length 39405752\n",
      "\u001b[2m2024-09-24T01:25:39.105027Z\u001b[0m \u001b[35mTRACE\u001b[0m \u001b[2muindex::utils\u001b[0m\u001b[2m:\u001b[0m   Building suffix array         : 2.070s\n",
      "\u001b[2m2024-09-24T01:25:39.105037Z\u001b[0m \u001b[35mTRACE\u001b[0m \u001b[2muindex::utils\u001b[0m\u001b[2m:\u001b[0m  Build                         : 2.070s\n"
     ]
    },
    {
     "name": "stderr",
     "output_type": "stream",
     "text": [
      "Benching: 0.878583677s\n"
     ]
    },
    {
     "name": "stderr",
     "output_type": "stream",
     "text": [
      "Stats\n"
     ]
    },
    {
     "name": "stderr",
     "output_type": "stream",
     "text": [
      "Build                         :          2.07\n"
     ]
    },
    {
     "name": "stderr",
     "output_type": "stream",
     "text": [
      "Building EF                   :          0.05\n"
     ]
    },
    {
     "name": "stderr",
     "output_type": "stream",
     "text": [
      "Building suffix array         :          2.07\n"
     ]
    },
    {
     "name": "stderr",
     "output_type": "stream",
     "text": [
      "Remapping                     :          0.03\n"
     ]
    },
    {
     "name": "stderr",
     "output_type": "stream",
     "text": [
      "Sketch                        :          0.97\n"
     ]
    },
    {
     "name": "stderr",
     "output_type": "stream",
     "text": [
      "build_time                    :          3.04\n"
     ]
    },
    {
     "name": "stderr",
     "output_type": "stream",
     "text": [
      "compress                      :          0.00\n"
     ]
    },
    {
     "name": "stderr",
     "output_type": "stream",
     "text": [
      "computing_minimizers          :          0.88\n"
     ]
    },
    {
     "name": "stderr",
     "output_type": "stream",
     "text": [
      "index_size_MB                 :        197.03\n"
     ]
    },
    {
     "name": "stderr",
     "output_type": "stream",
     "text": [
      "k                             :         16.00\n"
     ]
    },
    {
     "name": "stderr",
     "output_type": "stream",
     "text": [
      "kmer_width                    :          4.00\n"
     ]
    },
    {
     "name": "stderr",
     "output_type": "stream",
     "text": [
      "kmer_width_bits               :         32.00\n"
     ]
    },
    {
     "name": "stderr",
     "output_type": "stream",
     "text": [
      "l                             :         64.00\n"
     ]
    },
    {
     "name": "stderr",
     "output_type": "stream",
     "text": [
      "num_minimizers                :    9851438.00\n"
     ]
    },
    {
     "name": "stderr",
     "output_type": "stream",
     "text": [
      "query_length                  :        256.00\n"
     ]
    },
    {
     "name": "stderr",
     "output_type": "stream",
     "text": [
      "query_matches                 :    1808654.00\n"
     ]
    },
    {
     "name": "stderr",
     "output_type": "stream",
     "text": [
      "query_misaligned_ms_pos       :          0.00\n"
     ]
    },
    {
     "name": "stderr",
     "output_type": "stream",
     "text": [
      "query_mismatches              :    2923793.00\n"
     ]
    },
    {
     "name": "stderr",
     "output_type": "stream",
     "text": [
      "query_out_of_bounds           :          0.00\n"
     ]
    },
    {
     "name": "stderr",
     "output_type": "stream",
     "text": [
      "query_time                    :          0.88\n"
     ]
    },
    {
     "name": "stderr",
     "output_type": "stream",
     "text": [
      "query_too_short               :          0.00\n"
     ]
    },
    {
     "name": "stderr",
     "output_type": "stream",
     "text": [
      "query_unknown_minimizer       :          0.00\n"
     ]
    },
    {
     "name": "stderr",
     "output_type": "stream",
     "text": [
      "remap                         :          0.00\n"
     ]
    },
    {
     "name": "stderr",
     "output_type": "stream",
     "text": [
      "seq_size_MB                   :        248.39\n"
     ]
    },
    {
     "name": "stderr",
     "output_type": "stream",
     "text": [
      "sequence length               :   39405752.00\n"
     ]
    },
    {
     "name": "stderr",
     "output_type": "stream",
     "text": [
      "sequence_length               :  248387328.00\n"
     ]
    },
    {
     "name": "stderr",
     "output_type": "stream",
     "text": [
      "sketch_size_MB                :          8.27\n"
     ]
    },
    {
     "name": "stderr",
     "output_type": "stream",
     "text": [
      "total_size_MB                 :        205.30\n"
     ]
    },
    {
     "name": "stderr",
     "output_type": "stream",
     "text": [
      "Building..\n",
      "\u001b[2m2024-09-24T01:25:40.002589Z\u001b[0m \u001b[32m INFO\u001b[0m \u001b[2muindex\u001b[0m\u001b[2m:\u001b[0m Query stats: QueryStats {\n",
      "    too_short: 0,\n",
      "    unknown_minimizer: 0,\n",
      "    misaligned_ms_pos: 0,\n",
      "    out_of_bounds: 0,\n",
      "    mismatches: 2923793,\n",
      "    matches: 1808654,\n",
      "}\n"
     ]
    },
    {
     "name": "stderr",
     "output_type": "stream",
     "text": [
      "Benching.."
     ]
    },
    {
     "name": "stderr",
     "output_type": "stream",
     "text": [
      "\n"
     ]
    },
    {
     "name": "stderr",
     "output_type": "stream",
     "text": [
      "\u001b[2m2024-09-24T01:25:41.956015Z\u001b[0m \u001b[35mTRACE\u001b[0m \u001b[2muindex::sketchers::minimizers\u001b[0m\u001b[2m:\u001b[0m Sequence length 248387328\n",
      "\u001b[2m2024-09-24T01:25:42.856944Z\u001b[0m \u001b[35mTRACE\u001b[0m \u001b[2muindex::sketchers::minimizers\u001b[0m\u001b[2m:\u001b[0m Num minimizers: 9851438\n",
      "\u001b[2m2024-09-24T01:25:42.856952Z\u001b[0m \u001b[35mTRACE\u001b[0m \u001b[2muindex::sketchers::minimizers\u001b[0m\u001b[2m:\u001b[0m kmer_width: 4 bytes\n",
      "\u001b[2m2024-09-24T01:25:42.856955Z\u001b[0m \u001b[35mTRACE\u001b[0m \u001b[2muindex::utils\u001b[0m\u001b[2m:\u001b[0m   computing_minimizers          : 900.930ms\n",
      "\u001b[2m2024-09-24T01:25:42.909845Z\u001b[0m \u001b[35mTRACE\u001b[0m \u001b[2muindex::utils\u001b[0m\u001b[2m:\u001b[0m   Building EF                   : 52.884ms\n",
      "\u001b[2m2024-09-24T01:25:42.939282Z\u001b[0m \u001b[35mTRACE\u001b[0m \u001b[2muindex::utils\u001b[0m\u001b[2m:\u001b[0m   Remapping                     : 29.427ms\n",
      "\u001b[2m2024-09-24T01:25:42.939291Z\u001b[0m \u001b[35mTRACE\u001b[0m \u001b[2muindex::utils\u001b[0m\u001b[2m:\u001b[0m  Sketch                        : 983.277ms\n",
      "\u001b[2m2024-09-24T01:25:42.939293Z\u001b[0m \u001b[35mTRACE\u001b[0m \u001b[2muindex::indices::sa_divsufsort\u001b[0m\u001b[2m:\u001b[0m MS sequence length 39405752\n",
      "\u001b[2m2024-09-24T01:25:45.010976Z\u001b[0m \u001b[35mTRACE\u001b[0m \u001b[2muindex::utils\u001b[0m\u001b[2m:\u001b[0m   Building suffix array         : 2.072s\n",
      "\u001b[2m2024-09-24T01:25:45.223035Z\u001b[0m \u001b[35mTRACE\u001b[0m \u001b[2muindex::utils\u001b[0m\u001b[2m:\u001b[0m  Build                         : 2.284s\n"
     ]
    },
    {
     "name": "stderr",
     "output_type": "stream",
     "text": [
      "Benching: 0.850451457s\n"
     ]
    },
    {
     "name": "stderr",
     "output_type": "stream",
     "text": [
      "Stats\n"
     ]
    },
    {
     "name": "stderr",
     "output_type": "stream",
     "text": [
      "Build                         :          2.28\n"
     ]
    },
    {
     "name": "stderr",
     "output_type": "stream",
     "text": [
      "Building EF                   :          0.05\n"
     ]
    },
    {
     "name": "stderr",
     "output_type": "stream",
     "text": [
      "Building suffix array         :          2.07\n"
     ]
    },
    {
     "name": "stderr",
     "output_type": "stream",
     "text": [
      "Remapping                     :          0.03\n"
     ]
    },
    {
     "name": "stderr",
     "output_type": "stream",
     "text": [
      "Sketch                        :          0.98\n"
     ]
    },
    {
     "name": "stderr",
     "output_type": "stream",
     "text": [
      "build_time                    :          3.27\n"
     ]
    },
    {
     "name": "stderr",
     "output_type": "stream",
     "text": [
      "compress                      :          1.00\n"
     ]
    },
    {
     "name": "stderr",
     "output_type": "stream",
     "text": [
      "computing_minimizers          :          0.90\n"
     ]
    },
    {
     "name": "stderr",
     "output_type": "stream",
     "text": [
      "index_size_MB                 :         78.81\n"
     ]
    },
    {
     "name": "stderr",
     "output_type": "stream",
     "text": [
      "k                             :         16.00\n"
     ]
    },
    {
     "name": "stderr",
     "output_type": "stream",
     "text": [
      "kmer_width                    :          4.00\n"
     ]
    },
    {
     "name": "stderr",
     "output_type": "stream",
     "text": [
      "kmer_width_bits               :         32.00\n"
     ]
    },
    {
     "name": "stderr",
     "output_type": "stream",
     "text": [
      "l                             :         64.00\n"
     ]
    },
    {
     "name": "stderr",
     "output_type": "stream",
     "text": [
      "num_minimizers                :    9851438.00\n"
     ]
    },
    {
     "name": "stderr",
     "output_type": "stream",
     "text": [
      "query_length                  :        256.00\n"
     ]
    },
    {
     "name": "stderr",
     "output_type": "stream",
     "text": [
      "query_matches                 :    1808654.00\n"
     ]
    },
    {
     "name": "stderr",
     "output_type": "stream",
     "text": [
      "query_misaligned_ms_pos       :          0.00\n"
     ]
    },
    {
     "name": "stderr",
     "output_type": "stream",
     "text": [
      "query_mismatches              :    2923793.00\n"
     ]
    },
    {
     "name": "stderr",
     "output_type": "stream",
     "text": [
      "query_out_of_bounds           :          0.00\n"
     ]
    },
    {
     "name": "stderr",
     "output_type": "stream",
     "text": [
      "query_time                    :          0.85\n"
     ]
    },
    {
     "name": "stderr",
     "output_type": "stream",
     "text": [
      "query_too_short               :          0.00\n"
     ]
    },
    {
     "name": "stderr",
     "output_type": "stream",
     "text": [
      "query_unknown_minimizer       :          0.00\n"
     ]
    },
    {
     "name": "stderr",
     "output_type": "stream",
     "text": [
      "remap                         :          0.00\n"
     ]
    },
    {
     "name": "stderr",
     "output_type": "stream",
     "text": [
      "seq_size_MB                   :        248.39\n"
     ]
    },
    {
     "name": "stderr",
     "output_type": "stream",
     "text": [
      "sequence length               :   39405752.00\n"
     ]
    },
    {
     "name": "stderr",
     "output_type": "stream",
     "text": [
      "sequence_length               :  248387328.00\n"
     ]
    },
    {
     "name": "stderr",
     "output_type": "stream",
     "text": [
      "sketch_size_MB                :          8.27\n"
     ]
    },
    {
     "name": "stderr",
     "output_type": "stream",
     "text": [
      "total_size_MB                 :         87.08\n"
     ]
    },
    {
     "name": "stderr",
     "output_type": "stream",
     "text": [
      "Building..\n"
     ]
    },
    {
     "name": "stderr",
     "output_type": "stream",
     "text": [
      "\u001b[2m2024-09-24T01:25:46.087066Z\u001b[0m \u001b[32m INFO\u001b[0m \u001b[2muindex\u001b[0m\u001b[2m:\u001b[0m Query stats: QueryStats {\n",
      "    too_short: 0,\n",
      "    unknown_minimizer: 0,\n",
      "    misaligned_ms_pos: 0,\n",
      "    out_of_bounds: 0,\n",
      "    mismatches: 2923793,\n",
      "    matches: 1808654,\n",
      "}\n"
     ]
    },
    {
     "name": "stderr",
     "output_type": "stream",
     "text": [
      "Benching..\n"
     ]
    },
    {
     "name": "stderr",
     "output_type": "stream",
     "text": [
      "\u001b[2m2024-09-24T01:25:48.034375Z\u001b[0m \u001b[35mTRACE\u001b[0m \u001b[2muindex::sketchers::minimizers\u001b[0m\u001b[2m:\u001b[0m Sequence length 248387328\n",
      "\u001b[2m2024-09-24T01:25:48.864833Z\u001b[0m \u001b[35mTRACE\u001b[0m \u001b[2muindex::sketchers::minimizers\u001b[0m\u001b[2m:\u001b[0m Num minimizers: 2385657\n",
      "\u001b[2m2024-09-24T01:25:48.864840Z\u001b[0m \u001b[35mTRACE\u001b[0m \u001b[2muindex::utils\u001b[0m\u001b[2m:\u001b[0m   computing_minimizers          : 830.455ms\n",
      "\u001b[2m2024-09-24T01:25:49.050717Z\u001b[0m \u001b[35mTRACE\u001b[0m \u001b[2muindex::sketchers::minimizers\u001b[0m\u001b[2m:\u001b[0m Num distinct minimizers: 2017859\n",
      "\u001b[2m2024-09-24T01:25:49.050726Z\u001b[0m \u001b[35mTRACE\u001b[0m \u001b[2muindex::sketchers::minimizers\u001b[0m\u001b[2m:\u001b[0m kmer_width: 21 bits\n",
      "\u001b[2m2024-09-24T01:25:49.050727Z\u001b[0m \u001b[35mTRACE\u001b[0m \u001b[2muindex::sketchers::minimizers\u001b[0m\u001b[2m:\u001b[0m kmer_width: 3 bytes\n",
      "\u001b[2m2024-09-24T01:25:49.050729Z\u001b[0m \u001b[35mTRACE\u001b[0m \u001b[2muindex::utils\u001b[0m\u001b[2m:\u001b[0m   Building remap                : 185.885ms\n",
      "\u001b[2m2024-09-24T01:25:49.065130Z\u001b[0m \u001b[35mTRACE\u001b[0m \u001b[2muindex::utils\u001b[0m\u001b[2m:\u001b[0m   Building EF                   : 14.394ms\n",
      "\u001b[2m2024-09-24T01:25:49.228104Z\u001b[0m \u001b[35mTRACE\u001b[0m \u001b[2muindex::utils\u001b[0m\u001b[2m:\u001b[0m   Remapping                     : 162.966ms\n",
      "\u001b[2m2024-09-24T01:25:49.228113Z\u001b[0m \u001b[35mTRACE\u001b[0m \u001b[2muindex::utils\u001b[0m\u001b[2m:\u001b[0m  Sketch                        : 1.194s\n",
      "\u001b[2m2024-09-24T01:25:49.228116Z\u001b[0m \u001b[35mTRACE\u001b[0m \u001b[2muindex::indices::sa_divsufsort\u001b[0m\u001b[2m:\u001b[0m MS sequence length 7156971\n",
      "\u001b[2m2024-09-24T01:25:49.370163Z\u001b[0m \u001b[35mTRACE\u001b[0m \u001b[2muindex::utils\u001b[0m\u001b[2m:\u001b[0m   Building suffix array         : 142.045ms\n",
      "\u001b[2m2024-09-24T01:25:49.370170Z\u001b[0m \u001b[35mTRACE\u001b[0m \u001b[2muindex::utils\u001b[0m\u001b[2m:\u001b[0m  Build                         : 142.055ms\n"
     ]
    },
    {
     "name": "stderr",
     "output_type": "stream",
     "text": [
      "Benching: 2.6853484930000002s\n"
     ]
    },
    {
     "name": "stderr",
     "output_type": "stream",
     "text": [
      "Stats\n"
     ]
    },
    {
     "name": "stderr",
     "output_type": "stream",
     "text": [
      "Build                         :          0.14\n"
     ]
    },
    {
     "name": "stderr",
     "output_type": "stream",
     "text": [
      "Building EF                   :          0.01\n"
     ]
    },
    {
     "name": "stderr",
     "output_type": "stream",
     "text": [
      "Building remap                :          0.19\n"
     ]
    },
    {
     "name": "stderr",
     "output_type": "stream",
     "text": [
      "Building suffix array         :          0.14\n"
     ]
    },
    {
     "name": "stderr",
     "output_type": "stream",
     "text": [
      "Remapping                     :          0.16\n"
     ]
    },
    {
     "name": "stderr",
     "output_type": "stream",
     "text": [
      "Sketch                        :          1.19\n"
     ]
    },
    {
     "name": "stderr",
     "output_type": "stream",
     "text": [
      "build_time                    :          1.34\n"
     ]
    },
    {
     "name": "stderr",
     "output_type": "stream",
     "text": [
      "compress                      :          0.00\n"
     ]
    },
    {
     "name": "stderr",
     "output_type": "stream",
     "text": [
      "computing_minimizers          :          0.83\n"
     ]
    },
    {
     "name": "stderr",
     "output_type": "stream",
     "text": [
      "index_size_MB                 :         35.78\n"
     ]
    },
    {
     "name": "stderr",
     "output_type": "stream",
     "text": [
      "k                             :         32.00\n"
     ]
    },
    {
     "name": "stderr",
     "output_type": "stream",
     "text": [
      "kmer_width                    :          3.00\n"
     ]
    },
    {
     "name": "stderr",
     "output_type": "stream",
     "text": [
      "kmer_width_bits               :         21.00\n"
     ]
    },
    {
     "name": "stderr",
     "output_type": "stream",
     "text": [
      "l                             :        256.00\n"
     ]
    },
    {
     "name": "stderr",
     "output_type": "stream",
     "text": [
      "num_distinct_minimizers       :    2017859.00\n"
     ]
    },
    {
     "name": "stderr",
     "output_type": "stream",
     "text": [
      "num_minimizers                :    2385657.00\n"
     ]
    },
    {
     "name": "stderr",
     "output_type": "stream",
     "text": [
      "query_length                  :        256.00\n"
     ]
    },
    {
     "name": "stderr",
     "output_type": "stream",
     "text": [
      "query_matches                 :    1808654.00\n"
     ]
    },
    {
     "name": "stderr",
     "output_type": "stream",
     "text": [
      "query_misaligned_ms_pos       :      28071.00\n"
     ]
    },
    {
     "name": "stderr",
     "output_type": "stream",
     "text": [
      "query_mismatches              :   26022776.00\n"
     ]
    },
    {
     "name": "stderr",
     "output_type": "stream",
     "text": [
      "query_out_of_bounds           :          0.00\n"
     ]
    },
    {
     "name": "stderr",
     "output_type": "stream",
     "text": [
      "query_time                    :          2.69\n"
     ]
    },
    {
     "name": "stderr",
     "output_type": "stream",
     "text": [
      "query_too_short               :          0.00\n"
     ]
    },
    {
     "name": "stderr",
     "output_type": "stream",
     "text": [
      "query_unknown_minimizer       :          0.00\n"
     ]
    },
    {
     "name": "stderr",
     "output_type": "stream",
     "text": [
      "remap                         :          1.00\n"
     ]
    },
    {
     "name": "stderr",
     "output_type": "stream",
     "text": [
      "seq_size_MB                   :        248.39\n"
     ]
    },
    {
     "name": "stderr",
     "output_type": "stream",
     "text": [
      "sequence length               :    7156971.00\n"
     ]
    },
    {
     "name": "stderr",
     "output_type": "stream",
     "text": [
      "sequence_length               :  248387328.00\n"
     ]
    },
    {
     "name": "stderr",
     "output_type": "stream",
     "text": [
      "sketch_size_MB                :         73.92\n"
     ]
    },
    {
     "name": "stderr",
     "output_type": "stream",
     "text": [
      "total_size_MB                 :        109.70\n"
     ]
    },
    {
     "name": "stderr",
     "output_type": "stream",
     "text": [
      "Building..\n",
      "\u001b[2m2024-09-24T01:25:52.070776Z\u001b[0m \u001b[32m INFO\u001b[0m \u001b[2muindex\u001b[0m\u001b[2m:\u001b[0m Query stats: QueryStats {\n",
      "    too_short: 0,\n",
      "    unknown_minimizer: 0,\n",
      "    misaligned_ms_pos: 28071,\n",
      "    out_of_bounds: 0,\n",
      "    mismatches: 26022776,\n",
      "    matches: 1808654,\n",
      "}\n"
     ]
    },
    {
     "name": "stderr",
     "output_type": "stream",
     "text": [
      "\u001b[2m2024-09-24T01:25:54.022993Z\u001b[0m \u001b[35mTRACE\u001b[0m \u001b[2muindex::sketchers::minimizers\u001b[0m\u001b[2m:\u001b[0m Sequence length 248387328\n",
      "\u001b[2m2024-09-24T01:25:54.853306Z\u001b[0m \u001b[35mTRACE\u001b[0m \u001b[2muindex::sketchers::minimizers\u001b[0m\u001b[2m:\u001b[0m Num minimizers: 2385657\n",
      "\u001b[2m2024-09-24T01:25:54.853313Z\u001b[0m \u001b[35mTRACE\u001b[0m \u001b[2muindex::utils\u001b[0m\u001b[2m:\u001b[0m   computing_minimizers          : 830.311ms\n",
      "\u001b[2m2024-09-24T01:25:55.037530Z\u001b[0m \u001b[35mTRACE\u001b[0m \u001b[2muindex::sketchers::minimizers\u001b[0m\u001b[2m:\u001b[0m Num distinct minimizers: 2017859\n",
      "\u001b[2m2024-09-24T01:25:55.037539Z\u001b[0m \u001b[35mTRACE\u001b[0m \u001b[2muindex::sketchers::minimizers\u001b[0m\u001b[2m:\u001b[0m kmer_width: 21 bits\n",
      "\u001b[2m2024-09-24T01:25:55.037540Z\u001b[0m \u001b[35mTRACE\u001b[0m \u001b[2muindex::sketchers::minimizers\u001b[0m\u001b[2m:\u001b[0m kmer_width: 3 bytes\n",
      "\u001b[2m2024-09-24T01:25:55.037543Z\u001b[0m \u001b[35mTRACE\u001b[0m \u001b[2muindex::utils\u001b[0m\u001b[2m:\u001b[0m   Building remap                : 184.225ms\n",
      "\u001b[2m2024-09-24T01:25:55.051919Z\u001b[0m \u001b[35mTRACE\u001b[0m \u001b[2muindex::utils\u001b[0m\u001b[2m:\u001b[0m   Building EF                   : 14.371ms\n",
      "\u001b[2m2024-09-24T01:25:55.224847Z\u001b[0m \u001b[35mTRACE\u001b[0m \u001b[2muindex::utils\u001b[0m\u001b[2m:\u001b[0m   Remapping                     : 172.920ms\n",
      "\u001b[2m2024-09-24T01:25:55.224856Z\u001b[0m \u001b[35mTRACE\u001b[0m \u001b[2muindex::utils\u001b[0m\u001b[2m:\u001b[0m  Sketch                        : 1.202s\n",
      "\u001b[2m2024-09-24T01:25:55.224859Z\u001b[0m \u001b[35mTRACE\u001b[0m \u001b[2muindex::indices::sa_divsufsort\u001b[0m\u001b[2m:\u001b[0m MS sequence length 7156971\n",
      "\u001b[2m2024-09-24T01:25:55.368324Z\u001b[0m \u001b[35mTRACE\u001b[0m \u001b[2muindex::utils\u001b[0m\u001b[2m:\u001b[0m   Building suffix array         : 143.462ms\n",
      "\u001b[2m2024-09-24T01:25:55.387807Z\u001b[0m \u001b[35mTRACE\u001b[0m \u001b[2muindex::utils\u001b[0m\u001b[2m:\u001b[0m  Build                         : 162.948ms\n",
      "Benching..\n"
     ]
    },
    {
     "name": "stderr",
     "output_type": "stream",
     "text": [
      "Benching: 2.82543189s\n"
     ]
    },
    {
     "name": "stderr",
     "output_type": "stream",
     "text": [
      "Stats\n"
     ]
    },
    {
     "name": "stderr",
     "output_type": "stream",
     "text": [
      "Build                         :          0.16\n"
     ]
    },
    {
     "name": "stderr",
     "output_type": "stream",
     "text": [
      "Building EF                   :          0.01\n"
     ]
    },
    {
     "name": "stderr",
     "output_type": "stream",
     "text": [
      "Building remap                :          0.18\n"
     ]
    },
    {
     "name": "stderr",
     "output_type": "stream",
     "text": [
      "Building suffix array         :          0.14\n"
     ]
    },
    {
     "name": "stderr",
     "output_type": "stream",
     "text": [
      "Remapping                     :          0.17\n"
     ]
    },
    {
     "name": "stderr",
     "output_type": "stream",
     "text": [
      "Sketch                        :          1.20\n"
     ]
    },
    {
     "name": "stderr",
     "output_type": "stream",
     "text": [
      "build_time                    :          1.36\n"
     ]
    },
    {
     "name": "stderr",
     "output_type": "stream",
     "text": [
      "compress                      :          1.00\n"
     ]
    },
    {
     "name": "stderr",
     "output_type": "stream",
     "text": [
      "computing_minimizers          :          0.83\n"
     ]
    },
    {
     "name": "stderr",
     "output_type": "stream",
     "text": [
      "index_size_MB                 :         16.70\n"
     ]
    },
    {
     "name": "stderr",
     "output_type": "stream",
     "text": [
      "k                             :         32.00\n"
     ]
    },
    {
     "name": "stderr",
     "output_type": "stream",
     "text": [
      "kmer_width                    :          3.00\n"
     ]
    },
    {
     "name": "stderr",
     "output_type": "stream",
     "text": [
      "kmer_width_bits               :         21.00\n"
     ]
    },
    {
     "name": "stderr",
     "output_type": "stream",
     "text": [
      "l                             :        256.00\n"
     ]
    },
    {
     "name": "stderr",
     "output_type": "stream",
     "text": [
      "num_distinct_minimizers       :    2017859.00\n"
     ]
    },
    {
     "name": "stderr",
     "output_type": "stream",
     "text": [
      "num_minimizers                :    2385657.00\n"
     ]
    },
    {
     "name": "stderr",
     "output_type": "stream",
     "text": [
      "query_length                  :        256.00\n"
     ]
    },
    {
     "name": "stderr",
     "output_type": "stream",
     "text": [
      "query_matches                 :    1808654.00\n"
     ]
    },
    {
     "name": "stderr",
     "output_type": "stream",
     "text": [
      "query_misaligned_ms_pos       :          0.00\n"
     ]
    },
    {
     "name": "stderr",
     "output_type": "stream",
     "text": [
      "query_mismatches              :   26022776.00\n"
     ]
    },
    {
     "name": "stderr",
     "output_type": "stream",
     "text": [
      "query_out_of_bounds           :          0.00\n"
     ]
    },
    {
     "name": "stderr",
     "output_type": "stream",
     "text": [
      "query_time                    :          2.83\n"
     ]
    },
    {
     "name": "stderr",
     "output_type": "stream",
     "text": [
      "query_too_short               :          0.00\n"
     ]
    },
    {
     "name": "stderr",
     "output_type": "stream",
     "text": [
      "query_unknown_minimizer       :          0.00\n"
     ]
    },
    {
     "name": "stderr",
     "output_type": "stream",
     "text": [
      "remap                         :          1.00\n"
     ]
    },
    {
     "name": "stderr",
     "output_type": "stream",
     "text": [
      "seq_size_MB                   :        248.39\n"
     ]
    },
    {
     "name": "stderr",
     "output_type": "stream",
     "text": [
      "sequence length               :    7156971.00\n"
     ]
    },
    {
     "name": "stderr",
     "output_type": "stream",
     "text": [
      "sequence_length               :  248387328.00\n"
     ]
    },
    {
     "name": "stderr",
     "output_type": "stream",
     "text": [
      "sketch_size_MB                :         73.92\n"
     ]
    },
    {
     "name": "stderr",
     "output_type": "stream",
     "text": [
      "total_size_MB                 :         90.62\n"
     ]
    },
    {
     "name": "stderr",
     "output_type": "stream",
     "text": [
      "Building..\n",
      "\u001b[2m2024-09-24T01:25:58.225160Z\u001b[0m \u001b[32m INFO\u001b[0m \u001b[2muindex\u001b[0m\u001b[2m:\u001b[0m Query stats: QueryStats {\n",
      "    too_short: 0,\n",
      "    unknown_minimizer: 0,\n",
      "    misaligned_ms_pos: 0,\n",
      "    out_of_bounds: 0,\n",
      "    mismatches: 26022776,\n",
      "    matches: 1808654,\n",
      "}\n"
     ]
    },
    {
     "name": "stderr",
     "output_type": "stream",
     "text": [
      "\u001b[2m2024-09-24T01:26:00.181181Z\u001b[0m \u001b[35mTRACE\u001b[0m \u001b[2muindex::sketchers::minimizers\u001b[0m\u001b[2m:\u001b[0m Sequence length 248387328\n",
      "Benching..\n"
     ]
    },
    {
     "name": "stderr",
     "output_type": "stream",
     "text": [
      "\u001b[2m2024-09-24T01:26:01.013984Z\u001b[0m \u001b[35mTRACE\u001b[0m \u001b[2muindex::sketchers::minimizers\u001b[0m\u001b[2m:\u001b[0m Num minimizers: 2385657\n",
      "\u001b[2m2024-09-24T01:26:01.013991Z\u001b[0m \u001b[35mTRACE\u001b[0m \u001b[2muindex::sketchers::minimizers\u001b[0m\u001b[2m:\u001b[0m kmer_width: 8 bytes\n",
      "\u001b[2m2024-09-24T01:26:01.013994Z\u001b[0m \u001b[35mTRACE\u001b[0m \u001b[2muindex::utils\u001b[0m\u001b[2m:\u001b[0m   computing_minimizers          : 832.803ms\n",
      "\u001b[2m2024-09-24T01:26:01.027701Z\u001b[0m \u001b[35mTRACE\u001b[0m \u001b[2muindex::utils\u001b[0m\u001b[2m:\u001b[0m   Building EF                   : 13.703ms\n",
      "\u001b[2m2024-09-24T01:26:01.034006Z\u001b[0m \u001b[35mTRACE\u001b[0m \u001b[2muindex::utils\u001b[0m\u001b[2m:\u001b[0m   Remapping                     : 6.298ms\n",
      "\u001b[2m2024-09-24T01:26:01.034009Z\u001b[0m \u001b[35mTRACE\u001b[0m \u001b[2muindex::utils\u001b[0m\u001b[2m:\u001b[0m  Sketch                        : 852.830ms\n",
      "\u001b[2m2024-09-24T01:26:01.034011Z\u001b[0m \u001b[35mTRACE\u001b[0m \u001b[2muindex::indices::sa_divsufsort\u001b[0m\u001b[2m:\u001b[0m MS sequence length 19085256\n",
      "\u001b[2m2024-09-24T01:26:01.928154Z\u001b[0m \u001b[35mTRACE\u001b[0m \u001b[2muindex::utils\u001b[0m\u001b[2m:\u001b[0m   Building suffix array         : 894.139ms\n",
      "\u001b[2m202Benching: 2.915095208s\n"
     ]
    },
    {
     "name": "stderr",
     "output_type": "stream",
     "text": [
      "Stats\n"
     ]
    },
    {
     "name": "stderr",
     "output_type": "stream",
     "text": [
      "4-09-24T01:26:01.928164Z\u001b[0m \u001b[35mTRACE\u001b[0m \u001b[2muindex::utils\u001b[0m\u001b[2m:\u001b[0m  Build                         : 894.153ms\n",
      "Build                         :          0.89\n"
     ]
    },
    {
     "name": "stderr",
     "output_type": "stream",
     "text": [
      "Building EF                   :          0.01\n"
     ]
    },
    {
     "name": "stderr",
     "output_type": "stream",
     "text": [
      "Building suffix array         :          0.89\n"
     ]
    },
    {
     "name": "stderr",
     "output_type": "stream",
     "text": [
      "Remapping                     :          0.01\n"
     ]
    },
    {
     "name": "stderr",
     "output_type": "stream",
     "text": [
      "Sketch                        :          0.85\n"
     ]
    },
    {
     "name": "stderr",
     "output_type": "stream",
     "text": [
      "build_time                    :          1.75\n"
     ]
    },
    {
     "name": "stderr",
     "output_type": "stream",
     "text": [
      "compress                      :          0.00\n"
     ]
    },
    {
     "name": "stderr",
     "output_type": "stream",
     "text": [
      "computing_minimizers          :          0.83\n"
     ]
    },
    {
     "name": "stderr",
     "output_type": "stream",
     "text": [
      "index_size_MB                 :         95.43\n"
     ]
    },
    {
     "name": "stderr",
     "output_type": "stream",
     "text": [
      "k                             :         32.00\n"
     ]
    },
    {
     "name": "stderr",
     "output_type": "stream",
     "text": [
      "kmer_width                    :          8.00\n"
     ]
    },
    {
     "name": "stderr",
     "output_type": "stream",
     "text": [
      "kmer_width_bits               :         64.00\n"
     ]
    },
    {
     "name": "stderr",
     "output_type": "stream",
     "text": [
      "l                             :        256.00\n"
     ]
    },
    {
     "name": "stderr",
     "output_type": "stream",
     "text": [
      "num_minimizers                :    2385657.00\n"
     ]
    },
    {
     "name": "stderr",
     "output_type": "stream",
     "text": [
      "query_length                  :        256.00\n"
     ]
    },
    {
     "name": "stderr",
     "output_type": "stream",
     "text": [
      "query_matches                 :    1808654.00\n"
     ]
    },
    {
     "name": "stderr",
     "output_type": "stream",
     "text": [
      "query_misaligned_ms_pos       :     729014.00\n"
     ]
    },
    {
     "name": "stderr",
     "output_type": "stream",
     "text": [
      "query_mismatches              :   26022776.00\n"
     ]
    },
    {
     "name": "stderr",
     "output_type": "stream",
     "text": [
      "query_out_of_bounds           :          0.00\n"
     ]
    },
    {
     "name": "stderr",
     "output_type": "stream",
     "text": [
      "query_time                    :          2.92\n"
     ]
    },
    {
     "name": "stderr",
     "output_type": "stream",
     "text": [
      "query_too_short               :          0.00\n"
     ]
    },
    {
     "name": "stderr",
     "output_type": "stream",
     "text": [
      "query_unknown_minimizer       :          0.00\n"
     ]
    },
    {
     "name": "stderr",
     "output_type": "stream",
     "text": [
      "remap                         :          0.00\n"
     ]
    },
    {
     "name": "stderr",
     "output_type": "stream",
     "text": [
      "seq_size_MB                   :        248.39\n"
     ]
    },
    {
     "name": "stderr",
     "output_type": "stream",
     "text": [
      "sequence length               :   19085256.00\n"
     ]
    },
    {
     "name": "stderr",
     "output_type": "stream",
     "text": [
      "sequence_length               :  248387328.00\n"
     ]
    },
    {
     "name": "stderr",
     "output_type": "stream",
     "text": [
      "sketch_size_MB                :          2.61\n"
     ]
    },
    {
     "name": "stderr",
     "output_type": "stream",
     "text": [
      "total_size_MB                 :         98.04\n"
     ]
    },
    {
     "name": "stderr",
     "output_type": "stream",
     "text": [
      "Building..\n",
      "\u001b[2m2024-09-24T01:26:04.855711Z\u001b[0m \u001b[32m INFO\u001b[0m \u001b[2muindex\u001b[0m\u001b[2m:\u001b[0m Query stats: QueryStats {\n",
      "    too_short: 0,\n",
      "    unknown_minimizer: 0,\n",
      "    misaligned_ms_pos: 729014,\n",
      "    out_of_bounds: 0,\n",
      "    mismatches: 26022776,\n",
      "    matches: 1808654,\n",
      "}\n"
     ]
    },
    {
     "name": "stderr",
     "output_type": "stream",
     "text": [
      "\u001b[2m2024-09-24T01:26:06.818550Z\u001b[0m \u001b[35mTRACE\u001b[0m \u001b[2muindex::sketchers::minimizers\u001b[0m\u001b[2m:\u001b[0m Sequence length 248387328\n"
     ]
    },
    {
     "name": "stderr",
     "output_type": "stream",
     "text": [
      "\u001b[2m2024-09-24T01:26:07.667069Z\u001b[0m \u001b[35mTRACE\u001b[0m \u001b[2muindex::sketchers::minimizers\u001b[0m\u001b[2m:\u001b[0m Num minimizers: 2385657\n",
      "\u001b[2m2024-09-24T01:26:07.667077Z\u001b[0m \u001b[35mTRACE\u001b[0m \u001b[2muindex::sketchers::minimizers\u001b[0m\u001b[2m:\u001b[0m kmer_width: 8 bytes\n",
      "\u001b[2m2024-09-24T01:26:07.667080Z\u001b[0m \u001b[35mTRACE\u001b[0m \u001b[2muindex::utils\u001b[0m\u001b[2m:\u001b[0m   computing_minimizers          : 848.520ms\n",
      "\u001b[2m2024-09-24T01:26:07.681153Z\u001b[0m \u001b[35mTRACE\u001b[0m \u001b[2muindex::utils\u001b[0m\u001b[2m:\u001b[0m   Building EF                   : 14.069ms\n",
      "\u001b[2m2024-09-24T01:26:07.687502Z\u001b[0m \u001b[35mTRACE\u001b[0m \u001b[2muindex::utils\u001b[0m\u001b[2m:\u001b[0m   Remapping                     : 6.343ms\n",
      "\u001b[2m2024-09-24T01:26:07.687506Z\u001b[0m \u001b[35mTRACE\u001b[0m \u001b[2muindex::utils\u001b[0m\u001b[2m:\u001b[0m  Sketch                        : 868.959ms\n",
      "\u001b[2m2024-09-24T01:26:07.687508Z\u001b[0m \u001b[35mTRACE\u001b[0m \u001b[2muindex::indices::sa_divsufsort\u001b[0m\u001b[2m:\u001b[0m MS sequence length 19085256\n",
      "\u001b[2m2024-09-24T01:26:08.573388Z\u001b[0m \u001b[35mTRACE\u001b[0m \u001b[2muindex::utils\u001b[0m\u001b[2m:\u001b[0m   Building suffix array         : 885.875ms\n",
      "\u001b[2m202Benching..\n",
      "4-09-24T01:26:08.651459Z\u001b[0m \u001b[35mTRACE\u001b[0m \u001b[2muindex::utils\u001b[0m\u001b[2m:\u001b[0m  Build                         : 963.943ms\n"
     ]
    },
    {
     "name": "stderr",
     "output_type": "stream",
     "text": [
      "Benching: 2.887178707s\n"
     ]
    },
    {
     "name": "stderr",
     "output_type": "stream",
     "text": [
      "Stats\n"
     ]
    },
    {
     "name": "stderr",
     "output_type": "stream",
     "text": [
      "Build                         :          0.96\n"
     ]
    },
    {
     "name": "stderr",
     "output_type": "stream",
     "text": [
      "Building EF                   :          0.01\n"
     ]
    },
    {
     "name": "stderr",
     "output_type": "stream",
     "text": [
      "Building suffix array         :          0.89\n"
     ]
    },
    {
     "name": "stderr",
     "output_type": "stream",
     "text": [
      "Remapping                     :          0.01\n"
     ]
    },
    {
     "name": "stderr",
     "output_type": "stream",
     "text": [
      "Sketch                        :          0.87\n"
     ]
    },
    {
     "name": "stderr",
     "output_type": "stream",
     "text": [
      "build_time                    :          1.83\n"
     ]
    },
    {
     "name": "stderr",
     "output_type": "stream",
     "text": [
      "compress                      :          1.00\n"
     ]
    },
    {
     "name": "stderr",
     "output_type": "stream",
     "text": [
      "computing_minimizers          :          0.85\n"
     ]
    },
    {
     "name": "stderr",
     "output_type": "stream",
     "text": [
      "index_size_MB                 :         28.63\n"
     ]
    },
    {
     "name": "stderr",
     "output_type": "stream",
     "text": [
      "k                             :         32.00\n"
     ]
    },
    {
     "name": "stderr",
     "output_type": "stream",
     "text": [
      "kmer_width                    :          8.00\n"
     ]
    },
    {
     "name": "stderr",
     "output_type": "stream",
     "text": [
      "kmer_width_bits               :         64.00\n"
     ]
    },
    {
     "name": "stderr",
     "output_type": "stream",
     "text": [
      "l                             :        256.00\n"
     ]
    },
    {
     "name": "stderr",
     "output_type": "stream",
     "text": [
      "num_minimizers                :    2385657.00\n"
     ]
    },
    {
     "name": "stderr",
     "output_type": "stream",
     "text": [
      "query_length                  :        256.00\n"
     ]
    },
    {
     "name": "stderr",
     "output_type": "stream",
     "text": [
      "query_matches                 :    1808654.00\n"
     ]
    },
    {
     "name": "stderr",
     "output_type": "stream",
     "text": [
      "query_misaligned_ms_pos       :          0.00\n"
     ]
    },
    {
     "name": "stderr",
     "output_type": "stream",
     "text": [
      "query_mismatches              :   26022776.00\n"
     ]
    },
    {
     "name": "stderr",
     "output_type": "stream",
     "text": [
      "query_out_of_bounds           :          0.00\n"
     ]
    },
    {
     "name": "stderr",
     "output_type": "stream",
     "text": [
      "query_time                    :          2.89\n"
     ]
    },
    {
     "name": "stderr",
     "output_type": "stream",
     "text": [
      "query_too_short               :          0.00\n"
     ]
    },
    {
     "name": "stderr",
     "output_type": "stream",
     "text": [
      "query_unknown_minimizer       :          0.00\n"
     ]
    },
    {
     "name": "stderr",
     "output_type": "stream",
     "text": [
      "remap                         :          0.00\n"
     ]
    },
    {
     "name": "stderr",
     "output_type": "stream",
     "text": [
      "seq_size_MB                   :        248.39\n"
     ]
    },
    {
     "name": "stderr",
     "output_type": "stream",
     "text": [
      "sequence length               :   19085256.00\n"
     ]
    },
    {
     "name": "stderr",
     "output_type": "stream",
     "text": [
      "sequence_length               :  248387328.00\n"
     ]
    },
    {
     "name": "stderr",
     "output_type": "stream",
     "text": [
      "sketch_size_MB                :          2.61\n"
     ]
    },
    {
     "name": "stderr",
     "output_type": "stream",
     "text": [
      "total_size_MB                 :         31.24\n"
     ]
    },
    {
     "name": "stderr",
     "output_type": "stream",
     "text": [
      "Building..\n",
      "\u001b[2m2024-09-24T01:26:11.555110Z\u001b[0m \u001b[32m INFO\u001b[0m \u001b[2muindex\u001b[0m\u001b[2m:\u001b[0m Query stats: QueryStats {\n",
      "    too_short: 0,\n",
      "    unknown_minimizer: 0,\n",
      "    misaligned_ms_pos: 0,\n",
      "    out_of_bounds: 0,\n",
      "    mismatches: 26022776,\n",
      "    matches: 1808654,\n",
      "}\n"
     ]
    },
    {
     "name": "stderr",
     "output_type": "stream",
     "text": [
      "Benching..\n",
      "\u001b[2m2024-09-24T01:26:13.523664Z\u001b[0m \u001b[35mTRACE\u001b[0m \u001b[2muindex::sketchers::minimizers\u001b[0m\u001b[2m:\u001b[0m Sequence length 248387328\n",
      "\u001b[2m2024-09-24T01:26:14.391297Z\u001b[0m \u001b[35mTRACE\u001b[0m \u001b[2muindex::sketchers::minimizers\u001b[0m\u001b[2m:\u001b[0m Num minimizers: 5483166\n",
      "\u001b[2m2024-09-24T01:26:14.391305Z\u001b[0m \u001b[35mTRACE\u001b[0m \u001b[2muindex::utils\u001b[0m\u001b[2m:\u001b[0m   computing_minimizers          : 867.631ms\n",
      "\u001b[2m2024-09-24T01:26:14.855118Z\u001b[0m \u001b[35mTRACE\u001b[0m \u001b[2muindex::sketchers::minimizers\u001b[0m\u001b[2m:\u001b[0m Num distinct minimizers: 4654209\n",
      "\u001b[2m2024-09-24T01:26:14.855129Z\u001b[0m \u001b[35mTRACE\u001b[0m \u001b[2muindex::sketchers::minimizers\u001b[0m\u001b[2m:\u001b[0m kmer_width: 23 bits\n",
      "\u001b[2m2024-09-24T01:26:14.855131Z\u001b[0m \u001b[35mTRACE\u001b[0m \u001b[2muindex::sketchers::minimizers\u001b[0m\u001b[2m:\u001b[0m kmer_width: 3 bytes\n",
      "\u001b[2m2024-09-24T01:26:14.855134Z\u001b[0m \u001b[35mTRACE\u001b[0m \u001b[2muindex::utils\u001b[0m\u001b[2m:\u001b[0m   Building remap                : 463.824ms\n",
      "\u001b[2m2024-09-24T01:26:14.894367Z\u001b[0m \u001b[35mTRACE\u001b[0m \u001b[2muindex::utils\u001b[0m\u001b[2m:\u001b[0m   Building EF                   : 39.224ms\n",
      "\u001b[2m2024-09-24T01:26:15.402799Z\u001b[0m \u001b[35mTRACE\u001b[0m \u001b[2muindex::utils\u001b[0m\u001b[2m:\u001b[0m   Remapping                     : 508.418ms\n",
      "\u001b[2m2024-09-24T01:26:15.402809Z\u001b[0m \u001b[35mTRACE\u001b[0m \u001b[2muindex::utils\u001b[0m\u001b[2m:\u001b[0m  Sketch                        : 1.879s\n",
      "\u001b[2m2024-09-24T01:26:15.402812Z\u001b[0m \u001b[35mTRACE\u001b[0m \u001b[2muindex::indices::sa_divsufsort\u001b[0m\u001b[2m:\u001b[0m MS sequence length 16449498\n",
      "\u001b[2m2024-09-24T01:26:15.797163Z\u001b[0m \u001b[35mTRACE\u001b[0m \u001b[2muindex::utils\u001b[0m\u001b[2m:\u001b[0m   Building suffix array         : 394.349ms\n",
      "\u001b[2m2024-09-24T01:26:15.797173Z\u001b[0m \u001b[35mTRACE\u001b[0m \u001b[2muindex::utils\u001b[0m\u001b[2m:\u001b[0m  Build                         : 394.362ms\n"
     ]
    },
    {
     "name": "stderr",
     "output_type": "stream",
     "text": [
      "Benching: 1.316285146s"
     ]
    },
    {
     "name": "stderr",
     "output_type": "stream",
     "text": [
      "\n"
     ]
    },
    {
     "name": "stderr",
     "output_type": "stream",
     "text": [
      "Stats\n"
     ]
    },
    {
     "name": "stderr",
     "output_type": "stream",
     "text": [
      "Build                         :          0.39\n"
     ]
    },
    {
     "name": "stderr",
     "output_type": "stream",
     "text": [
      "Building EF                   :          0.04\n"
     ]
    },
    {
     "name": "stderr",
     "output_type": "stream",
     "text": [
      "Building remap                :          0.46\n"
     ]
    },
    {
     "name": "stderr",
     "output_type": "stream",
     "text": [
      "Building suffix array         :          0.39\n"
     ]
    },
    {
     "name": "stderr",
     "output_type": "stream",
     "text": [
      "Remapping                     :          0.51\n"
     ]
    },
    {
     "name": "stderr",
     "output_type": "stream",
     "text": [
      "Sketch                        :          1.88\n"
     ]
    },
    {
     "name": "stderr",
     "output_type": "stream",
     "text": [
      "build_time                    :          2.27\n"
     ]
    },
    {
     "name": "stderr",
     "output_type": "stream",
     "text": [
      "compress                      :          0.00\n"
     ]
    },
    {
     "name": "stderr",
     "output_type": "stream",
     "text": [
      "computing_minimizers          :          0.87\n"
     ]
    },
    {
     "name": "stderr",
     "output_type": "stream",
     "text": [
      "index_size_MB                 :         82.25\n"
     ]
    },
    {
     "name": "stderr",
     "output_type": "stream",
     "text": [
      "k                             :         32.00\n"
     ]
    },
    {
     "name": "stderr",
     "output_type": "stream",
     "text": [
      "kmer_width                    :          3.00\n"
     ]
    },
    {
     "name": "stderr",
     "output_type": "stream",
     "text": [
      "kmer_width_bits               :         23.00\n"
     ]
    },
    {
     "name": "stderr",
     "output_type": "stream",
     "text": [
      "l                             :        128.00\n"
     ]
    },
    {
     "name": "stderr",
     "output_type": "stream",
     "text": [
      "num_distinct_minimizers       :    4654209.00\n"
     ]
    },
    {
     "name": "stderr",
     "output_type": "stream",
     "text": [
      "num_minimizers                :    5483166.00\n"
     ]
    },
    {
     "name": "stderr",
     "output_type": "stream",
     "text": [
      "query_length                  :        256.00\n"
     ]
    },
    {
     "name": "stderr",
     "output_type": "stream",
     "text": [
      "query_matches                 :    1808654.00\n"
     ]
    },
    {
     "name": "stderr",
     "output_type": "stream",
     "text": [
      "query_misaligned_ms_pos       :          0.00\n"
     ]
    },
    {
     "name": "stderr",
     "output_type": "stream",
     "text": [
      "query_mismatches              :    5185362.00\n"
     ]
    },
    {
     "name": "stderr",
     "output_type": "stream",
     "text": [
      "query_out_of_bounds           :          0.00\n"
     ]
    },
    {
     "name": "stderr",
     "output_type": "stream",
     "text": [
      "query_time                    :          1.32\n"
     ]
    },
    {
     "name": "stderr",
     "output_type": "stream",
     "text": [
      "query_too_short               :          0.00\n"
     ]
    },
    {
     "name": "stderr",
     "output_type": "stream",
     "text": [
      "query_unknown_minimizer       :          0.00\n"
     ]
    },
    {
     "name": "stderr",
     "output_type": "stream",
     "text": [
      "remap                         :          1.00\n"
     ]
    },
    {
     "name": "stderr",
     "output_type": "stream",
     "text": [
      "seq_size_MB                   :        248.39\n"
     ]
    },
    {
     "name": "stderr",
     "output_type": "stream",
     "text": [
      "sequence length               :   16449498.00\n"
     ]
    },
    {
     "name": "stderr",
     "output_type": "stream",
     "text": [
      "sequence_length               :  248387328.00\n"
     ]
    },
    {
     "name": "stderr",
     "output_type": "stream",
     "text": [
      "sketch_size_MB                :        147.79\n"
     ]
    },
    {
     "name": "stderr",
     "output_type": "stream",
     "text": [
      "total_size_MB                 :        230.03\n"
     ]
    },
    {
     "name": "stderr",
     "output_type": "stream",
     "text": [
      "Building..\n",
      "\u001b[2m2024-09-24T01:26:17.126073Z\u001b[0m \u001b[32m INFO\u001b[0m \u001b[2muindex\u001b[0m\u001b[2m:\u001b[0m Query stats: QueryStats {\n",
      "    too_short: 0,\n",
      "    unknown_minimizer: 0,\n",
      "    misaligned_ms_pos: 0,\n",
      "    out_of_bounds: 0,\n",
      "    mismatches: 5185362,\n",
      "    matches: 1808654,\n",
      "}\n"
     ]
    },
    {
     "name": "stderr",
     "output_type": "stream",
     "text": [
      "Benching..\u001b[2m2024-09-24T01:26:19.092217Z\u001b[0m \u001b[35mTRACE\u001b[0m \u001b[2muindex::sketchers::minimizers\u001b[0m\u001b[2m:\u001b[0m Sequence length 248387328\n",
      "\n",
      "\u001b[2m2024-09-24T01:26:19.972519Z\u001b[0m \u001b[35mTRACE\u001b[0m \u001b[2muindex::sketchers::minimizers\u001b[0m\u001b[2m:\u001b[0m Num minimizers: 5483166\n",
      "\u001b[2m2024-09-24T01:26:19.972527Z\u001b[0m \u001b[35mTRACE\u001b[0m \u001b[2muindex::utils\u001b[0m\u001b[2m:\u001b[0m   computing_minimizers          : 880.299ms\n",
      "\u001b[2m2024-09-24T01:26:20.530194Z\u001b[0m \u001b[35mTRACE\u001b[0m \u001b[2muindex::sketchers::minimizers\u001b[0m\u001b[2m:\u001b[0m Num distinct minimizers: 4654209\n",
      "\u001b[2m2024-09-24T01:26:20.530204Z\u001b[0m \u001b[35mTRACE\u001b[0m \u001b[2muindex::sketchers::minimizers\u001b[0m\u001b[2m:\u001b[0m kmer_width: 23 bits\n",
      "\u001b[2m2024-09-24T01:26:20.530206Z\u001b[0m \u001b[35mTRACE\u001b[0m \u001b[2muindex::sketchers::minimizers\u001b[0m\u001b[2m:\u001b[0m kmer_width: 3 bytes\n",
      "\u001b[2m2024-09-24T01:26:20.530209Z\u001b[0m \u001b[35mTRACE\u001b[0m \u001b[2muindex::utils\u001b[0m\u001b[2m:\u001b[0m   Building remap                : 557.678ms\n",
      "\u001b[2m2024-09-24T01:26:20.568766Z\u001b[0m \u001b[35mTRACE\u001b[0m \u001b[2muindex::utils\u001b[0m\u001b[2m:\u001b[0m   Building EF                   : 38.548ms\n",
      "\u001b[2m2024-09-24T01:26:21.092299Z\u001b[0m \u001b[35mTRACE\u001b[0m \u001b[2muindex::utils\u001b[0m\u001b[2m:\u001b[0m   Remapping                     : 523.521ms\n",
      "\u001b[2m2024-09-24T01:26:21.092310Z\u001b[0m \u001b[35mTRACE\u001b[0m \u001b[2muindex::utils\u001b[0m\u001b[2m:\u001b[0m  Sketch                        : 2.000s\n",
      "\u001b[2m2024-09-24T01:26:21.092313Z\u001b[0m \u001b[35mTRACE\u001b[0m \u001b[2muindex::indices::sa_divsufsort\u001b[0m\u001b[2m:\u001b[0m MS sequence length 16449498\n",
      "\u001b[2m2024-09-24T01:26:21.464861Z\u001b[0m \u001b[35mTRACE\u001b[0m \u001b[2muindex::utils\u001b[0m\u001b[2m:\u001b[0m   Building suffix array         : 372.545ms\n",
      "\u001b[2m2024-09-24T01:26:21.514313Z\u001b[0m \u001b[35mTRACE\u001b[0m \u001b[2muindex::utils\u001b[0m\u001b[2m:\u001b[0m  Build                         : 422.000ms\n"
     ]
    },
    {
     "name": "stderr",
     "output_type": "stream",
     "text": [
      "Benching: 1.151046837s\n"
     ]
    },
    {
     "name": "stderr",
     "output_type": "stream",
     "text": [
      "Stats\n"
     ]
    },
    {
     "name": "stderr",
     "output_type": "stream",
     "text": [
      "Build                         :          0.42\n"
     ]
    },
    {
     "name": "stderr",
     "output_type": "stream",
     "text": [
      "Building EF                   :          0.04\n"
     ]
    },
    {
     "name": "stderr",
     "output_type": "stream",
     "text": [
      "Building remap                :          0.56\n"
     ]
    },
    {
     "name": "stderr",
     "output_type": "stream",
     "text": [
      "Building suffix array         :          0.37\n"
     ]
    },
    {
     "name": "stderr",
     "output_type": "stream",
     "text": [
      "Remapping                     :          0.52\n"
     ]
    },
    {
     "name": "stderr",
     "output_type": "stream",
     "text": [
      "Sketch                        :          2.00\n"
     ]
    },
    {
     "name": "stderr",
     "output_type": "stream",
     "text": [
      "build_time                    :          2.42\n"
     ]
    },
    {
     "name": "stderr",
     "output_type": "stream",
     "text": [
      "compress                      :          1.00\n"
     ]
    },
    {
     "name": "stderr",
     "output_type": "stream",
     "text": [
      "computing_minimizers          :          0.88\n"
     ]
    },
    {
     "name": "stderr",
     "output_type": "stream",
     "text": [
      "index_size_MB                 :         38.38\n"
     ]
    },
    {
     "name": "stderr",
     "output_type": "stream",
     "text": [
      "k                             :         32.00\n"
     ]
    },
    {
     "name": "stderr",
     "output_type": "stream",
     "text": [
      "kmer_width                    :          3.00\n"
     ]
    },
    {
     "name": "stderr",
     "output_type": "stream",
     "text": [
      "kmer_width_bits               :         23.00\n"
     ]
    },
    {
     "name": "stderr",
     "output_type": "stream",
     "text": [
      "l                             :        128.00\n"
     ]
    },
    {
     "name": "stderr",
     "output_type": "stream",
     "text": [
      "num_distinct_minimizers       :    4654209.00\n"
     ]
    },
    {
     "name": "stderr",
     "output_type": "stream",
     "text": [
      "num_minimizers                :    5483166.00\n"
     ]
    },
    {
     "name": "stderr",
     "output_type": "stream",
     "text": [
      "query_length                  :        256.00\n"
     ]
    },
    {
     "name": "stderr",
     "output_type": "stream",
     "text": [
      "query_matches                 :    1808654.00\n"
     ]
    },
    {
     "name": "stderr",
     "output_type": "stream",
     "text": [
      "query_misaligned_ms_pos       :          0.00\n"
     ]
    },
    {
     "name": "stderr",
     "output_type": "stream",
     "text": [
      "query_mismatches              :    5185362.00\n"
     ]
    },
    {
     "name": "stderr",
     "output_type": "stream",
     "text": [
      "query_out_of_bounds           :          0.00\n"
     ]
    },
    {
     "name": "stderr",
     "output_type": "stream",
     "text": [
      "query_time                    :          1.15\n"
     ]
    },
    {
     "name": "stderr",
     "output_type": "stream",
     "text": [
      "query_too_short               :          0.00\n"
     ]
    },
    {
     "name": "stderr",
     "output_type": "stream",
     "text": [
      "query_unknown_minimizer       :          0.00\n"
     ]
    },
    {
     "name": "stderr",
     "output_type": "stream",
     "text": [
      "remap                         :          1.00\n"
     ]
    },
    {
     "name": "stderr",
     "output_type": "stream",
     "text": [
      "seq_size_MB                   :        248.39\n"
     ]
    },
    {
     "name": "stderr",
     "output_type": "stream",
     "text": [
      "sequence length               :   16449498.00\n"
     ]
    },
    {
     "name": "stderr",
     "output_type": "stream",
     "text": [
      "sequence_length               :  248387328.00\n"
     ]
    },
    {
     "name": "stderr",
     "output_type": "stream",
     "text": [
      "sketch_size_MB                :        147.79\n"
     ]
    },
    {
     "name": "stderr",
     "output_type": "stream",
     "text": [
      "total_size_MB                 :        186.17\n"
     ]
    },
    {
     "name": "stderr",
     "output_type": "stream",
     "text": [
      "Building..\u001b[2m2024-09-24T01:26:22.677273Z\u001b[0m \u001b[32m INFO\u001b[0m \u001b[2muindex\u001b[0m\u001b[2m:\u001b[0m Query stats: QueryStats {\n",
      "    too_short: 0,\n",
      "    unknown_minimizer: 0,\n",
      "    misaligned_ms_pos: 0,\n",
      "    out_of_bounds: 0,\n",
      "    mismatches: 5185362,\n",
      "    matches: 1808654,\n",
      "}\n",
      "\n"
     ]
    },
    {
     "name": "stderr",
     "output_type": "stream",
     "text": [
      "\u001b[2m2024-09-24T01:26:24.639996Z\u001b[0m \u001b[35mTRACE\u001b[0m \u001b[2muindex::sketchers::minimizers\u001b[0m\u001b[2m:\u001b[0m Sequence length 248387328\n",
      "\u001b[2m2024-09-24T01:26:25.514375Z\u001b[0m \u001b[35mTRACE\u001b[0m \u001b[2muindex::sketchers::minimizers\u001b[0m\u001b[2m:\u001b[0m Num minimizers: 5483166\n",
      "\u001b[2m2024-09-24T01:26:25.514383Z\u001b[0m \u001b[35mTRACE\u001b[0m \u001b[2muindex::sketchers::minimizers\u001b[0m\u001b[2m:\u001b[0m kmer_width: 8 bytes\n",
      "\u001b[2m2024-09-24T01:26:25.514386Z\u001b[0m \u001b[35mTRACE\u001b[0m \u001b[2muindex::utils\u001b[0m\u001b[2m:\u001b[0m   computing_minimizers          : 874.376ms\n",
      "\u001b[2m2024-09-24T01:26:25.545340Z\u001b[0m \u001b[35mTRACE\u001b[0m \u001b[2muindex::utils\u001b[0m\u001b[2m:\u001b[0m   Building EF                   : 30.947ms\n",
      "\u001b[2m2024-09-24T01:26:25.563442Z\u001b[0m \u001b[35mTRACE\u001b[0m \u001b[2muindex::utils\u001b[0m\u001b[2m:\u001b[0m   Remapping                     : 18.092ms\n",
      "\u001b[2m2024-09-24T01:26:25.563453Z\u001b[0m \u001b[35mTRACE\u001b[0m \u001b[2muindex::utils\u001b[0m\u001b[2m:\u001b[0m  Sketch                        : 923.458ms\n",
      "\u001b[2m2024-09-24T01:26:25.563455Z\u001b[0m \u001b[35mTRACE\u001b[0m \u001b[2muindex::indices::sa_divsufsort\u001b[0m\u001b[2m:\u001b[0m MS sequence length 43865328\n",
      "\u001b[2m2024-09-24T01:26:27.918686Z\u001b[0m \u001b[35mTRACE\u001b[0m \u001b[2muindex::utils\u001b[0m\u001b[2m:\u001b[0m   Building suffix array         : 2.355s\n",
      "\u001b[2m2024-09-24T01:26:27.918697Z\u001b[0m \u001b[35mTRACE\u001b[0m \u001b[2muindex::utils\u001b[0m\u001b[2m:\u001b[0m  Build                         : 2.355s\n"
     ]
    },
    {
     "name": "stderr",
     "output_type": "stream",
     "text": [
      "Benching..\n"
     ]
    },
    {
     "name": "stderr",
     "output_type": "stream",
     "text": [
      "Benching: 1.139790356s\n"
     ]
    },
    {
     "name": "stderr",
     "output_type": "stream",
     "text": [
      "Stats\n"
     ]
    },
    {
     "name": "stderr",
     "output_type": "stream",
     "text": [
      "Build                         :          2.36\n"
     ]
    },
    {
     "name": "stderr",
     "output_type": "stream",
     "text": [
      "Building EF                   :          0.03\n"
     ]
    },
    {
     "name": "stderr",
     "output_type": "stream",
     "text": [
      "Building suffix array         :          2.36\n"
     ]
    },
    {
     "name": "stderr",
     "output_type": "stream",
     "text": [
      "Remapping                     :          0.02\n"
     ]
    },
    {
     "name": "stderr",
     "output_type": "stream",
     "text": [
      "Sketch                        :          0.92\n"
     ]
    },
    {
     "name": "stderr",
     "output_type": "stream",
     "text": [
      "build_time                    :          3.28\n"
     ]
    },
    {
     "name": "stderr",
     "output_type": "stream",
     "text": [
      "compress                      :          0.00\n"
     ]
    },
    {
     "name": "stderr",
     "output_type": "stream",
     "text": [
      "computing_minimizers          :          0.87\n"
     ]
    },
    {
     "name": "stderr",
     "output_type": "stream",
     "text": [
      "index_size_MB                 :        219.33\n"
     ]
    },
    {
     "name": "stderr",
     "output_type": "stream",
     "text": [
      "k                             :         32.00\n"
     ]
    },
    {
     "name": "stderr",
     "output_type": "stream",
     "text": [
      "kmer_width                    :          8.00\n"
     ]
    },
    {
     "name": "stderr",
     "output_type": "stream",
     "text": [
      "kmer_width_bits               :         64.00\n"
     ]
    },
    {
     "name": "stderr",
     "output_type": "stream",
     "text": [
      "l                             :        128.00\n"
     ]
    },
    {
     "name": "stderr",
     "output_type": "stream",
     "text": [
      "num_minimizers                :    5483166.00\n"
     ]
    },
    {
     "name": "stderr",
     "output_type": "stream",
     "text": [
      "query_length                  :        256.00\n"
     ]
    },
    {
     "name": "stderr",
     "output_type": "stream",
     "text": [
      "query_matches                 :    1808654.00\n"
     ]
    },
    {
     "name": "stderr",
     "output_type": "stream",
     "text": [
      "query_misaligned_ms_pos       :          0.00\n"
     ]
    },
    {
     "name": "stderr",
     "output_type": "stream",
     "text": [
      "query_mismatches              :    5185362.00\n"
     ]
    },
    {
     "name": "stderr",
     "output_type": "stream",
     "text": [
      "query_out_of_bounds           :          0.00\n"
     ]
    },
    {
     "name": "stderr",
     "output_type": "stream",
     "text": [
      "query_time                    :          1.14\n"
     ]
    },
    {
     "name": "stderr",
     "output_type": "stream",
     "text": [
      "query_too_short               :          0.00\n"
     ]
    },
    {
     "name": "stderr",
     "output_type": "stream",
     "text": [
      "query_unknown_minimizer       :          0.00\n"
     ]
    },
    {
     "name": "stderr",
     "output_type": "stream",
     "text": [
      "remap                         :          0.00\n"
     ]
    },
    {
     "name": "stderr",
     "output_type": "stream",
     "text": [
      "seq_size_MB                   :        248.39\n"
     ]
    },
    {
     "name": "stderr",
     "output_type": "stream",
     "text": [
      "sequence length               :   43865328.00\n"
     ]
    },
    {
     "name": "stderr",
     "output_type": "stream",
     "text": [
      "sequence_length               :  248387328.00\n"
     ]
    },
    {
     "name": "stderr",
     "output_type": "stream",
     "text": [
      "sketch_size_MB                :          5.18\n"
     ]
    },
    {
     "name": "stderr",
     "output_type": "stream",
     "text": [
      "total_size_MB                 :        224.51\n"
     ]
    },
    {
     "name": "stderr",
     "output_type": "stream",
     "text": [
      "Building..\n",
      "\u001b[2m2024-09-24T01:26:29.080353Z\u001b[0m \u001b[32m INFO\u001b[0m \u001b[2muindex\u001b[0m\u001b[2m:\u001b[0m Query stats: QueryStats {\n",
      "    too_short: 0,\n",
      "    unknown_minimizer: 0,\n",
      "    misaligned_ms_pos: 0,\n",
      "    out_of_bounds: 0,\n",
      "    mismatches: 5185362,\n",
      "    matches: 1808654,\n",
      "}\n"
     ]
    },
    {
     "name": "stderr",
     "output_type": "stream",
     "text": [
      "Benching..\n",
      "\u001b[2m2024-09-24T01:26:31.040938Z\u001b[0m \u001b[35mTRACE\u001b[0m \u001b[2muindex::sketchers::minimizers\u001b[0m\u001b[2m:\u001b[0m Sequence length 248387328\n"
     ]
    },
    {
     "name": "stderr",
     "output_type": "stream",
     "text": [
      "\u001b[2m2024-09-24T01:26:31.902449Z\u001b[0m \u001b[35mTRACE\u001b[0m \u001b[2muindex::sketchers::minimizers\u001b[0m\u001b[2m:\u001b[0m Num minimizers: 5483166\n",
      "\u001b[2m2024-09-24T01:26:31.902457Z\u001b[0m \u001b[35mTRACE\u001b[0m \u001b[2muindex::sketchers::minimizers\u001b[0m\u001b[2m:\u001b[0m kmer_width: 8 bytes\n",
      "\u001b[2m2024-09-24T01:26:31.902460Z\u001b[0m \u001b[35mTRACE\u001b[0m \u001b[2muindex::utils\u001b[0m\u001b[2m:\u001b[0m   computing_minimizers          : 861.512ms\n",
      "\u001b[2m2024-09-24T01:26:31.932653Z\u001b[0m \u001b[35mTRACE\u001b[0m \u001b[2muindex::utils\u001b[0m\u001b[2m:\u001b[0m   Building EF                   : 30.187ms\n",
      "\u001b[2m2024-09-24T01:26:31.950713Z\u001b[0m \u001b[35mTRACE\u001b[0m \u001b[2muindex::utils\u001b[0m\u001b[2m:\u001b[0m   Remapping                     : 18.050ms\n",
      "\u001b[2m2024-09-24T01:26:31.950722Z\u001b[0m \u001b[35mTRACE\u001b[0m \u001b[2muindex::utils\u001b[0m\u001b[2m:\u001b[0m  Sketch                        : 909.785ms\n",
      "\u001b[2m2024-09-24T01:26:31.950725Z\u001b[0m \u001b[35mTRACE\u001b[0m \u001b[2muindex::indices::sa_divsufsort\u001b[0m\u001b[2m:\u001b[0m MS sequence length 43865328\n",
      "\u001b[2m2024-09-24T01:26:34.290179Z\u001b[0m \u001b[35mTRACE\u001b[0m \u001b[2muindex::utils\u001b[0m\u001b[2m:\u001b[0m   Building suffix array         : 2.339s\n",
      "\u001b[2m2024-09-24T01:26:34.464523Z\u001b[0m \u001b[35mTRACE\u001b[0m \u001b[2muindex::utils\u001b[0m\u001b[2m:\u001b[0m  Build                         : 2.514s\n",
      "Benching: 1.073107839s\n"
     ]
    },
    {
     "name": "stderr",
     "output_type": "stream",
     "text": [
      "Stats\n"
     ]
    },
    {
     "name": "stderr",
     "output_type": "stream",
     "text": [
      "Build                         :          2.51\n"
     ]
    },
    {
     "name": "stderr",
     "output_type": "stream",
     "text": [
      "Building EF                   :          0.03\n"
     ]
    },
    {
     "name": "stderr",
     "output_type": "stream",
     "text": [
      "Building suffix array         :          2.34\n"
     ]
    },
    {
     "name": "stderr",
     "output_type": "stream",
     "text": [
      "Remapping                     :          0.02\n"
     ]
    },
    {
     "name": "stderr",
     "output_type": "stream",
     "text": [
      "Sketch                        :          0.91\n"
     ]
    },
    {
     "name": "stderr",
     "output_type": "stream",
     "text": [
      "build_time                    :          3.42\n"
     ]
    },
    {
     "name": "stderr",
     "output_type": "stream",
     "text": [
      "compress                      :          1.00\n"
     ]
    },
    {
     "name": "stderr",
     "output_type": "stream",
     "text": [
      "computing_minimizers          :          0.86\n"
     ]
    },
    {
     "name": "stderr",
     "output_type": "stream",
     "text": [
      "index_size_MB                 :         65.80\n"
     ]
    },
    {
     "name": "stderr",
     "output_type": "stream",
     "text": [
      "k                             :         32.00\n"
     ]
    },
    {
     "name": "stderr",
     "output_type": "stream",
     "text": [
      "kmer_width                    :          8.00\n"
     ]
    },
    {
     "name": "stderr",
     "output_type": "stream",
     "text": [
      "kmer_width_bits               :         64.00\n"
     ]
    },
    {
     "name": "stderr",
     "output_type": "stream",
     "text": [
      "l                             :        128.00\n"
     ]
    },
    {
     "name": "stderr",
     "output_type": "stream",
     "text": [
      "num_minimizers                :    5483166.00\n"
     ]
    },
    {
     "name": "stderr",
     "output_type": "stream",
     "text": [
      "query_length                  :        256.00\n"
     ]
    },
    {
     "name": "stderr",
     "output_type": "stream",
     "text": [
      "query_matches                 :    1808654.00\n"
     ]
    },
    {
     "name": "stderr",
     "output_type": "stream",
     "text": [
      "query_misaligned_ms_pos       :          0.00\n"
     ]
    },
    {
     "name": "stderr",
     "output_type": "stream",
     "text": [
      "query_mismatches              :    5185362.00\n"
     ]
    },
    {
     "name": "stderr",
     "output_type": "stream",
     "text": [
      "query_out_of_bounds           :          0.00\n"
     ]
    },
    {
     "name": "stderr",
     "output_type": "stream",
     "text": [
      "query_time                    :          1.07\n"
     ]
    },
    {
     "name": "stderr",
     "output_type": "stream",
     "text": [
      "query_too_short               :          0.00\n"
     ]
    },
    {
     "name": "stderr",
     "output_type": "stream",
     "text": [
      "query_unknown_minimizer       :          0.00\n"
     ]
    },
    {
     "name": "stderr",
     "output_type": "stream",
     "text": [
      "remap                         :          0.00\n"
     ]
    },
    {
     "name": "stderr",
     "output_type": "stream",
     "text": [
      "seq_size_MB                   :        248.39\n"
     ]
    },
    {
     "name": "stderr",
     "output_type": "stream",
     "text": [
      "sequence length               :   43865328.00\n"
     ]
    },
    {
     "name": "stderr",
     "output_type": "stream",
     "text": [
      "sequence_length               :  248387328.00\n"
     ]
    },
    {
     "name": "stderr",
     "output_type": "stream",
     "text": [
      "sketch_size_MB                :          5.18\n"
     ]
    },
    {
     "name": "stderr",
     "output_type": "stream",
     "text": [
      "total_size_MB                 :         70.98\n"
     ]
    },
    {
     "name": "stderr",
     "output_type": "stream",
     "text": [
      "Building..\n",
      "\u001b[2m2024-09-24T01:26:35.549352Z\u001b[0m \u001b[32m INFO\u001b[0m \u001b[2muindex\u001b[0m\u001b[2m:\u001b[0m Query stats: QueryStats {\n",
      "    too_short: 0,\n",
      "    unknown_minimizer: 0,\n",
      "    misaligned_ms_pos: 0,\n",
      "    out_of_bounds: 0,\n",
      "    mismatches: 5185362,\n",
      "    matches: 1808654,\n",
      "}\n"
     ]
    },
    {
     "name": "stderr",
     "output_type": "stream",
     "text": [
      "Benching..\n",
      "\u001b[2m2024-09-24T01:26:37.517261Z\u001b[0m \u001b[35mTRACE\u001b[0m \u001b[2muindex::sketchers::minimizers\u001b[0m\u001b[2m:\u001b[0m Sequence length 248387328\n",
      "\u001b[2m2024-09-24T01:26:38.563593Z\u001b[0m \u001b[35mTRACE\u001b[0m \u001b[2muindex::sketchers::minimizers\u001b[0m\u001b[2m:\u001b[0m Num minimizers: 15792585\n",
      "\u001b[2m2024-09-24T01:26:38.563601Z\u001b[0m \u001b[35mTRACE\u001b[0m \u001b[2muindex::utils\u001b[0m\u001b[2m:\u001b[0m   computing_minimizers          : 1.046s\n",
      "\u001b[2m2024-09-24T01:26:40.205934Z\u001b[0m \u001b[35mTRACE\u001b[0m \u001b[2muindex::sketchers::minimizers\u001b[0m\u001b[2m:\u001b[0m Num distinct minimizers: 13462617\n",
      "\u001b[2m2024-09-24T01:26:40.205948Z\u001b[0m \u001b[35mTRACE\u001b[0m \u001b[2muindex::sketchers::minimizers\u001b[0m\u001b[2m:\u001b[0m kmer_width: 24 bits\n",
      "\u001b[2m2024-09-24T01:26:40.205950Z\u001b[0m \u001b[35mTRACE\u001b[0m \u001b[2muindex::sketchers::minimizers\u001b[0m\u001b[2m:\u001b[0m kmer_width: 3 bytes\n",
      "\u001b[2m2024-09-24T01:26:40.205954Z\u001b[0m \u001b[35mTRACE\u001b[0m \u001b[2muindex::utils\u001b[0m\u001b[2m:\u001b[0m   Building remap                : 1.642s\n",
      "\u001b[2m2024-09-24T01:26:40.301469Z\u001b[0m \u001b[35mTRACE\u001b[0m \u001b[2muindex::utils\u001b[0m\u001b[2m:\u001b[0m   Building EF                   : 95.506ms\n",
      "\u001b[2m2024-09-24T01:26:41.948253Z\u001b[0m \u001b[35mTRACE\u001b[0m \u001b[2muindex::utils\u001b[0m\u001b[2m:\u001b[0m   Remapping                     : 1.647s\n",
      "\u001b[2m2024-09-24T01:26:41.948264Z\u001b[0m \u001b[35mTRACE\u001b[0m \u001b[2muindex::utils\u001b[0m\u001b[2m:\u001b[0m  Sketch                        : 4.431s\n",
      "\u001b[2m2024-09-24T01:26:41.948267Z\u001b[0m \u001b[35mTRACE\u001b[0m \u001b[2muindex::indices::sa_divsufsort\u001b[0m\u001b[2m:\u001b[0m MS sequence length 47377755\n",
      "\u001b[2m2024-09-24T01:26:43.231822Z\u001b[0m \u001b[35mTRACE\u001b[0m \u001b[2muindex::utils\u001b[0m\u001b[2m:\u001b[0m   Building suffix array         : 1.284s\n",
      "\u001b[2m2024-09-24T01:26:43.231831Z\u001b[0m \u001b[35mTRACE\u001b[0m \u001b[2muindex::utils\u001b[0m\u001b[2m:\u001b[0m  Build                         : 1.284s\n"
     ]
    },
    {
     "name": "stderr",
     "output_type": "stream",
     "text": [
      "Benching: 0.934325183s\n"
     ]
    },
    {
     "name": "stderr",
     "output_type": "stream",
     "text": [
      "Stats\n"
     ]
    },
    {
     "name": "stderr",
     "output_type": "stream",
     "text": [
      "Build                         :          1.28\n"
     ]
    },
    {
     "name": "stderr",
     "output_type": "stream",
     "text": [
      "Building EF                   :          0.10\n"
     ]
    },
    {
     "name": "stderr",
     "output_type": "stream",
     "text": [
      "Building remap                :          1.64\n"
     ]
    },
    {
     "name": "stderr",
     "output_type": "stream",
     "text": [
      "Building suffix array         :          1.28\n"
     ]
    },
    {
     "name": "stderr",
     "output_type": "stream",
     "text": [
      "Remapping                     :          1.65\n"
     ]
    },
    {
     "name": "stderr",
     "output_type": "stream",
     "text": [
      "Sketch                        :          4.43\n"
     ]
    },
    {
     "name": "stderr",
     "output_type": "stream",
     "text": [
      "build_time                    :          5.71\n"
     ]
    },
    {
     "name": "stderr",
     "output_type": "stream",
     "text": [
      "compress                      :          0.00\n"
     ]
    },
    {
     "name": "stderr",
     "output_type": "stream",
     "text": [
      "computing_minimizers          :          1.05\n"
     ]
    },
    {
     "name": "stderr",
     "output_type": "stream",
     "text": [
      "index_size_MB                 :        236.89\n"
     ]
    },
    {
     "name": "stderr",
     "output_type": "stream",
     "text": [
      "k                             :         32.00\n"
     ]
    },
    {
     "name": "stderr",
     "output_type": "stream",
     "text": [
      "kmer_width                    :          3.00\n"
     ]
    },
    {
     "name": "stderr",
     "output_type": "stream",
     "text": [
      "kmer_width_bits               :         24.00\n"
     ]
    },
    {
     "name": "stderr",
     "output_type": "stream",
     "text": [
      "l                             :         64.00\n"
     ]
    },
    {
     "name": "stderr",
     "output_type": "stream",
     "text": [
      "num_distinct_minimizers       :   13462617.00\n"
     ]
    },
    {
     "name": "stderr",
     "output_type": "stream",
     "text": [
      "num_minimizers                :   15792585.00\n"
     ]
    },
    {
     "name": "stderr",
     "output_type": "stream",
     "text": [
      "query_length                  :        256.00\n"
     ]
    },
    {
     "name": "stderr",
     "output_type": "stream",
     "text": [
      "query_matches                 :    1808654.00\n"
     ]
    },
    {
     "name": "stderr",
     "output_type": "stream",
     "text": [
      "query_misaligned_ms_pos       :          0.00\n"
     ]
    },
    {
     "name": "stderr",
     "output_type": "stream",
     "text": [
      "query_mismatches              :     590457.00\n"
     ]
    },
    {
     "name": "stderr",
     "output_type": "stream",
     "text": [
      "query_out_of_bounds           :          0.00\n"
     ]
    },
    {
     "name": "stderr",
     "output_type": "stream",
     "text": [
      "query_time                    :          0.93\n"
     ]
    },
    {
     "name": "stderr",
     "output_type": "stream",
     "text": [
      "query_too_short               :          0.00\n"
     ]
    },
    {
     "name": "stderr",
     "output_type": "stream",
     "text": [
      "query_unknown_minimizer       :          0.00\n"
     ]
    },
    {
     "name": "stderr",
     "output_type": "stream",
     "text": [
      "remap                         :          1.00\n"
     ]
    },
    {
     "name": "stderr",
     "output_type": "stream",
     "text": [
      "seq_size_MB                   :        248.39\n"
     ]
    },
    {
     "name": "stderr",
     "output_type": "stream",
     "text": [
      "sequence length               :   47377756.00\n"
     ]
    },
    {
     "name": "stderr",
     "output_type": "stream",
     "text": [
      "sequence_length               :  248387328.00\n"
     ]
    },
    {
     "name": "stderr",
     "output_type": "stream",
     "text": [
      "sketch_size_MB                :        297.27\n"
     ]
    },
    {
     "name": "stderr",
     "output_type": "stream",
     "text": [
      "total_size_MB                 :        534.16\n"
     ]
    },
    {
     "name": "stderr",
     "output_type": "stream",
     "text": [
      "Building..\n",
      "\u001b[2m2024-09-24T01:26:44.180817Z\u001b[0m \u001b[32m INFO\u001b[0m \u001b[2muindex\u001b[0m\u001b[2m:\u001b[0m Query stats: QueryStats {\n",
      "    too_short: 0,\n",
      "    unknown_minimizer: 0,\n",
      "    misaligned_ms_pos: 0,\n",
      "    out_of_bounds: 0,\n",
      "    mismatches: 590457,\n",
      "    matches: 1808654,\n",
      "}\n"
     ]
    },
    {
     "name": "stderr",
     "output_type": "stream",
     "text": [
      "Benching.."
     ]
    },
    {
     "name": "stderr",
     "output_type": "stream",
     "text": [
      "\n"
     ]
    },
    {
     "name": "stderr",
     "output_type": "stream",
     "text": [
      "\u001b[2m2024-09-24T01:26:46.137097Z\u001b[0m \u001b[35mTRACE\u001b[0m \u001b[2muindex::sketchers::minimizers\u001b[0m\u001b[2m:\u001b[0m Sequence length 248387328\n"
     ]
    },
    {
     "name": "stderr",
     "output_type": "stream",
     "text": [
      "\u001b[2m2024-09-24T01:26:47.183617Z\u001b[0m \u001b[35mTRACE\u001b[0m \u001b[2muindex::sketchers::minimizers\u001b[0m\u001b[2m:\u001b[0m Num minimizers: 15792585\n",
      "\u001b[2m2024-09-24T01:26:47.183625Z\u001b[0m \u001b[35mTRACE\u001b[0m \u001b[2muindex::utils\u001b[0m\u001b[2m:\u001b[0m   computing_minimizers          : 1.047s\n",
      "\u001b[2m2024-09-24T01:26:48.791933Z\u001b[0m \u001b[35mTRACE\u001b[0m \u001b[2muindex::sketchers::minimizers\u001b[0m\u001b[2m:\u001b[0m Num distinct minimizers: 13462617\n",
      "\u001b[2m2024-09-24T01:26:48.791945Z\u001b[0m \u001b[35mTRACE\u001b[0m \u001b[2muindex::sketchers::minimizers\u001b[0m\u001b[2m:\u001b[0m kmer_width: 24 bits\n",
      "\u001b[2m2024-09-24T01:26:48.791947Z\u001b[0m \u001b[35mTRACE\u001b[0m \u001b[2muindex::sketchers::minimizers\u001b[0m\u001b[2m:\u001b[0m kmer_width: 3 bytes\n",
      "\u001b[2m2024-09-24T01:26:48.791950Z\u001b[0m \u001b[35mTRACE\u001b[0m \u001b[2muindex::utils\u001b[0m\u001b[2m:\u001b[0m   Building remap                : 1.608s\n",
      "\u001b[2m2024-09-24T01:26:48.892556Z\u001b[0m \u001b[35mTRACE\u001b[0m \u001b[2muindex::utils\u001b[0m\u001b[2m:\u001b[0m   Building EF                   : 100.597ms\n",
      "\u001b[2m2024-09-24T01:26:50.499494Z\u001b[0m \u001b[35mTRACE\u001b[0m \u001b[2muindex::utils\u001b[0m\u001b[2m:\u001b[0m   Remapping                     : 1.607s\n",
      "\u001b[2m2024-09-24Benching: 0.905129051s\n",
      "T01:26:50.499506Z\u001b[0m \u001b[35mTRACE\u001b[0m \u001b[2muindex::utils\u001b[0m\u001b[2m:\u001b[0m  Sketch                        : 4.362s\n",
      "\u001b[2m2024-09-24T01:26:50.499509Z\u001b[0m \u001b[35mTRACE\u001b[0m \u001b[2muindex::indices::sa_divsufsort\u001b[0m\u001b[2m:\u001b[0m MS sequence length 47377755\n",
      "\u001b[2m2024-09-24T01:26:51.763780Z\u001b[0m \u001b[35mTRACE\u001b[0m \u001b[2muindex::utils\u001b[0m\u001b[2m:\u001b[0m   Building suffix array         : 1.264s\n",
      "\u001b[2m2024-09-24T01:26:51.928051Z\u001b[0m \u001b[35mTRACE\u001b[0m \u001b[2muindex::utils\u001b[0m\u001b[2m:\u001b[0m  Build                         : 1.429s\n"
     ]
    },
    {
     "name": "stderr",
     "output_type": "stream",
     "text": [
      "Stats\n"
     ]
    },
    {
     "name": "stderr",
     "output_type": "stream",
     "text": [
      "Build                         :          1.43\n"
     ]
    },
    {
     "name": "stderr",
     "output_type": "stream",
     "text": [
      "Building EF                   :          0.10\n"
     ]
    },
    {
     "name": "stderr",
     "output_type": "stream",
     "text": [
      "Building remap                :          1.61\n"
     ]
    },
    {
     "name": "stderr",
     "output_type": "stream",
     "text": [
      "Building suffix array         :          1.26\n"
     ]
    },
    {
     "name": "stderr",
     "output_type": "stream",
     "text": [
      "Remapping                     :          1.61\n"
     ]
    },
    {
     "name": "stderr",
     "output_type": "stream",
     "text": [
      "Sketch                        :          4.36\n"
     ]
    },
    {
     "name": "stderr",
     "output_type": "stream",
     "text": [
      "build_time                    :          5.79\n"
     ]
    },
    {
     "name": "stderr",
     "output_type": "stream",
     "text": [
      "compress                      :          1.00\n"
     ]
    },
    {
     "name": "stderr",
     "output_type": "stream",
     "text": [
      "computing_minimizers          :          1.05\n"
     ]
    },
    {
     "name": "stderr",
     "output_type": "stream",
     "text": [
      "index_size_MB                 :        110.55\n"
     ]
    },
    {
     "name": "stderr",
     "output_type": "stream",
     "text": [
      "k                             :         32.00\n"
     ]
    },
    {
     "name": "stderr",
     "output_type": "stream",
     "text": [
      "kmer_width                    :          3.00\n"
     ]
    },
    {
     "name": "stderr",
     "output_type": "stream",
     "text": [
      "kmer_width_bits               :         24.00\n"
     ]
    },
    {
     "name": "stderr",
     "output_type": "stream",
     "text": [
      "l                             :         64.00\n"
     ]
    },
    {
     "name": "stderr",
     "output_type": "stream",
     "text": [
      "num_distinct_minimizers       :   13462617.00\n"
     ]
    },
    {
     "name": "stderr",
     "output_type": "stream",
     "text": [
      "num_minimizers                :   15792585.00\n"
     ]
    },
    {
     "name": "stderr",
     "output_type": "stream",
     "text": [
      "query_length                  :        256.00\n"
     ]
    },
    {
     "name": "stderr",
     "output_type": "stream",
     "text": [
      "query_matches                 :    1808654.00\n"
     ]
    },
    {
     "name": "stderr",
     "output_type": "stream",
     "text": [
      "query_misaligned_ms_pos       :          0.00\n"
     ]
    },
    {
     "name": "stderr",
     "output_type": "stream",
     "text": [
      "query_mismatches              :     590457.00\n"
     ]
    },
    {
     "name": "stderr",
     "output_type": "stream",
     "text": [
      "query_out_of_bounds           :          0.00\n"
     ]
    },
    {
     "name": "stderr",
     "output_type": "stream",
     "text": [
      "query_time                    :          0.91\n"
     ]
    },
    {
     "name": "stderr",
     "output_type": "stream",
     "text": [
      "query_too_short               :          0.00\n"
     ]
    },
    {
     "name": "stderr",
     "output_type": "stream",
     "text": [
      "query_unknown_minimizer       :          0.00\n"
     ]
    },
    {
     "name": "stderr",
     "output_type": "stream",
     "text": [
      "remap                         :          1.00\n"
     ]
    },
    {
     "name": "stderr",
     "output_type": "stream",
     "text": [
      "seq_size_MB                   :        248.39\n"
     ]
    },
    {
     "name": "stderr",
     "output_type": "stream",
     "text": [
      "sequence length               :   47377756.00\n"
     ]
    },
    {
     "name": "stderr",
     "output_type": "stream",
     "text": [
      "sequence_length               :  248387328.00\n"
     ]
    },
    {
     "name": "stderr",
     "output_type": "stream",
     "text": [
      "sketch_size_MB                :        297.27\n"
     ]
    },
    {
     "name": "stderr",
     "output_type": "stream",
     "text": [
      "total_size_MB                 :        407.82\n"
     ]
    },
    {
     "name": "stderr",
     "output_type": "stream",
     "text": [
      "Building..\n",
      "\u001b[2m2024-09-24T01:26:52.848957Z\u001b[0m \u001b[32m INFO\u001b[0m \u001b[2muindex\u001b[0m\u001b[2m:\u001b[0m Query stats: QueryStats {\n",
      "    too_short: 0,\n",
      "    unknown_minimizer: 0,\n",
      "    misaligned_ms_pos: 0,\n",
      "    out_of_bounds: 0,\n",
      "    mismatches: 590457,\n",
      "    matches: 1808654,\n",
      "}\n"
     ]
    },
    {
     "name": "stderr",
     "output_type": "stream",
     "text": [
      "Benching..\n",
      "\u001b[2m2024-09-24T01:26:54.823368Z\u001b[0m \u001b[35mTRACE\u001b[0m \u001b[2muindex::sketchers::minimizers\u001b[0m\u001b[2m:\u001b[0m Sequence length 248387328\n"
     ]
    },
    {
     "name": "stderr",
     "output_type": "stream",
     "text": [
      "\u001b[2m2024-09-24T01:26:55.867025Z\u001b[0m \u001b[35mTRACE\u001b[0m \u001b[2muindex::sketchers::minimizers\u001b[0m\u001b[2m:\u001b[0m Num minimizers: 15792585\n",
      "\u001b[2m2024-09-24T01:26:55.867034Z\u001b[0m \u001b[35mTRACE\u001b[0m \u001b[2muindex::sketchers::minimizers\u001b[0m\u001b[2m:\u001b[0m kmer_width: 8 bytes\n",
      "\u001b[2m2024-09-24T01:26:55.867037Z\u001b[0m \u001b[35mTRACE\u001b[0m \u001b[2muindex::utils\u001b[0m\u001b[2m:\u001b[0m   computing_minimizers          : 1.044s\n",
      "\u001b[2m2024-09-24T01:26:55.958225Z\u001b[0m \u001b[35mTRACE\u001b[0m \u001b[2muindex::utils\u001b[0m\u001b[2m:\u001b[0m   Building EF                   : 91.181ms\n",
      "\u001b[2m2024-09-24T01:26:56.014522Z\u001b[0m \u001b[35mTRACE\u001b[0m \u001b[2muindex::utils\u001b[0m\u001b[2m:\u001b[0m   Remapping                     : 56.281ms\n",
      "\u001b[2m2024-09-24T01:26:56.014534Z\u001b[0m \u001b[35mTRACE\u001b[0m \u001b[2muindex::utils\u001b[0m\u001b[2m:\u001b[0m  Sketch                        : 1.191s\n",
      "\u001b[2m2024-09-24T01:26:56.014537Z\u001b[0m \u001b[35mTRACE\u001b[0m \u001b[2muindex::indices::sa_divsufsort\u001b[0m\u001b[2m:\u001b[0m MS sequence length 126340680\n",
      "\u001b[2m2024-09-24T01:27:04.214594Z\u001b[0m \u001b[35mTRACE\u001b[0m \u001b[2muindex::utils\u001b[0m\u001b[2m:\u001b[0m   Building suffix array         : 8.200s\n",
      "\u001b[2m2024-09-2"
     ]
    },
    {
     "name": "stderr",
     "output_type": "stream",
     "text": [
      "4T01:27:04.214605Z\u001b[0m \u001b[35mTRACE\u001b[0m \u001b[2muindex::utils\u001b[0m\u001b[2m:\u001b[0m  Build                         : 8.200s\n",
      "Benching: 0.886489466s\n"
     ]
    },
    {
     "name": "stderr",
     "output_type": "stream",
     "text": [
      "Stats\n"
     ]
    },
    {
     "name": "stderr",
     "output_type": "stream",
     "text": [
      "Build                         :          8.20\n"
     ]
    },
    {
     "name": "stderr",
     "output_type": "stream",
     "text": [
      "Building EF                   :          0.09\n"
     ]
    },
    {
     "name": "stderr",
     "output_type": "stream",
     "text": [
      "Building suffix array         :          8.20\n"
     ]
    },
    {
     "name": "stderr",
     "output_type": "stream",
     "text": [
      "Remapping                     :          0.06\n"
     ]
    },
    {
     "name": "stderr",
     "output_type": "stream",
     "text": [
      "Sketch                        :          1.19\n"
     ]
    },
    {
     "name": "stderr",
     "output_type": "stream",
     "text": [
      "build_time                    :          9.39\n"
     ]
    },
    {
     "name": "stderr",
     "output_type": "stream",
     "text": [
      "compress                      :          0.00\n"
     ]
    },
    {
     "name": "stderr",
     "output_type": "stream",
     "text": [
      "computing_minimizers          :          1.04\n"
     ]
    },
    {
     "name": "stderr",
     "output_type": "stream",
     "text": [
      "index_size_MB                 :        631.70\n"
     ]
    },
    {
     "name": "stderr",
     "output_type": "stream",
     "text": [
      "k                             :         32.00\n"
     ]
    },
    {
     "name": "stderr",
     "output_type": "stream",
     "text": [
      "kmer_width                    :          8.00\n"
     ]
    },
    {
     "name": "stderr",
     "output_type": "stream",
     "text": [
      "kmer_width_bits               :         64.00\n"
     ]
    },
    {
     "name": "stderr",
     "output_type": "stream",
     "text": [
      "l                             :         64.00\n"
     ]
    },
    {
     "name": "stderr",
     "output_type": "stream",
     "text": [
      "num_minimizers                :   15792585.00\n"
     ]
    },
    {
     "name": "stderr",
     "output_type": "stream",
     "text": [
      "query_length                  :        256.00\n"
     ]
    },
    {
     "name": "stderr",
     "output_type": "stream",
     "text": [
      "query_matches                 :    1808654.00\n"
     ]
    },
    {
     "name": "stderr",
     "output_type": "stream",
     "text": [
      "query_misaligned_ms_pos       :          0.00\n"
     ]
    },
    {
     "name": "stderr",
     "output_type": "stream",
     "text": [
      "query_mismatches              :     590457.00\n"
     ]
    },
    {
     "name": "stderr",
     "output_type": "stream",
     "text": [
      "query_out_of_bounds           :          0.00\n"
     ]
    },
    {
     "name": "stderr",
     "output_type": "stream",
     "text": [
      "query_time                    :          0.89\n"
     ]
    },
    {
     "name": "stderr",
     "output_type": "stream",
     "text": [
      "query_too_short               :          0.00\n"
     ]
    },
    {
     "name": "stderr",
     "output_type": "stream",
     "text": [
      "query_unknown_minimizer       :          0.00\n"
     ]
    },
    {
     "name": "stderr",
     "output_type": "stream",
     "text": [
      "remap                         :          0.00\n"
     ]
    },
    {
     "name": "stderr",
     "output_type": "stream",
     "text": [
      "seq_size_MB                   :        248.39\n"
     ]
    },
    {
     "name": "stderr",
     "output_type": "stream",
     "text": [
      "sequence length               :  126340680.00\n"
     ]
    },
    {
     "name": "stderr",
     "output_type": "stream",
     "text": [
      "sequence_length               :  248387328.00\n"
     ]
    },
    {
     "name": "stderr",
     "output_type": "stream",
     "text": [
      "sketch_size_MB                :         12.06\n"
     ]
    },
    {
     "name": "stderr",
     "output_type": "stream",
     "text": [
      "total_size_MB                 :        643.76\n"
     ]
    },
    {
     "name": "stderr",
     "output_type": "stream",
     "text": [
      "Building..\n",
      "\u001b[2m2024-09-24T01:27:05.115960Z\u001b[0m \u001b[32m INFO\u001b[0m \u001b[2muindex\u001b[0m\u001b[2m:\u001b[0m Query stats: QueryStats {\n",
      "    too_short: 0,\n",
      "    unknown_minimizer: 0,\n",
      "    misaligned_ms_pos: 0,\n",
      "    out_of_bounds: 0,\n",
      "    mismatches: 590457,\n",
      "    matches: 1808654,\n",
      "}\n"
     ]
    },
    {
     "name": "stderr",
     "output_type": "stream",
     "text": [
      "Benching..\n",
      "\u001b[2m2024-09-24T01:27:07.077984Z\u001b[0m \u001b[35mTRACE\u001b[0m \u001b[2muindex::sketchers::minimizers\u001b[0m\u001b[2m:\u001b[0m Sequence length 248387328\n",
      "\u001b[2m2024-09-24T01:27:08.126792Z\u001b[0m \u001b[35mTRACE\u001b[0m \u001b[2muindex::sketchers::minimizers\u001b[0m\u001b[2m:\u001b[0m Num minimizers: 15792585\n",
      "\u001b[2m2024-09-24T01:27:08.126801Z\u001b[0m \u001b[35mTRACE\u001b[0m \u001b[2muindex::sketchers::minimizers\u001b[0m\u001b[2m:\u001b[0m kmer_width: 8 bytes\n",
      "\u001b[2m2024-09-24T01:27:08.126804Z\u001b[0m \u001b[35mTRACE\u001b[0m \u001b[2muindex::utils\u001b[0m\u001b[2m:\u001b[0m   computing_minimizers          : 1.049s\n",
      "\u001b[2m2024-09-24T01:27:08.217344Z\u001b[0m \u001b[35mTRACE\u001b[0m \u001b[2muindex::utils\u001b[0m\u001b[2m:\u001b[0m   Building EF                   : 90.533ms\n",
      "\u001b[2m2024-09-24T01:27:08.270212Z\u001b[0m \u001b[35mTRACE\u001b[0m \u001b[2muindex::utils\u001b[0m\u001b[2m:\u001b[0m   Remapping                     : 52.854ms\n",
      "\u001b[2m2024-09-24T01:27:08.270222Z\u001b[0m \u001b[35mTRACE\u001b[0m \u001b[2muindex::utils\u001b[0m\u001b[2m:\u001b[0m  Sketch                        : 1.192s\n",
      "\u001b[2m2024-09-24T01:27:08.270224Z\u001b[0m \u001b[35mTRACE\u001b[0m \u001b[2muindex::indices::sa_divsufsort\u001b[0m\u001b[2m:\u001b[0m MS sequence length 126340680\n",
      "\u001b[2m2024-09-24T01:27:16.271364Z\u001b[0m \u001b[35mTRACE\u001b[0m \u001b[2muindex::utils\u001b[0m\u001b[2m:\u001b[0m   Building suffix array         : 8.001s\n",
      "\u001b[2m2024-09-2"
     ]
    },
    {
     "name": "stderr",
     "output_type": "stream",
     "text": [
      "4T01:27:16.764329Z\u001b[0m \u001b[35mTRACE\u001b[0m \u001b[2muindex::utils\u001b[0m\u001b[2m:\u001b[0m  Build                         : 8.494s\n",
      "Benching: 0.715801511s\n"
     ]
    },
    {
     "name": "stderr",
     "output_type": "stream",
     "text": [
      "Stats\n"
     ]
    },
    {
     "name": "stderr",
     "output_type": "stream",
     "text": [
      "Build                         :          8.49\n"
     ]
    },
    {
     "name": "stderr",
     "output_type": "stream",
     "text": [
      "Building EF                   :          0.09\n"
     ]
    },
    {
     "name": "stderr",
     "output_type": "stream",
     "text": [
      "Building suffix array         :          8.00\n"
     ]
    },
    {
     "name": "stderr",
     "output_type": "stream",
     "text": [
      "Remapping                     :          0.05\n"
     ]
    },
    {
     "name": "stderr",
     "output_type": "stream",
     "text": [
      "Sketch                        :          1.19\n"
     ]
    },
    {
     "name": "stderr",
     "output_type": "stream",
     "text": [
      "build_time                    :          9.69\n"
     ]
    },
    {
     "name": "stderr",
     "output_type": "stream",
     "text": [
      "compress                      :          1.00\n"
     ]
    },
    {
     "name": "stderr",
     "output_type": "stream",
     "text": [
      "computing_minimizers          :          1.05\n"
     ]
    },
    {
     "name": "stderr",
     "output_type": "stream",
     "text": [
      "index_size_MB                 :        189.51\n"
     ]
    },
    {
     "name": "stderr",
     "output_type": "stream",
     "text": [
      "k                             :         32.00\n"
     ]
    },
    {
     "name": "stderr",
     "output_type": "stream",
     "text": [
      "kmer_width                    :          8.00\n"
     ]
    },
    {
     "name": "stderr",
     "output_type": "stream",
     "text": [
      "kmer_width_bits               :         64.00\n"
     ]
    },
    {
     "name": "stderr",
     "output_type": "stream",
     "text": [
      "l                             :         64.00\n"
     ]
    },
    {
     "name": "stderr",
     "output_type": "stream",
     "text": [
      "num_minimizers                :   15792585.00\n"
     ]
    },
    {
     "name": "stderr",
     "output_type": "stream",
     "text": [
      "query_length                  :        256.00\n"
     ]
    },
    {
     "name": "stderr",
     "output_type": "stream",
     "text": [
      "query_matches                 :    1808654.00\n"
     ]
    },
    {
     "name": "stderr",
     "output_type": "stream",
     "text": [
      "query_misaligned_ms_pos       :          0.00\n"
     ]
    },
    {
     "name": "stderr",
     "output_type": "stream",
     "text": [
      "query_mismatches              :     590457.00\n"
     ]
    },
    {
     "name": "stderr",
     "output_type": "stream",
     "text": [
      "query_out_of_bounds           :          0.00\n"
     ]
    },
    {
     "name": "stderr",
     "output_type": "stream",
     "text": [
      "query_time                    :          0.72\n"
     ]
    },
    {
     "name": "stderr",
     "output_type": "stream",
     "text": [
      "query_too_short               :          0.00\n"
     ]
    },
    {
     "name": "stderr",
     "output_type": "stream",
     "text": [
      "query_unknown_minimizer       :          0.00\n"
     ]
    },
    {
     "name": "stderr",
     "output_type": "stream",
     "text": [
      "remap                         :          0.00\n"
     ]
    },
    {
     "name": "stderr",
     "output_type": "stream",
     "text": [
      "seq_size_MB                   :        248.39\n"
     ]
    },
    {
     "name": "stderr",
     "output_type": "stream",
     "text": [
      "sequence length               :  126340680.00\n"
     ]
    },
    {
     "name": "stderr",
     "output_type": "stream",
     "text": [
      "sequence_length               :  248387328.00\n"
     ]
    },
    {
     "name": "stderr",
     "output_type": "stream",
     "text": [
      "sketch_size_MB                :         12.06\n"
     ]
    },
    {
     "name": "stderr",
     "output_type": "stream",
     "text": [
      "total_size_MB                 :        201.57\n"
     ]
    },
    {
     "name": "stderr",
     "output_type": "stream",
     "text": [
      "\u001b[2m2024-09-24T01:27:17.490785Z\u001b[0m \u001b[32m INFO\u001b[0m \u001b[2muindex\u001b[0m\u001b[2m:\u001b[0m Query stats: QueryStats {\n",
      "    too_short: 0,\n",
      "    unknown_minimizer: 0,\n",
      "    misaligned_ms_pos: 0,\n",
      "    out_of_bounds: 0,\n",
      "    mismatches: 590457,\n",
      "    matches: 1808654,\n",
      "}\n"
     ]
    }
   ],
   "source": [
    "ql = 256\n",
    "#lks = [(0, 0), (16, 4), (64, 8), (32, 8), (128, 16), (64, 16), (256, 32), (128, 32), (64, 32),]\n",
    "lks = [(16, 4), (32, 8), (128, 16), (64, 16), (128, 28)]\n",
    "results = []\n",
    "for (l, k) in lks:\n",
    "    if k == 0:\n",
    "        results.append(run(ql, l, k, False, False))\n",
    "    else:\n",
    "        for remap in [False]:\n",
    "            for compress in [True]:\n",
    "                for store_ms_seq in [True, False]:\n",
    "                    results.append(run(ql, l, k, remap, store_ms_seq, compress))\n"
   ]
  },
  {
   "cell_type": "code",
   "execution_count": 3,
   "id": "72fd401c-8b8f-4527-bf81-04e962744e23",
   "metadata": {
    "collapsed": false,
    "jupyter": {
     "outputs_hidden": false
    }
   },
   "outputs": [
    {
     "name": "stdout",
     "output_type": "stream",
     "text": [
      "Sequence length: [779.32305908] Mbp\n",
      "Query length:  [256]\n"
     ]
    },
    {
     "data": {
      "text/html": [
       "<div>\n",
       "<style scoped>\n",
       "    .dataframe tbody tr th:only-of-type {\n",
       "        vertical-align: middle;\n",
       "    }\n",
       "\n",
       "    .dataframe tbody tr th {\n",
       "        vertical-align: top;\n",
       "    }\n",
       "\n",
       "    .dataframe thead th {\n",
       "        text-align: right;\n",
       "    }\n",
       "</style>\n",
       "<table border=\"1\" class=\"dataframe\">\n",
       "  <thead>\n",
       "    <tr style=\"text-align: right;\">\n",
       "      <th></th>\n",
       "      <th>l</th>\n",
       "      <th>k</th>\n",
       "      <th>remap</th>\n",
       "      <th>seq_size_MB</th>\n",
       "      <th>total_size_MB</th>\n",
       "      <th>sketch_size_MB</th>\n",
       "      <th>ms_seq_size_MB</th>\n",
       "      <th>sa_size_MB</th>\n",
       "      <th>num_minimizers</th>\n",
       "      <th>build_time</th>\n",
       "      <th>Sketch</th>\n",
       "      <th>Build</th>\n",
       "      <th>query_time</th>\n",
       "      <th>kmer_width_bits</th>\n",
       "      <th>query_mismatch_rel</th>\n",
       "    </tr>\n",
       "  </thead>\n",
       "  <tbody>\n",
       "    <tr>\n",
       "      <th>0</th>\n",
       "      <td>16</td>\n",
       "      <td>4</td>\n",
       "      <td>False</td>\n",
       "      <td>779.3</td>\n",
       "      <td>2,492.3</td>\n",
       "      <td>271.8</td>\n",
       "      <td>444.1</td>\n",
       "      <td>1,776.4</td>\n",
       "      <td>444,107,680.0</td>\n",
       "      <td>63.6</td>\n",
       "      <td>17.1</td>\n",
       "      <td>46.5</td>\n",
       "      <td>10.5</td>\n",
       "      <td>8.0</td>\n",
       "      <td>0.8</td>\n",
       "    </tr>\n",
       "    <tr>\n",
       "      <th>1</th>\n",
       "      <td>16</td>\n",
       "      <td>4</td>\n",
       "      <td>False</td>\n",
       "      <td>779.3</td>\n",
       "      <td>2,048.2</td>\n",
       "      <td>271.8</td>\n",
       "      <td>0.0</td>\n",
       "      <td>1,776.4</td>\n",
       "      <td>444,107,680.0</td>\n",
       "      <td>62.8</td>\n",
       "      <td>16.9</td>\n",
       "      <td>45.9</td>\n",
       "      <td>17.2</td>\n",
       "      <td>8.0</td>\n",
       "      <td>0.8</td>\n",
       "    </tr>\n",
       "    <tr>\n",
       "      <th>2</th>\n",
       "      <td>32</td>\n",
       "      <td>8</td>\n",
       "      <td>False</td>\n",
       "      <td>779.3</td>\n",
       "      <td>1,609.2</td>\n",
       "      <td>172.6</td>\n",
       "      <td>478.8</td>\n",
       "      <td>957.7</td>\n",
       "      <td>239,421,392.0</td>\n",
       "      <td>52.7</td>\n",
       "      <td>13.1</td>\n",
       "      <td>39.6</td>\n",
       "      <td>12.2</td>\n",
       "      <td>16.0</td>\n",
       "      <td>2.0</td>\n",
       "    </tr>\n",
       "    <tr>\n",
       "      <th>3</th>\n",
       "      <td>32</td>\n",
       "      <td>8</td>\n",
       "      <td>False</td>\n",
       "      <td>779.3</td>\n",
       "      <td>1,130.3</td>\n",
       "      <td>172.6</td>\n",
       "      <td>0.0</td>\n",
       "      <td>957.7</td>\n",
       "      <td>239,421,392.0</td>\n",
       "      <td>52.5</td>\n",
       "      <td>13.0</td>\n",
       "      <td>39.6</td>\n",
       "      <td>17.1</td>\n",
       "      <td>16.0</td>\n",
       "      <td>2.0</td>\n",
       "    </tr>\n",
       "    <tr>\n",
       "      <th>4</th>\n",
       "      <td>128</td>\n",
       "      <td>16</td>\n",
       "      <td>False</td>\n",
       "      <td>779.3</td>\n",
       "      <td>490.8</td>\n",
       "      <td>54.1</td>\n",
       "      <td>218.4</td>\n",
       "      <td>218.4</td>\n",
       "      <td>54,590,160.0</td>\n",
       "      <td>25.5</td>\n",
       "      <td>9.8</td>\n",
       "      <td>15.7</td>\n",
       "      <td>20.9</td>\n",
       "      <td>32.0</td>\n",
       "      <td>6.4</td>\n",
       "    </tr>\n",
       "    <tr>\n",
       "      <th>5</th>\n",
       "      <td>128</td>\n",
       "      <td>16</td>\n",
       "      <td>False</td>\n",
       "      <td>779.3</td>\n",
       "      <td>272.4</td>\n",
       "      <td>54.1</td>\n",
       "      <td>0.0</td>\n",
       "      <td>218.4</td>\n",
       "      <td>54,590,160.0</td>\n",
       "      <td>25.1</td>\n",
       "      <td>9.5</td>\n",
       "      <td>15.6</td>\n",
       "      <td>23.7</td>\n",
       "      <td>32.0</td>\n",
       "      <td>6.4</td>\n",
       "    </tr>\n",
       "    <tr>\n",
       "      <th>6</th>\n",
       "      <td>64</td>\n",
       "      <td>16</td>\n",
       "      <td>False</td>\n",
       "      <td>779.3</td>\n",
       "      <td>1,095.4</td>\n",
       "      <td>104.0</td>\n",
       "      <td>495.7</td>\n",
       "      <td>495.7</td>\n",
       "      <td>123,922,656.0</td>\n",
       "      <td>49.8</td>\n",
       "      <td>11.2</td>\n",
       "      <td>38.6</td>\n",
       "      <td>9.9</td>\n",
       "      <td>32.0</td>\n",
       "      <td>1.1</td>\n",
       "    </tr>\n",
       "    <tr>\n",
       "      <th>7</th>\n",
       "      <td>64</td>\n",
       "      <td>16</td>\n",
       "      <td>False</td>\n",
       "      <td>779.3</td>\n",
       "      <td>599.7</td>\n",
       "      <td>104.0</td>\n",
       "      <td>0.0</td>\n",
       "      <td>495.7</td>\n",
       "      <td>123,922,656.0</td>\n",
       "      <td>49.9</td>\n",
       "      <td>10.9</td>\n",
       "      <td>39.0</td>\n",
       "      <td>13.3</td>\n",
       "      <td>32.0</td>\n",
       "      <td>1.1</td>\n",
       "    </tr>\n",
       "    <tr>\n",
       "      <th>8</th>\n",
       "      <td>128</td>\n",
       "      <td>28</td>\n",
       "      <td>False</td>\n",
       "      <td>779.3</td>\n",
       "      <td>747.8</td>\n",
       "      <td>60.2</td>\n",
       "      <td>437.6</td>\n",
       "      <td>250.1</td>\n",
       "      <td>62,514,536.0</td>\n",
       "      <td>43.0</td>\n",
       "      <td>9.4</td>\n",
       "      <td>33.6</td>\n",
       "      <td>12.9</td>\n",
       "      <td>56.0</td>\n",
       "      <td>2.8</td>\n",
       "    </tr>\n",
       "    <tr>\n",
       "      <th>9</th>\n",
       "      <td>128</td>\n",
       "      <td>28</td>\n",
       "      <td>False</td>\n",
       "      <td>779.3</td>\n",
       "      <td>310.2</td>\n",
       "      <td>60.2</td>\n",
       "      <td>0.0</td>\n",
       "      <td>250.1</td>\n",
       "      <td>62,514,536.0</td>\n",
       "      <td>43.1</td>\n",
       "      <td>9.6</td>\n",
       "      <td>33.6</td>\n",
       "      <td>16.1</td>\n",
       "      <td>56.0</td>\n",
       "      <td>2.8</td>\n",
       "    </tr>\n",
       "  </tbody>\n",
       "</table>\n",
       "</div>"
      ],
      "text/plain": [
       "     l   k  remap  seq_size_MB  total_size_MB  sketch_size_MB  ms_seq_size_MB  sa_size_MB  num_minimizers  build_time  Sketch  Build  query_time  kmer_width_bits  query_mismatch_rel\n",
       "0   16   4  False        779.3        2,492.3           271.8           444.1     1,776.4   444,107,680.0        63.6    17.1   46.5        10.5              8.0                 0.8\n",
       "1   16   4  False        779.3        2,048.2           271.8             0.0     1,776.4   444,107,680.0        62.8    16.9   45.9        17.2              8.0                 0.8\n",
       "2   32   8  False        779.3        1,609.2           172.6           478.8       957.7   239,421,392.0        52.7    13.1   39.6        12.2             16.0                 2.0\n",
       "3   32   8  False        779.3        1,130.3           172.6             0.0       957.7   239,421,392.0        52.5    13.0   39.6        17.1             16.0                 2.0\n",
       "4  128  16  False        779.3          490.8            54.1           218.4       218.4    54,590,160.0        25.5     9.8   15.7        20.9             32.0                 6.4\n",
       "5  128  16  False        779.3          272.4            54.1             0.0       218.4    54,590,160.0        25.1     9.5   15.6        23.7             32.0                 6.4\n",
       "6   64  16  False        779.3        1,095.4           104.0           495.7       495.7   123,922,656.0        49.8    11.2   38.6         9.9             32.0                 1.1\n",
       "7   64  16  False        779.3          599.7           104.0             0.0       495.7   123,922,656.0        49.9    10.9   39.0        13.3             32.0                 1.1\n",
       "8  128  28  False        779.3          747.8            60.2           437.6       250.1    62,514,536.0        43.0     9.4   33.6        12.9             56.0                 2.8\n",
       "9  128  28  False        779.3          310.2            60.2             0.0       250.1    62,514,536.0        43.1     9.6   33.6        16.1             56.0                 2.8"
      ]
     },
     "execution_count": 3,
     "metadata": {},
     "output_type": "execute_result"
    }
   ],
   "source": [
    "import pandas as pd\n",
    "\n",
    "pd.set_option('display.max_columns', 500)\n",
    "pd.set_option('display.width', 240)\n",
    "pd.set_option('display.precision', 2)\n",
    "pd.options.display.float_format = \"{:,.1f}\".format\n",
    "\n",
    "rs = results[:]\n",
    "rs = pd.DataFrame(rs)\n",
    "rs = rs[(rs.compress==True) | (rs.k==0)]\n",
    "#rs = rs[rs.remap==False]\n",
    "# display(rs)\n",
    "rs['query_mismatch_rel'] = rs['query_mismatches'] / rs['query_matches']\n",
    "rs['query_misaligned_rel'] = rs['query_misaligned_ms_pos'] / rs['query_matches']\n",
    "print('Sequence length:', rs['seq_size_MB'].unique(), 'Mbp')\n",
    "print('Query length: ', rs['query_length'].unique())\n",
    "sub = rs[['l', 'k', 'remap', 'seq_size_MB', 'total_size_MB', 'sketch_size_MB', 'ms_seq_size_MB', 'sa_size_MB', 'num_minimizers', 'build_time', 'Sketch', 'Build', 'query_time', 'kmer_width_bits', 'query_mismatch_rel']]\n",
    "sub\n"
   ]
  },
  {
   "cell_type": "code",
   "execution_count": null,
   "id": "95a25bee-663a-4a06-81d7-cb22425d96a9",
   "metadata": {
    "collapsed": false,
    "jupyter": {
     "outputs_hidden": false
    }
   },
   "outputs": [],
   "source": [
    "sub.loc[[0,2,6,8,10,14,16]].sort_values('k')\n"
   ]
  }
 ],
 "metadata": {
  "kernelspec": {
   "display_name": "Python 3 (ipykernel)",
   "language": "python",
   "name": "python3"
  },
  "language_info": {
   "codemirror_mode": {
    "name": "ipython",
    "version": 3
   },
   "file_extension": ".py",
   "mimetype": "text/x-python",
   "name": "python",
   "nbconvert_exporter": "python",
   "pygments_lexer": "ipython3",
   "version": "3.12.6"
  },
  "name": "eval.ipynb"
 },
 "nbformat": 4,
 "nbformat_minor": 5
}
